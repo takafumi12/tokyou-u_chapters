{
 "cells": [
  {
   "cell_type": "markdown",
   "metadata": {
    "nbpresent": {
     "id": "af88da20-0f51-483e-bd72-afc896a9da05"
    }
   },
   "source": [
    "# 3 記述統計学と単回帰分析"
   ]
  },
  {
   "cell_type": "markdown",
   "metadata": {},
   "source": [
    "- **[3.1 記述統計学と単回帰分析](#3.1-記述統計学と単回帰分析)** \n",
    "    - [3.1.1 記述統計学](#3.1.1-記述統計学)\n",
    "    - [3.1.2 単回帰分析](#3.1.2-単回帰分析)\n",
    "<br><br>\n",
    "- **[3.2 総合問題](#3.2-総合問題)**\n",
    "    - [3.2.1 統計の基礎と可視化](#3.2.1-統計の基礎と可視化)\n",
    "    - [3.2.2 ローレンツ曲線とジニ係数](#3.2.2-ローレンツ曲線とジニ係数)"
   ]
  },
  {
   "cell_type": "markdown",
   "metadata": {},
   "source": [
    "***"
   ]
  },
  {
   "cell_type": "markdown",
   "metadata": {
    "nbpresent": {
     "id": "b5e81c61-d695-4fc4-b784-45ed41026d4a"
    }
   },
   "source": [
    "## 3.1 記述統計学と単回帰分析\n",
    "\n",
    "ゴール：csvファイルのデータを読み込み、基礎的な統計量の算出と可視化、単回帰分析ができる"
   ]
  },
  {
   "cell_type": "code",
   "execution_count": 45,
   "metadata": {
    "collapsed": false,
    "jupyter": {
     "outputs_hidden": false
    },
    "scrolled": true
   },
   "outputs": [
    {
     "data": {
      "text/plain": [
       "'%.3f'"
      ]
     },
     "execution_count": 45,
     "metadata": {},
     "output_type": "execute_result"
    }
   ],
   "source": [
    "# 以下のモジュールを使うので、あらかじめ読み込んでおいてください\n",
    "import numpy as np\n",
    "import numpy.random as random\n",
    "import scipy as sp\n",
    "import pandas as pd\n",
    "from pandas import Series, DataFrame\n",
    "\n",
    "# 可視化モジュール\n",
    "import matplotlib.pyplot as plt\n",
    "import matplotlib as mpl\n",
    "import seaborn as sns\n",
    "%matplotlib inline\n",
    "\n",
    "# 小数第３まで表示\n",
    "%precision 3"
   ]
  },
  {
   "cell_type": "markdown",
   "metadata": {
    "nbpresent": {
     "id": "aa08360f-e7dd-4647-bbfb-cadd5f19af31"
    }
   },
   "source": [
    "### 3.1.1 記述統計学\n",
    "キーワード：記述統計学、量的データ、質的データ、ヒストグラム、四分位範囲、要約統計量、平均、分散、標準偏差、変動係数、散布図、相関係数"
   ]
  },
  {
   "cell_type": "markdown",
   "metadata": {},
   "source": [
    "これまではPythonといくつのモジュールについて、基本的な使い方を説明してきました。本章からはそれらを活用して、実際のデータと対話してみましょう。次は、今回使うデータ（Zipファイル）をウェブ上から直接ダウンロードし、展開するためのモジュールになります。"
   ]
  },
  {
   "cell_type": "code",
   "execution_count": 2,
   "metadata": {},
   "outputs": [],
   "source": [
    "# webからデータを取得したり、zipファイルを扱うためのモジュール\n",
    "import requests, zipfile\n",
    "from io import StringIO\n",
    "import io"
   ]
  },
  {
   "cell_type": "markdown",
   "metadata": {},
   "source": [
    "コマンドライン等に慣れていな人のため、次のコマンドは現在どこのディレクトリ（フォルダ）にいるか出力するための命令です。なお、注意点として、同じセル内に、コマンドラインとpythonのコードを一緒にして実行はできません。それぞれ別のセルに分けてコーディングして、実行しましょう。"
   ]
  },
  {
   "cell_type": "code",
   "execution_count": 20,
   "metadata": {
    "collapsed": false,
    "jupyter": {
     "outputs_hidden": false
    }
   },
   "outputs": [
    {
     "data": {
      "text/plain": [
       "'C:\\\\Users\\\\v77007088\\\\Data_science'"
      ]
     },
     "execution_count": 20,
     "metadata": {},
     "output_type": "execute_result"
    }
   ],
   "source": [
    "pwd"
   ]
  },
  {
   "cell_type": "markdown",
   "metadata": {},
   "source": [
    "この章のためにフォルダを作成しましょう。以下の「mkdir name」はnameというフォルダを作成します。"
   ]
  },
  {
   "cell_type": "code",
   "execution_count": 21,
   "metadata": {},
   "outputs": [],
   "source": [
    "mkdir chap2"
   ]
  },
  {
   "cell_type": "markdown",
   "metadata": {},
   "source": [
    "次の「cd adress」は該当のフォルダ（ディレクトリ）に移動するコマンドです。"
   ]
  },
  {
   "cell_type": "code",
   "execution_count": 3,
   "metadata": {
    "collapsed": false,
    "jupyter": {
     "outputs_hidden": false
    }
   },
   "outputs": [
    {
     "name": "stdout",
     "output_type": "stream",
     "text": [
      "C:\\Users\\v77007088\\Data_science\\chap2\n"
     ]
    }
   ],
   "source": [
    "cd ./chap2"
   ]
  },
  {
   "cell_type": "markdown",
   "metadata": {},
   "source": [
    "次に、該当のデータをインターネットからダウンロードし、zipファイルを展開しましょう。以下がその処理となります。以下のコードはデータがあるurlを指定して、zipファイルを取得し、展開しています。"
   ]
  },
  {
   "cell_type": "code",
   "execution_count": 4,
   "metadata": {},
   "outputs": [],
   "source": [
    "# データがあるurl の指定\n",
    "zip_file_url = \"http://archive.ics.uci.edu/ml/machine-learning-databases/00356/student.zip\"\n",
    "\n",
    "# データをurlから取得する\n",
    "r = requests.get(zip_file_url, stream=True)\n",
    "\n",
    "# zipfileを読み込み展開する\n",
    "z = zipfile.ZipFile(io.BytesIO(r.content))\n",
    "z.extractall()"
   ]
  },
  {
   "cell_type": "markdown",
   "metadata": {},
   "source": [
    "データがちゃんとダウンロードされ、展開しているかチェックしましょう。次のコマンド「ls」を実行すると、今いるフォルダ（ディレクトリ）にあるファイル等を表示します。"
   ]
  },
  {
   "cell_type": "code",
   "execution_count": 6,
   "metadata": {},
   "outputs": [
    {
     "name": "stdout",
     "output_type": "stream",
     "text": [
      " ドライブ C のボリューム ラベルがありません。\n",
      " ボリューム シリアル番号は 52F3-3481 です\n",
      "\n",
      " C:\\Users\\v77007088\\chap2 のディレクトリ\n",
      "\n",
      "2019/11/06  11:54    <DIR>          .\n",
      "2019/11/06  11:54    <DIR>          ..\n",
      "2019/11/12  10:43             3,206 student.txt\n",
      "2019/11/12  10:43            56,993 student-mat.csv\n",
      "2019/11/12  10:43               269 student-merge.R\n",
      "2019/11/12  10:43            93,220 student-por.csv\n",
      "               4 個のファイル             153,688 バイト\n",
      "               2 個のディレクトリ  176,394,137,600 バイトの空き領域\n"
     ]
    }
   ],
   "source": [
    "ls"
   ]
  },
  {
   "cell_type": "markdown",
   "metadata": {},
   "source": [
    "この講座で使うデータは、「student-mat.csv」と「student-por.csv」になります。はじめに、「student-mat.csv」がどんなデータなのか観察していきます。（後の練習問題で「student-por.csv」と合わせたデータを使うことにします。）\n",
    "\n",
    "次はpd.read_csvを使い、対象のデータファイル名をpandasのデータフレームとして扱います。"
   ]
  },
  {
   "cell_type": "code",
   "execution_count": 4,
   "metadata": {},
   "outputs": [],
   "source": [
    "student_data_math = pd.read_csv(\"student-mat.csv\")"
   ]
  },
  {
   "cell_type": "markdown",
   "metadata": {},
   "source": [
    "データを読み込んだ後は、このデータにどんなカラムやデータが入っているかサンプルを見てみましょう。その場合、head()を使います。デフォルトでは5行表示されますが、行数を指定したい場合は、head(10)などとします。"
   ]
  },
  {
   "cell_type": "code",
   "execution_count": 8,
   "metadata": {
    "collapsed": false,
    "jupyter": {
     "outputs_hidden": false
    }
   },
   "outputs": [
    {
     "data": {
      "text/html": [
       "<div>\n",
       "<style scoped>\n",
       "    .dataframe tbody tr th:only-of-type {\n",
       "        vertical-align: middle;\n",
       "    }\n",
       "\n",
       "    .dataframe tbody tr th {\n",
       "        vertical-align: top;\n",
       "    }\n",
       "\n",
       "    .dataframe thead th {\n",
       "        text-align: right;\n",
       "    }\n",
       "</style>\n",
       "<table border=\"1\" class=\"dataframe\">\n",
       "  <thead>\n",
       "    <tr style=\"text-align: right;\">\n",
       "      <th></th>\n",
       "      <th>school;sex;age;address;famsize;Pstatus;Medu;Fedu;Mjob;Fjob;reason;guardian;traveltime;studytime;failures;schoolsup;famsup;paid;activities;nursery;higher;internet;romantic;famrel;freetime;goout;Dalc;Walc;health;absences;G1;G2;G3</th>\n",
       "    </tr>\n",
       "  </thead>\n",
       "  <tbody>\n",
       "    <tr>\n",
       "      <th>0</th>\n",
       "      <td>GP;\"F\";18;\"U\";\"GT3\";\"A\";4;4;\"at_home\";\"teacher...</td>\n",
       "    </tr>\n",
       "    <tr>\n",
       "      <th>1</th>\n",
       "      <td>GP;\"F\";17;\"U\";\"GT3\";\"T\";1;1;\"at_home\";\"other\";...</td>\n",
       "    </tr>\n",
       "    <tr>\n",
       "      <th>2</th>\n",
       "      <td>GP;\"F\";15;\"U\";\"LE3\";\"T\";1;1;\"at_home\";\"other\";...</td>\n",
       "    </tr>\n",
       "    <tr>\n",
       "      <th>3</th>\n",
       "      <td>GP;\"F\";15;\"U\";\"GT3\";\"T\";4;2;\"health\";\"services...</td>\n",
       "    </tr>\n",
       "    <tr>\n",
       "      <th>4</th>\n",
       "      <td>GP;\"F\";16;\"U\";\"GT3\";\"T\";3;3;\"other\";\"other\";\"h...</td>\n",
       "    </tr>\n",
       "  </tbody>\n",
       "</table>\n",
       "</div>"
      ],
      "text/plain": [
       "  school;sex;age;address;famsize;Pstatus;Medu;Fedu;Mjob;Fjob;reason;guardian;traveltime;studytime;failures;schoolsup;famsup;paid;activities;nursery;higher;internet;romantic;famrel;freetime;goout;Dalc;Walc;health;absences;G1;G2;G3\n",
       "0  GP;\"F\";18;\"U\";\"GT3\";\"A\";4;4;\"at_home\";\"teacher...                                                                                                                                                                                 \n",
       "1  GP;\"F\";17;\"U\";\"GT3\";\"T\";1;1;\"at_home\";\"other\";...                                                                                                                                                                                 \n",
       "2  GP;\"F\";15;\"U\";\"LE3\";\"T\";1;1;\"at_home\";\"other\";...                                                                                                                                                                                 \n",
       "3  GP;\"F\";15;\"U\";\"GT3\";\"T\";4;2;\"health\";\"services...                                                                                                                                                                                 \n",
       "4  GP;\"F\";16;\"U\";\"GT3\";\"T\";3;3;\"other\";\"other\";\"h...                                                                                                                                                                                 "
      ]
     },
     "execution_count": 8,
     "metadata": {},
     "output_type": "execute_result"
    }
   ],
   "source": [
    "student_data_math.head()"
   ]
  },
  {
   "cell_type": "markdown",
   "metadata": {},
   "source": [
    "データが入っているのはわかりますが、このままではデータが大変扱いにくいです。よくデータを見てみると、区切り文字は「;」となっています。実は、このread_csvはsepのパラメータ設定が可能で、区切り文字を指定できます。この区切り文字は、csvファイルだと「,」であることがほとんどで、デフォルトはこれで設定されていますが、今回は「;」ですので、これを区切り文字として指定して、データを再度読み込みましょう。"
   ]
  },
  {
   "cell_type": "code",
   "execution_count": 5,
   "metadata": {
    "nbpresent": {
     "id": "f581b3c5-979f-4ad2-95b7-e89dc86afee3"
    }
   },
   "outputs": [],
   "source": [
    "# データの読み込み\n",
    "# 区切りが;ついているので注意\n",
    "student_data_math = pd.read_csv(\"student-mat.csv\", sep=\";\")"
   ]
  },
  {
   "cell_type": "code",
   "execution_count": 11,
   "metadata": {
    "collapsed": false,
    "jupyter": {
     "outputs_hidden": false
    },
    "nbpresent": {
     "id": "ddd82eaf-9b54-48bf-ac57-aa797a3a970a"
    }
   },
   "outputs": [
    {
     "data": {
      "text/html": [
       "<div>\n",
       "<style scoped>\n",
       "    .dataframe tbody tr th:only-of-type {\n",
       "        vertical-align: middle;\n",
       "    }\n",
       "\n",
       "    .dataframe tbody tr th {\n",
       "        vertical-align: top;\n",
       "    }\n",
       "\n",
       "    .dataframe thead th {\n",
       "        text-align: right;\n",
       "    }\n",
       "</style>\n",
       "<table border=\"1\" class=\"dataframe\">\n",
       "  <thead>\n",
       "    <tr style=\"text-align: right;\">\n",
       "      <th></th>\n",
       "      <th>school</th>\n",
       "      <th>sex</th>\n",
       "      <th>age</th>\n",
       "      <th>address</th>\n",
       "      <th>famsize</th>\n",
       "      <th>Pstatus</th>\n",
       "      <th>Medu</th>\n",
       "      <th>Fedu</th>\n",
       "      <th>Mjob</th>\n",
       "      <th>Fjob</th>\n",
       "      <th>...</th>\n",
       "      <th>famrel</th>\n",
       "      <th>freetime</th>\n",
       "      <th>goout</th>\n",
       "      <th>Dalc</th>\n",
       "      <th>Walc</th>\n",
       "      <th>health</th>\n",
       "      <th>absences</th>\n",
       "      <th>G1</th>\n",
       "      <th>G2</th>\n",
       "      <th>G3</th>\n",
       "    </tr>\n",
       "  </thead>\n",
       "  <tbody>\n",
       "    <tr>\n",
       "      <th>0</th>\n",
       "      <td>GP</td>\n",
       "      <td>F</td>\n",
       "      <td>18</td>\n",
       "      <td>U</td>\n",
       "      <td>GT3</td>\n",
       "      <td>A</td>\n",
       "      <td>4</td>\n",
       "      <td>4</td>\n",
       "      <td>at_home</td>\n",
       "      <td>teacher</td>\n",
       "      <td>...</td>\n",
       "      <td>4</td>\n",
       "      <td>3</td>\n",
       "      <td>4</td>\n",
       "      <td>1</td>\n",
       "      <td>1</td>\n",
       "      <td>3</td>\n",
       "      <td>6</td>\n",
       "      <td>5</td>\n",
       "      <td>6</td>\n",
       "      <td>6</td>\n",
       "    </tr>\n",
       "    <tr>\n",
       "      <th>1</th>\n",
       "      <td>GP</td>\n",
       "      <td>F</td>\n",
       "      <td>17</td>\n",
       "      <td>U</td>\n",
       "      <td>GT3</td>\n",
       "      <td>T</td>\n",
       "      <td>1</td>\n",
       "      <td>1</td>\n",
       "      <td>at_home</td>\n",
       "      <td>other</td>\n",
       "      <td>...</td>\n",
       "      <td>5</td>\n",
       "      <td>3</td>\n",
       "      <td>3</td>\n",
       "      <td>1</td>\n",
       "      <td>1</td>\n",
       "      <td>3</td>\n",
       "      <td>4</td>\n",
       "      <td>5</td>\n",
       "      <td>5</td>\n",
       "      <td>6</td>\n",
       "    </tr>\n",
       "    <tr>\n",
       "      <th>2</th>\n",
       "      <td>GP</td>\n",
       "      <td>F</td>\n",
       "      <td>15</td>\n",
       "      <td>U</td>\n",
       "      <td>LE3</td>\n",
       "      <td>T</td>\n",
       "      <td>1</td>\n",
       "      <td>1</td>\n",
       "      <td>at_home</td>\n",
       "      <td>other</td>\n",
       "      <td>...</td>\n",
       "      <td>4</td>\n",
       "      <td>3</td>\n",
       "      <td>2</td>\n",
       "      <td>2</td>\n",
       "      <td>3</td>\n",
       "      <td>3</td>\n",
       "      <td>10</td>\n",
       "      <td>7</td>\n",
       "      <td>8</td>\n",
       "      <td>10</td>\n",
       "    </tr>\n",
       "    <tr>\n",
       "      <th>3</th>\n",
       "      <td>GP</td>\n",
       "      <td>F</td>\n",
       "      <td>15</td>\n",
       "      <td>U</td>\n",
       "      <td>GT3</td>\n",
       "      <td>T</td>\n",
       "      <td>4</td>\n",
       "      <td>2</td>\n",
       "      <td>health</td>\n",
       "      <td>services</td>\n",
       "      <td>...</td>\n",
       "      <td>3</td>\n",
       "      <td>2</td>\n",
       "      <td>2</td>\n",
       "      <td>1</td>\n",
       "      <td>1</td>\n",
       "      <td>5</td>\n",
       "      <td>2</td>\n",
       "      <td>15</td>\n",
       "      <td>14</td>\n",
       "      <td>15</td>\n",
       "    </tr>\n",
       "    <tr>\n",
       "      <th>4</th>\n",
       "      <td>GP</td>\n",
       "      <td>F</td>\n",
       "      <td>16</td>\n",
       "      <td>U</td>\n",
       "      <td>GT3</td>\n",
       "      <td>T</td>\n",
       "      <td>3</td>\n",
       "      <td>3</td>\n",
       "      <td>other</td>\n",
       "      <td>other</td>\n",
       "      <td>...</td>\n",
       "      <td>4</td>\n",
       "      <td>3</td>\n",
       "      <td>2</td>\n",
       "      <td>1</td>\n",
       "      <td>2</td>\n",
       "      <td>5</td>\n",
       "      <td>4</td>\n",
       "      <td>6</td>\n",
       "      <td>10</td>\n",
       "      <td>10</td>\n",
       "    </tr>\n",
       "  </tbody>\n",
       "</table>\n",
       "<p>5 rows × 33 columns</p>\n",
       "</div>"
      ],
      "text/plain": [
       "  school sex  age address famsize Pstatus  Medu  Fedu     Mjob      Fjob  ...  \\\n",
       "0     GP   F   18       U     GT3       A     4     4  at_home   teacher  ...   \n",
       "1     GP   F   17       U     GT3       T     1     1  at_home     other  ...   \n",
       "2     GP   F   15       U     LE3       T     1     1  at_home     other  ...   \n",
       "3     GP   F   15       U     GT3       T     4     2   health  services  ...   \n",
       "4     GP   F   16       U     GT3       T     3     3    other     other  ...   \n",
       "\n",
       "  famrel freetime  goout  Dalc  Walc health absences  G1  G2  G3  \n",
       "0      4        3      4     1     1      3        6   5   6   6  \n",
       "1      5        3      3     1     1      3        4   5   5   6  \n",
       "2      4        3      2     2     3      3       10   7   8  10  \n",
       "3      3        2      2     1     1      5        2  15  14  15  \n",
       "4      4        3      2     1     2      5        4   6  10  10  \n",
       "\n",
       "[5 rows x 33 columns]"
      ]
     },
     "execution_count": 11,
     "metadata": {},
     "output_type": "execute_result"
    }
   ],
   "source": [
    "# どんなデータがあるかざっと見る\n",
    "student_data_math.head()"
   ]
  },
  {
   "cell_type": "markdown",
   "metadata": {},
   "source": [
    "これでだいぶ見やすくなりました。なお、教科書的には、いきなり「;」で設定してやることが多いのですが、まだ何も知らない見たこともないデータに対して、1回の処理でそれがわかるというのは難しいです。データ分析の実務ではこういう試行錯誤があることも度々ありますので、あえてそのまま実施してみました。\n",
    "\n",
    "なお、この「read_csv」については、パラメータがいくつかあり、データ名（アドレス含む）、区切り文字、ヘッダーがあるかないかを指定します。詳しくは、?pd.read_csvを実行して、どんなパラメータ等が設定できるのか調べてみましょう。"
   ]
  },
  {
   "cell_type": "code",
   "execution_count": 12,
   "metadata": {},
   "outputs": [
    {
     "data": {
      "text/plain": [
       "\u001b[1;31mSignature:\u001b[0m\n",
       "\u001b[0mpd\u001b[0m\u001b[1;33m.\u001b[0m\u001b[0mread_csv\u001b[0m\u001b[1;33m(\u001b[0m\u001b[1;33m\n",
       "\u001b[0m    \u001b[0mfilepath_or_buffer\u001b[0m\u001b[1;33m,\u001b[0m\u001b[1;33m\n",
       "\u001b[0m    \u001b[0msep\u001b[0m\u001b[1;33m=\u001b[0m\u001b[1;34m','\u001b[0m\u001b[1;33m,\u001b[0m\u001b[1;33m\n",
       "\u001b[0m    \u001b[0mdelimiter\u001b[0m\u001b[1;33m=\u001b[0m\u001b[1;32mNone\u001b[0m\u001b[1;33m,\u001b[0m\u001b[1;33m\n",
       "\u001b[0m    \u001b[0mheader\u001b[0m\u001b[1;33m=\u001b[0m\u001b[1;34m'infer'\u001b[0m\u001b[1;33m,\u001b[0m\u001b[1;33m\n",
       "\u001b[0m    \u001b[0mnames\u001b[0m\u001b[1;33m=\u001b[0m\u001b[1;32mNone\u001b[0m\u001b[1;33m,\u001b[0m\u001b[1;33m\n",
       "\u001b[0m    \u001b[0mindex_col\u001b[0m\u001b[1;33m=\u001b[0m\u001b[1;32mNone\u001b[0m\u001b[1;33m,\u001b[0m\u001b[1;33m\n",
       "\u001b[0m    \u001b[0musecols\u001b[0m\u001b[1;33m=\u001b[0m\u001b[1;32mNone\u001b[0m\u001b[1;33m,\u001b[0m\u001b[1;33m\n",
       "\u001b[0m    \u001b[0msqueeze\u001b[0m\u001b[1;33m=\u001b[0m\u001b[1;32mFalse\u001b[0m\u001b[1;33m,\u001b[0m\u001b[1;33m\n",
       "\u001b[0m    \u001b[0mprefix\u001b[0m\u001b[1;33m=\u001b[0m\u001b[1;32mNone\u001b[0m\u001b[1;33m,\u001b[0m\u001b[1;33m\n",
       "\u001b[0m    \u001b[0mmangle_dupe_cols\u001b[0m\u001b[1;33m=\u001b[0m\u001b[1;32mTrue\u001b[0m\u001b[1;33m,\u001b[0m\u001b[1;33m\n",
       "\u001b[0m    \u001b[0mdtype\u001b[0m\u001b[1;33m=\u001b[0m\u001b[1;32mNone\u001b[0m\u001b[1;33m,\u001b[0m\u001b[1;33m\n",
       "\u001b[0m    \u001b[0mengine\u001b[0m\u001b[1;33m=\u001b[0m\u001b[1;32mNone\u001b[0m\u001b[1;33m,\u001b[0m\u001b[1;33m\n",
       "\u001b[0m    \u001b[0mconverters\u001b[0m\u001b[1;33m=\u001b[0m\u001b[1;32mNone\u001b[0m\u001b[1;33m,\u001b[0m\u001b[1;33m\n",
       "\u001b[0m    \u001b[0mtrue_values\u001b[0m\u001b[1;33m=\u001b[0m\u001b[1;32mNone\u001b[0m\u001b[1;33m,\u001b[0m\u001b[1;33m\n",
       "\u001b[0m    \u001b[0mfalse_values\u001b[0m\u001b[1;33m=\u001b[0m\u001b[1;32mNone\u001b[0m\u001b[1;33m,\u001b[0m\u001b[1;33m\n",
       "\u001b[0m    \u001b[0mskipinitialspace\u001b[0m\u001b[1;33m=\u001b[0m\u001b[1;32mFalse\u001b[0m\u001b[1;33m,\u001b[0m\u001b[1;33m\n",
       "\u001b[0m    \u001b[0mskiprows\u001b[0m\u001b[1;33m=\u001b[0m\u001b[1;32mNone\u001b[0m\u001b[1;33m,\u001b[0m\u001b[1;33m\n",
       "\u001b[0m    \u001b[0mskipfooter\u001b[0m\u001b[1;33m=\u001b[0m\u001b[1;36m0\u001b[0m\u001b[1;33m,\u001b[0m\u001b[1;33m\n",
       "\u001b[0m    \u001b[0mnrows\u001b[0m\u001b[1;33m=\u001b[0m\u001b[1;32mNone\u001b[0m\u001b[1;33m,\u001b[0m\u001b[1;33m\n",
       "\u001b[0m    \u001b[0mna_values\u001b[0m\u001b[1;33m=\u001b[0m\u001b[1;32mNone\u001b[0m\u001b[1;33m,\u001b[0m\u001b[1;33m\n",
       "\u001b[0m    \u001b[0mkeep_default_na\u001b[0m\u001b[1;33m=\u001b[0m\u001b[1;32mTrue\u001b[0m\u001b[1;33m,\u001b[0m\u001b[1;33m\n",
       "\u001b[0m    \u001b[0mna_filter\u001b[0m\u001b[1;33m=\u001b[0m\u001b[1;32mTrue\u001b[0m\u001b[1;33m,\u001b[0m\u001b[1;33m\n",
       "\u001b[0m    \u001b[0mverbose\u001b[0m\u001b[1;33m=\u001b[0m\u001b[1;32mFalse\u001b[0m\u001b[1;33m,\u001b[0m\u001b[1;33m\n",
       "\u001b[0m    \u001b[0mskip_blank_lines\u001b[0m\u001b[1;33m=\u001b[0m\u001b[1;32mTrue\u001b[0m\u001b[1;33m,\u001b[0m\u001b[1;33m\n",
       "\u001b[0m    \u001b[0mparse_dates\u001b[0m\u001b[1;33m=\u001b[0m\u001b[1;32mFalse\u001b[0m\u001b[1;33m,\u001b[0m\u001b[1;33m\n",
       "\u001b[0m    \u001b[0minfer_datetime_format\u001b[0m\u001b[1;33m=\u001b[0m\u001b[1;32mFalse\u001b[0m\u001b[1;33m,\u001b[0m\u001b[1;33m\n",
       "\u001b[0m    \u001b[0mkeep_date_col\u001b[0m\u001b[1;33m=\u001b[0m\u001b[1;32mFalse\u001b[0m\u001b[1;33m,\u001b[0m\u001b[1;33m\n",
       "\u001b[0m    \u001b[0mdate_parser\u001b[0m\u001b[1;33m=\u001b[0m\u001b[1;32mNone\u001b[0m\u001b[1;33m,\u001b[0m\u001b[1;33m\n",
       "\u001b[0m    \u001b[0mdayfirst\u001b[0m\u001b[1;33m=\u001b[0m\u001b[1;32mFalse\u001b[0m\u001b[1;33m,\u001b[0m\u001b[1;33m\n",
       "\u001b[0m    \u001b[0miterator\u001b[0m\u001b[1;33m=\u001b[0m\u001b[1;32mFalse\u001b[0m\u001b[1;33m,\u001b[0m\u001b[1;33m\n",
       "\u001b[0m    \u001b[0mchunksize\u001b[0m\u001b[1;33m=\u001b[0m\u001b[1;32mNone\u001b[0m\u001b[1;33m,\u001b[0m\u001b[1;33m\n",
       "\u001b[0m    \u001b[0mcompression\u001b[0m\u001b[1;33m=\u001b[0m\u001b[1;34m'infer'\u001b[0m\u001b[1;33m,\u001b[0m\u001b[1;33m\n",
       "\u001b[0m    \u001b[0mthousands\u001b[0m\u001b[1;33m=\u001b[0m\u001b[1;32mNone\u001b[0m\u001b[1;33m,\u001b[0m\u001b[1;33m\n",
       "\u001b[0m    \u001b[0mdecimal\u001b[0m\u001b[1;33m=\u001b[0m\u001b[1;34mb'.'\u001b[0m\u001b[1;33m,\u001b[0m\u001b[1;33m\n",
       "\u001b[0m    \u001b[0mlineterminator\u001b[0m\u001b[1;33m=\u001b[0m\u001b[1;32mNone\u001b[0m\u001b[1;33m,\u001b[0m\u001b[1;33m\n",
       "\u001b[0m    \u001b[0mquotechar\u001b[0m\u001b[1;33m=\u001b[0m\u001b[1;34m'\"'\u001b[0m\u001b[1;33m,\u001b[0m\u001b[1;33m\n",
       "\u001b[0m    \u001b[0mquoting\u001b[0m\u001b[1;33m=\u001b[0m\u001b[1;36m0\u001b[0m\u001b[1;33m,\u001b[0m\u001b[1;33m\n",
       "\u001b[0m    \u001b[0mdoublequote\u001b[0m\u001b[1;33m=\u001b[0m\u001b[1;32mTrue\u001b[0m\u001b[1;33m,\u001b[0m\u001b[1;33m\n",
       "\u001b[0m    \u001b[0mescapechar\u001b[0m\u001b[1;33m=\u001b[0m\u001b[1;32mNone\u001b[0m\u001b[1;33m,\u001b[0m\u001b[1;33m\n",
       "\u001b[0m    \u001b[0mcomment\u001b[0m\u001b[1;33m=\u001b[0m\u001b[1;32mNone\u001b[0m\u001b[1;33m,\u001b[0m\u001b[1;33m\n",
       "\u001b[0m    \u001b[0mencoding\u001b[0m\u001b[1;33m=\u001b[0m\u001b[1;32mNone\u001b[0m\u001b[1;33m,\u001b[0m\u001b[1;33m\n",
       "\u001b[0m    \u001b[0mdialect\u001b[0m\u001b[1;33m=\u001b[0m\u001b[1;32mNone\u001b[0m\u001b[1;33m,\u001b[0m\u001b[1;33m\n",
       "\u001b[0m    \u001b[0mtupleize_cols\u001b[0m\u001b[1;33m=\u001b[0m\u001b[1;32mNone\u001b[0m\u001b[1;33m,\u001b[0m\u001b[1;33m\n",
       "\u001b[0m    \u001b[0merror_bad_lines\u001b[0m\u001b[1;33m=\u001b[0m\u001b[1;32mTrue\u001b[0m\u001b[1;33m,\u001b[0m\u001b[1;33m\n",
       "\u001b[0m    \u001b[0mwarn_bad_lines\u001b[0m\u001b[1;33m=\u001b[0m\u001b[1;32mTrue\u001b[0m\u001b[1;33m,\u001b[0m\u001b[1;33m\n",
       "\u001b[0m    \u001b[0mdelim_whitespace\u001b[0m\u001b[1;33m=\u001b[0m\u001b[1;32mFalse\u001b[0m\u001b[1;33m,\u001b[0m\u001b[1;33m\n",
       "\u001b[0m    \u001b[0mlow_memory\u001b[0m\u001b[1;33m=\u001b[0m\u001b[1;32mTrue\u001b[0m\u001b[1;33m,\u001b[0m\u001b[1;33m\n",
       "\u001b[0m    \u001b[0mmemory_map\u001b[0m\u001b[1;33m=\u001b[0m\u001b[1;32mFalse\u001b[0m\u001b[1;33m,\u001b[0m\u001b[1;33m\n",
       "\u001b[0m    \u001b[0mfloat_precision\u001b[0m\u001b[1;33m=\u001b[0m\u001b[1;32mNone\u001b[0m\u001b[1;33m,\u001b[0m\u001b[1;33m\n",
       "\u001b[0m\u001b[1;33m)\u001b[0m\u001b[1;33m\u001b[0m\u001b[1;33m\u001b[0m\u001b[0m\n",
       "\u001b[1;31mDocstring:\u001b[0m\n",
       "Read a comma-separated values (csv) file into DataFrame.\n",
       "\n",
       "Also supports optionally iterating or breaking of the file\n",
       "into chunks.\n",
       "\n",
       "Additional help can be found in the online docs for\n",
       "`IO Tools <http://pandas.pydata.org/pandas-docs/stable/io.html>`_.\n",
       "\n",
       "Parameters\n",
       "----------\n",
       "filepath_or_buffer : str, path object, or file-like object\n",
       "    Any valid string path is acceptable. The string could be a URL. Valid\n",
       "    URL schemes include http, ftp, s3, and file. For file URLs, a host is\n",
       "    expected. A local file could be: file://localhost/path/to/table.csv.\n",
       "\n",
       "    If you want to pass in a path object, pandas accepts either\n",
       "    ``pathlib.Path`` or ``py._path.local.LocalPath``.\n",
       "\n",
       "    By file-like object, we refer to objects with a ``read()`` method, such as\n",
       "    a file handler (e.g. via builtin ``open`` function) or ``StringIO``.\n",
       "sep : str, default ','\n",
       "    Delimiter to use. If sep is None, the C engine cannot automatically detect\n",
       "    the separator, but the Python parsing engine can, meaning the latter will\n",
       "    be used and automatically detect the separator by Python's builtin sniffer\n",
       "    tool, ``csv.Sniffer``. In addition, separators longer than 1 character and\n",
       "    different from ``'\\s+'`` will be interpreted as regular expressions and\n",
       "    will also force the use of the Python parsing engine. Note that regex\n",
       "    delimiters are prone to ignoring quoted data. Regex example: ``'\\r\\t'``.\n",
       "delimiter : str, default ``None``\n",
       "    Alias for sep.\n",
       "header : int, list of int, default 'infer'\n",
       "    Row number(s) to use as the column names, and the start of the\n",
       "    data.  Default behavior is to infer the column names: if no names\n",
       "    are passed the behavior is identical to ``header=0`` and column\n",
       "    names are inferred from the first line of the file, if column\n",
       "    names are passed explicitly then the behavior is identical to\n",
       "    ``header=None``. Explicitly pass ``header=0`` to be able to\n",
       "    replace existing names. The header can be a list of integers that\n",
       "    specify row locations for a multi-index on the columns\n",
       "    e.g. [0,1,3]. Intervening rows that are not specified will be\n",
       "    skipped (e.g. 2 in this example is skipped). Note that this\n",
       "    parameter ignores commented lines and empty lines if\n",
       "    ``skip_blank_lines=True``, so ``header=0`` denotes the first line of\n",
       "    data rather than the first line of the file.\n",
       "names : array-like, optional\n",
       "    List of column names to use. If file contains no header row, then you\n",
       "    should explicitly pass ``header=None``. Duplicates in this list will cause\n",
       "    a ``UserWarning`` to be issued.\n",
       "index_col : int, sequence or bool, optional\n",
       "    Column to use as the row labels of the DataFrame. If a sequence is given, a\n",
       "    MultiIndex is used. If you have a malformed file with delimiters at the end\n",
       "    of each line, you might consider ``index_col=False`` to force pandas to\n",
       "    not use the first column as the index (row names).\n",
       "usecols : list-like or callable, optional\n",
       "    Return a subset of the columns. If list-like, all elements must either\n",
       "    be positional (i.e. integer indices into the document columns) or strings\n",
       "    that correspond to column names provided either by the user in `names` or\n",
       "    inferred from the document header row(s). For example, a valid list-like\n",
       "    `usecols` parameter would be ``[0, 1, 2]`` or ``['foo', 'bar', 'baz']``.\n",
       "    Element order is ignored, so ``usecols=[0, 1]`` is the same as ``[1, 0]``.\n",
       "    To instantiate a DataFrame from ``data`` with element order preserved use\n",
       "    ``pd.read_csv(data, usecols=['foo', 'bar'])[['foo', 'bar']]`` for columns\n",
       "    in ``['foo', 'bar']`` order or\n",
       "    ``pd.read_csv(data, usecols=['foo', 'bar'])[['bar', 'foo']]``\n",
       "    for ``['bar', 'foo']`` order.\n",
       "\n",
       "    If callable, the callable function will be evaluated against the column\n",
       "    names, returning names where the callable function evaluates to True. An\n",
       "    example of a valid callable argument would be ``lambda x: x.upper() in\n",
       "    ['AAA', 'BBB', 'DDD']``. Using this parameter results in much faster\n",
       "    parsing time and lower memory usage.\n",
       "squeeze : bool, default False\n",
       "    If the parsed data only contains one column then return a Series.\n",
       "prefix : str, optional\n",
       "    Prefix to add to column numbers when no header, e.g. 'X' for X0, X1, ...\n",
       "mangle_dupe_cols : bool, default True\n",
       "    Duplicate columns will be specified as 'X', 'X.1', ...'X.N', rather than\n",
       "    'X'...'X'. Passing in False will cause data to be overwritten if there\n",
       "    are duplicate names in the columns.\n",
       "dtype : Type name or dict of column -> type, optional\n",
       "    Data type for data or columns. E.g. {'a': np.float64, 'b': np.int32,\n",
       "    'c': 'Int64'}\n",
       "    Use `str` or `object` together with suitable `na_values` settings\n",
       "    to preserve and not interpret dtype.\n",
       "    If converters are specified, they will be applied INSTEAD\n",
       "    of dtype conversion.\n",
       "engine : {'c', 'python'}, optional\n",
       "    Parser engine to use. The C engine is faster while the python engine is\n",
       "    currently more feature-complete.\n",
       "converters : dict, optional\n",
       "    Dict of functions for converting values in certain columns. Keys can either\n",
       "    be integers or column labels.\n",
       "true_values : list, optional\n",
       "    Values to consider as True.\n",
       "false_values : list, optional\n",
       "    Values to consider as False.\n",
       "skipinitialspace : bool, default False\n",
       "    Skip spaces after delimiter.\n",
       "skiprows : list-like, int or callable, optional\n",
       "    Line numbers to skip (0-indexed) or number of lines to skip (int)\n",
       "    at the start of the file.\n",
       "\n",
       "    If callable, the callable function will be evaluated against the row\n",
       "    indices, returning True if the row should be skipped and False otherwise.\n",
       "    An example of a valid callable argument would be ``lambda x: x in [0, 2]``.\n",
       "skipfooter : int, default 0\n",
       "    Number of lines at bottom of file to skip (Unsupported with engine='c').\n",
       "nrows : int, optional\n",
       "    Number of rows of file to read. Useful for reading pieces of large files.\n",
       "na_values : scalar, str, list-like, or dict, optional\n",
       "    Additional strings to recognize as NA/NaN. If dict passed, specific\n",
       "    per-column NA values.  By default the following values are interpreted as\n",
       "    NaN: '', '#N/A', '#N/A N/A', '#NA', '-1.#IND', '-1.#QNAN', '-NaN', '-nan',\n",
       "    '1.#IND', '1.#QNAN', 'N/A', 'NA', 'NULL', 'NaN', 'n/a', 'nan',\n",
       "    'null'.\n",
       "keep_default_na : bool, default True\n",
       "    Whether or not to include the default NaN values when parsing the data.\n",
       "    Depending on whether `na_values` is passed in, the behavior is as follows:\n",
       "\n",
       "    * If `keep_default_na` is True, and `na_values` are specified, `na_values`\n",
       "      is appended to the default NaN values used for parsing.\n",
       "    * If `keep_default_na` is True, and `na_values` are not specified, only\n",
       "      the default NaN values are used for parsing.\n",
       "    * If `keep_default_na` is False, and `na_values` are specified, only\n",
       "      the NaN values specified `na_values` are used for parsing.\n",
       "    * If `keep_default_na` is False, and `na_values` are not specified, no\n",
       "      strings will be parsed as NaN.\n",
       "\n",
       "    Note that if `na_filter` is passed in as False, the `keep_default_na` and\n",
       "    `na_values` parameters will be ignored.\n",
       "na_filter : bool, default True\n",
       "    Detect missing value markers (empty strings and the value of na_values). In\n",
       "    data without any NAs, passing na_filter=False can improve the performance\n",
       "    of reading a large file.\n",
       "verbose : bool, default False\n",
       "    Indicate number of NA values placed in non-numeric columns.\n",
       "skip_blank_lines : bool, default True\n",
       "    If True, skip over blank lines rather than interpreting as NaN values.\n",
       "parse_dates : bool or list of int or names or list of lists or dict, default False\n",
       "    The behavior is as follows:\n",
       "\n",
       "    * boolean. If True -> try parsing the index.\n",
       "    * list of int or names. e.g. If [1, 2, 3] -> try parsing columns 1, 2, 3\n",
       "      each as a separate date column.\n",
       "    * list of lists. e.g.  If [[1, 3]] -> combine columns 1 and 3 and parse as\n",
       "      a single date column.\n",
       "    * dict, e.g. {'foo' : [1, 3]} -> parse columns 1, 3 as date and call\n",
       "      result 'foo'\n",
       "\n",
       "    If a column or index cannot be represented as an array of datetimes,\n",
       "    say because of an unparseable value or a mixture of timezones, the column\n",
       "    or index will be returned unaltered as an object data type. For\n",
       "    non-standard datetime parsing, use ``pd.to_datetime`` after\n",
       "    ``pd.read_csv``. To parse an index or column with a mixture of timezones,\n",
       "    specify ``date_parser`` to be a partially-applied\n",
       "    :func:`pandas.to_datetime` with ``utc=True``. See\n",
       "    :ref:`io.csv.mixed_timezones` for more.\n",
       "\n",
       "    Note: A fast-path exists for iso8601-formatted dates.\n",
       "infer_datetime_format : bool, default False\n",
       "    If True and `parse_dates` is enabled, pandas will attempt to infer the\n",
       "    format of the datetime strings in the columns, and if it can be inferred,\n",
       "    switch to a faster method of parsing them. In some cases this can increase\n",
       "    the parsing speed by 5-10x.\n",
       "keep_date_col : bool, default False\n",
       "    If True and `parse_dates` specifies combining multiple columns then\n",
       "    keep the original columns.\n",
       "date_parser : function, optional\n",
       "    Function to use for converting a sequence of string columns to an array of\n",
       "    datetime instances. The default uses ``dateutil.parser.parser`` to do the\n",
       "    conversion. Pandas will try to call `date_parser` in three different ways,\n",
       "    advancing to the next if an exception occurs: 1) Pass one or more arrays\n",
       "    (as defined by `parse_dates`) as arguments; 2) concatenate (row-wise) the\n",
       "    string values from the columns defined by `parse_dates` into a single array\n",
       "    and pass that; and 3) call `date_parser` once for each row using one or\n",
       "    more strings (corresponding to the columns defined by `parse_dates`) as\n",
       "    arguments.\n",
       "dayfirst : bool, default False\n",
       "    DD/MM format dates, international and European format.\n",
       "iterator : bool, default False\n",
       "    Return TextFileReader object for iteration or getting chunks with\n",
       "    ``get_chunk()``.\n",
       "chunksize : int, optional\n",
       "    Return TextFileReader object for iteration.\n",
       "    See the `IO Tools docs\n",
       "    <http://pandas.pydata.org/pandas-docs/stable/io.html#io-chunking>`_\n",
       "    for more information on ``iterator`` and ``chunksize``.\n",
       "compression : {'infer', 'gzip', 'bz2', 'zip', 'xz', None}, default 'infer'\n",
       "    For on-the-fly decompression of on-disk data. If 'infer' and\n",
       "    `filepath_or_buffer` is path-like, then detect compression from the\n",
       "    following extensions: '.gz', '.bz2', '.zip', or '.xz' (otherwise no\n",
       "    decompression). If using 'zip', the ZIP file must contain only one data\n",
       "    file to be read in. Set to None for no decompression.\n",
       "\n",
       "    .. versionadded:: 0.18.1 support for 'zip' and 'xz' compression.\n",
       "\n",
       "thousands : str, optional\n",
       "    Thousands separator.\n",
       "decimal : str, default '.'\n",
       "    Character to recognize as decimal point (e.g. use ',' for European data).\n",
       "lineterminator : str (length 1), optional\n",
       "    Character to break file into lines. Only valid with C parser.\n",
       "quotechar : str (length 1), optional\n",
       "    The character used to denote the start and end of a quoted item. Quoted\n",
       "    items can include the delimiter and it will be ignored.\n",
       "quoting : int or csv.QUOTE_* instance, default 0\n",
       "    Control field quoting behavior per ``csv.QUOTE_*`` constants. Use one of\n",
       "    QUOTE_MINIMAL (0), QUOTE_ALL (1), QUOTE_NONNUMERIC (2) or QUOTE_NONE (3).\n",
       "doublequote : bool, default ``True``\n",
       "   When quotechar is specified and quoting is not ``QUOTE_NONE``, indicate\n",
       "   whether or not to interpret two consecutive quotechar elements INSIDE a\n",
       "   field as a single ``quotechar`` element.\n",
       "escapechar : str (length 1), optional\n",
       "    One-character string used to escape other characters.\n",
       "comment : str, optional\n",
       "    Indicates remainder of line should not be parsed. If found at the beginning\n",
       "    of a line, the line will be ignored altogether. This parameter must be a\n",
       "    single character. Like empty lines (as long as ``skip_blank_lines=True``),\n",
       "    fully commented lines are ignored by the parameter `header` but not by\n",
       "    `skiprows`. For example, if ``comment='#'``, parsing\n",
       "    ``#empty\\na,b,c\\n1,2,3`` with ``header=0`` will result in 'a,b,c' being\n",
       "    treated as the header.\n",
       "encoding : str, optional\n",
       "    Encoding to use for UTF when reading/writing (ex. 'utf-8'). `List of Python\n",
       "    standard encodings\n",
       "    <https://docs.python.org/3/library/codecs.html#standard-encodings>`_ .\n",
       "dialect : str or csv.Dialect, optional\n",
       "    If provided, this parameter will override values (default or not) for the\n",
       "    following parameters: `delimiter`, `doublequote`, `escapechar`,\n",
       "    `skipinitialspace`, `quotechar`, and `quoting`. If it is necessary to\n",
       "    override values, a ParserWarning will be issued. See csv.Dialect\n",
       "    documentation for more details.\n",
       "tupleize_cols : bool, default False\n",
       "    Leave a list of tuples on columns as is (default is to convert to\n",
       "    a MultiIndex on the columns).\n",
       "\n",
       "    .. deprecated:: 0.21.0\n",
       "       This argument will be removed and will always convert to MultiIndex\n",
       "\n",
       "error_bad_lines : bool, default True\n",
       "    Lines with too many fields (e.g. a csv line with too many commas) will by\n",
       "    default cause an exception to be raised, and no DataFrame will be returned.\n",
       "    If False, then these \"bad lines\" will dropped from the DataFrame that is\n",
       "    returned.\n",
       "warn_bad_lines : bool, default True\n",
       "    If error_bad_lines is False, and warn_bad_lines is True, a warning for each\n",
       "    \"bad line\" will be output.\n",
       "delim_whitespace : bool, default False\n",
       "    Specifies whether or not whitespace (e.g. ``' '`` or ``'    '``) will be\n",
       "    used as the sep. Equivalent to setting ``sep='\\s+'``. If this option\n",
       "    is set to True, nothing should be passed in for the ``delimiter``\n",
       "    parameter.\n",
       "\n",
       "    .. versionadded:: 0.18.1 support for the Python parser.\n",
       "\n",
       "low_memory : bool, default True\n",
       "    Internally process the file in chunks, resulting in lower memory use\n",
       "    while parsing, but possibly mixed type inference.  To ensure no mixed\n",
       "    types either set False, or specify the type with the `dtype` parameter.\n",
       "    Note that the entire file is read into a single DataFrame regardless,\n",
       "    use the `chunksize` or `iterator` parameter to return the data in chunks.\n",
       "    (Only valid with C parser).\n",
       "memory_map : bool, default False\n",
       "    If a filepath is provided for `filepath_or_buffer`, map the file object\n",
       "    directly onto memory and access the data directly from there. Using this\n",
       "    option can improve performance because there is no longer any I/O overhead.\n",
       "float_precision : str, optional\n",
       "    Specifies which converter the C engine should use for floating-point\n",
       "    values. The options are `None` for the ordinary converter,\n",
       "    `high` for the high-precision converter, and `round_trip` for the\n",
       "    round-trip converter.\n",
       "\n",
       "Returns\n",
       "-------\n",
       "DataFrame or TextParser\n",
       "    A comma-separated values (csv) file is returned as two-dimensional\n",
       "    data structure with labeled axes.\n",
       "\n",
       "See Also\n",
       "--------\n",
       "to_csv : Write DataFrame to a comma-separated values (csv) file.\n",
       "read_csv : Read a comma-separated values (csv) file into DataFrame.\n",
       "read_fwf : Read a table of fixed-width formatted lines into DataFrame.\n",
       "\n",
       "Examples\n",
       "--------\n",
       ">>> pd.read_csv('data.csv')  # doctest: +SKIP\n",
       "\u001b[1;31mFile:\u001b[0m      c:\\programdata\\anaconda3\\lib\\site-packages\\pandas\\io\\parsers.py\n",
       "\u001b[1;31mType:\u001b[0m      function\n"
      ]
     },
     "metadata": {},
     "output_type": "display_data"
    }
   ],
   "source": [
    "?pd.read_csv"
   ]
  },
  {
   "cell_type": "markdown",
   "metadata": {},
   "source": [
    "先ほど読み込んだデータを見てみますと、schoolやageなど学生の属性情報が入っているというのはわかります。ただし、いくつデータがあるのか、どんなデータの種類があるのかまだわかりませんので、次のinfoを使うと、すべての変数について、nullでないデータの個数や変数の型がわかります。"
   ]
  },
  {
   "cell_type": "code",
   "execution_count": 13,
   "metadata": {
    "collapsed": false,
    "jupyter": {
     "outputs_hidden": false
    },
    "nbpresent": {
     "id": "21eb3ee8-f72c-4842-a2b2-98bc6b4b06b2"
    }
   },
   "outputs": [
    {
     "name": "stdout",
     "output_type": "stream",
     "text": [
      "<class 'pandas.core.frame.DataFrame'>\n",
      "RangeIndex: 395 entries, 0 to 394\n",
      "Data columns (total 33 columns):\n",
      "school        395 non-null object\n",
      "sex           395 non-null object\n",
      "age           395 non-null int64\n",
      "address       395 non-null object\n",
      "famsize       395 non-null object\n",
      "Pstatus       395 non-null object\n",
      "Medu          395 non-null int64\n",
      "Fedu          395 non-null int64\n",
      "Mjob          395 non-null object\n",
      "Fjob          395 non-null object\n",
      "reason        395 non-null object\n",
      "guardian      395 non-null object\n",
      "traveltime    395 non-null int64\n",
      "studytime     395 non-null int64\n",
      "failures      395 non-null int64\n",
      "schoolsup     395 non-null object\n",
      "famsup        395 non-null object\n",
      "paid          395 non-null object\n",
      "activities    395 non-null object\n",
      "nursery       395 non-null object\n",
      "higher        395 non-null object\n",
      "internet      395 non-null object\n",
      "romantic      395 non-null object\n",
      "famrel        395 non-null int64\n",
      "freetime      395 non-null int64\n",
      "goout         395 non-null int64\n",
      "Dalc          395 non-null int64\n",
      "Walc          395 non-null int64\n",
      "health        395 non-null int64\n",
      "absences      395 non-null int64\n",
      "G1            395 non-null int64\n",
      "G2            395 non-null int64\n",
      "G3            395 non-null int64\n",
      "dtypes: int64(16), object(17)\n",
      "memory usage: 101.9+ KB\n"
     ]
    }
   ],
   "source": [
    "# すべてのカラムの情報等チェック\n",
    "student_data_math.info()"
   ]
  },
  {
   "cell_type": "markdown",
   "metadata": {},
   "source": [
    "はじめに「RangeIndex: 395 entries, 0 to 394」とあり、395個データがあります。non-nullはnullでないデータを意味し、全ての変数について「395 non-null」となっているので、今回はnullのデータがないようです。さらにこのデータを理解していくために、このカラムが一体何のデータなのか把握していきましょう。\n",
    "\n",
    "実際のビジネスの現場では、このデータに詳しい人から情報をもらったり、またデータの仕様書を読み込んでいく必要があります。そういった情報が得られたという前提の下、以下に、このデータカラム名の説明等を記載します。先ほどデータと一緒にダウンロードされたstudent.txtファイルに、変数に関する詳しい情報が書いてあります。シェルやコマンドライン等に慣れている人は、ここで**less ファイル名**や**cat ファイル名**でその中身を見ることができます。"
   ]
  },
  {
   "cell_type": "markdown",
   "metadata": {},
   "source": [
    "#### データの属性説明\n",
    "\n",
    "1 school - 学校(binary: \"GP\" - Gabriel Pereira or \"MS\" - Mousinho da Silveira)<br>\n",
    "2 sex - 性 (binary: \"F\" - female or \"M\" - male)<br>\n",
    "3 age - 年齢 (numeric: from 15 to 22)<br>\n",
    "4 address - 住所のタイプ (binary: \"U\" - urban or \"R\" - rural)<br>\n",
    "5 famsize - 家族の人数 (binary: \"LE3\" - less or equal to 3 or \"GT3\" - greater than 3)<br>\n",
    "6 Pstatus - 両親と同居しているかどうか (binary: \"T\" - living together or \"A\" - apart)<br>\n",
    "7 Medu - 母親の学歴 (numeric: 0 - none,  1 - primary education (4th grade), 2 – 5th to 9th grade, 3 – secondary education or 4 – higher education)<br>\n",
    "8 Fedu - 父親の学歴 (numeric: 0 - none,  1 - primary education (4th grade), 2 – 5th to 9th grade, 3 – secondary education or 4 – higher education)<br>\n",
    "9 Mjob - 母親の仕事 (nominal: \"teacher\", \"health\" care related, civil \"services\" (e.g. administrative or police), \"at_home\" or \"other\")<br>\n",
    "10 Fjob - 父親の仕事 (nominal: \"teacher\", \"health\" care related, civil \"services\" (e.g. administrative or police), \"at_home\" or \"other\")<br>\n",
    "11 reason - 学校を選んだ理由 (nominal: close to \"home\", school \"reputation\", \"course\" preference or \"other\")<br>\n",
    "12 guardian - 生徒の保護者 (nominal: \"mother\", \"father\" or \"other\")<br>\n",
    "13 traveltime - 通学時間 (numeric: 1 - <15 min., 2 - 15 to 30 min., 3 - 30 min. to 1 hour, or 4 - >1 hour)<br>\n",
    "14 studytime - 週の勉強時間(numeric: 1 - <2 hours, 2 - 2 to 5 hours, 3 - 5 to 10 hours, or 4 - >10 hours)<br>\n",
    "15 failures - 過去のnumber of past class failures (numeric: n if 1<=n<3, else 4)<br>\n",
    "16 schoolsup - 追加の教育サポート (binary: yes or no)<br>\n",
    "17 famsup - 家族の教育サポート (binary: yes or no)<br>\n",
    "18 paid - 追加の有料クラス(Math or Portuguese) (binary: yes or no)<br>\n",
    "19 activities - 学校外の活動 (binary: yes or no)<br>\n",
    "20 nursery - 保育園に通ったことがあるかどうか (binary: yes or no)<br>\n",
    "21 higher - 高い教育を受けたいかどうか(binary: yes or no)<br>\n",
    "22 internet - 家でインターネットのアクセスができるかどうか(binary: yes or no)<br>\n",
    "23 romantic - 恋愛関係 (binary: yes or no)<br>\n",
    "24 famrel - 家族との関係性 (numeric: from 1 - very bad to 5 - excellent)<br>\n",
    "25 freetime - 学校後の自由時間 (numeric: from 1 - very low to 5 - very high)<br>\n",
    "26 goout - 友人と遊ぶかどうか (numeric: from 1 - very low to 5 - very high)<br>\n",
    "27 Dalc - 平日のアルコール摂取量 (numeric: from 1 - very low to 5 - very high)<br>\n",
    "28 Walc - 週末のアルコール摂取量 (numeric: from 1 - very low to 5 - very high)<br>\n",
    "29 health - 現在の健康状態 (numeric: from 1 - very bad to 5 - very good)<br>\n",
    "30 absences - 学校の欠席数 (numeric: from 0 to 93)<br>\n",
    "31 G1 - 一期の成績 (numeric: from 0 to 20)<br>\n",
    "31 G2 - 二期の成績 (numeric: from 0 to 20)<br>\n",
    "32 G3 - 最終の成績 (numeric: from 0 to 20, output target)"
   ]
  },
  {
   "cell_type": "markdown",
   "metadata": {},
   "source": [
    "さて、上記のデータを見てみると、数字のデータがあったり、男女などの属性データがあったります。データは基本的に、量的データと質的データの2つに分けることができます。集計やモデリングの際に気をつけて扱いましょう。\n",
    "\n",
    "・**量的データ**：比率データ、間隔データ\n",
    "\n",
    "・**質的データ**：順位データ、カテゴリデータ\n",
    "\n",
    "次のコードは、先ほど読み込んだデータの中にある「性別」を指定しています。このデータは特に数値化されておらず、比較もできないので、質的データになります。"
   ]
  },
  {
   "cell_type": "code",
   "execution_count": 14,
   "metadata": {
    "collapsed": false,
    "jupyter": {
     "outputs_hidden": false
    },
    "nbpresent": {
     "id": "885a45ac-f069-4988-b245-fcd79646e17f"
    }
   },
   "outputs": [
    {
     "data": {
      "text/plain": [
       "0    F\n",
       "1    F\n",
       "2    F\n",
       "3    F\n",
       "4    F\n",
       "Name: sex, dtype: object"
      ]
     },
     "execution_count": 14,
     "metadata": {},
     "output_type": "execute_result"
    }
   ],
   "source": [
    "student_data_math.sex.head()"
   ]
  },
  {
   "cell_type": "markdown",
   "metadata": {},
   "source": [
    "次は、データの列にある「欠席数」を指定しています。このデータは量的データになります。"
   ]
  },
  {
   "cell_type": "code",
   "execution_count": 15,
   "metadata": {
    "collapsed": false,
    "jupyter": {
     "outputs_hidden": false
    }
   },
   "outputs": [
    {
     "data": {
      "text/plain": [
       "0     6\n",
       "1     4\n",
       "2    10\n",
       "3     2\n",
       "4     4\n",
       "Name: absences, dtype: int64"
      ]
     },
     "execution_count": 15,
     "metadata": {},
     "output_type": "execute_result"
    }
   ],
   "source": [
    "student_data_math.absences.head()"
   ]
  },
  {
   "cell_type": "markdown",
   "metadata": {},
   "source": [
    "ここで、前に学んだpandasのテクニックを使って、性別を軸にして、年齢の平均値をそれぞれ計算してみましょう。"
   ]
  },
  {
   "cell_type": "code",
   "execution_count": 16,
   "metadata": {
    "collapsed": false,
    "jupyter": {
     "outputs_hidden": false
    },
    "scrolled": true
   },
   "outputs": [
    {
     "data": {
      "text/plain": [
       "sex\n",
       "F    16.730769\n",
       "M    16.657754\n",
       "Name: age, dtype: float64"
      ]
     },
     "execution_count": 16,
     "metadata": {},
     "output_type": "execute_result"
    }
   ],
   "source": [
    "student_data_math.groupby('sex')[\"age\"].mean()"
   ]
  },
  {
   "cell_type": "markdown",
   "metadata": {},
   "source": [
    "簡単ではありましたが、データの中身についてカラムやその数字等を見てきました。他にも、いろいろな視点やデータ集計ができると思いますので、何か仮説を持って（男性の方がアルコール摂取量が多い、など）、その仮説があっているかどうか実装して確かめてみましょう。"
   ]
  },
  {
   "cell_type": "markdown",
   "metadata": {},
   "source": [
    ">**[やってみよう]**\n",
    "\n",
    ">読み込んだデータを使って、いろいろな視点でデータ集計して、データと対話してみましょう。どんな仮説を考えますか。また、その仮説を確かめるために、どのような実装をしますか。"
   ]
  },
  {
   "cell_type": "code",
   "execution_count": 18,
   "metadata": {},
   "outputs": [
    {
     "data": {
      "text/plain": [
       "Fedu\n",
       "0    2.000000\n",
       "1    3.743902\n",
       "2    3.478261\n",
       "3    3.300000\n",
       "4    3.781250\n",
       "Name: health, dtype: float64"
      ]
     },
     "execution_count": 18,
     "metadata": {},
     "output_type": "execute_result"
    }
   ],
   "source": [
    "student_data_math.groupby('Fedu')[\"health\"].mean()"
   ]
  },
  {
   "cell_type": "markdown",
   "metadata": {},
   "source": [
    "次はこのデータを使って、本題の**記述統計**について学びます。統計解析は、基本的に二つに分けることができ、ここで学ぶ**記述統計**と次の**推測統計**があります。**記述統計**とは、データをまとめて見やすく整理し、データの持っている概ねの情報を把握することを目的にしています。一方、**推測統計**とは、確率分布に基づいたモデルを用いて精密な解析を行うことです。この推測統計は次の章で学びます。\n",
    "\n",
    "まずは、このデータの中にある欠席数について考えてみることにします。サンプルを見て、10や2や色々と数字がありました。それぞれの数字がいったいどれくらいあるのか観測するのが、次のヒストグラムです。前のデータの可視化で学びました。matplotlibを使って、histでそのグラフを表示させます。"
   ]
  },
  {
   "cell_type": "code",
   "execution_count": 18,
   "metadata": {
    "collapsed": false,
    "jupyter": {
     "outputs_hidden": false
    },
    "scrolled": true
   },
   "outputs": [
    {
     "data": {
      "image/png": "[encoded data removed]",
      "text/plain": [
       "<matplotlib.figure.Figure at 0x1103048d0>"
      ]
     },
     "metadata": {},
     "output_type": "display_data"
    }
   ],
   "source": [
    "# histogram、データの指定\n",
    "plt.hist(student_data_math.absences)\n",
    "\n",
    "# それぞれのラベル\n",
    "plt.ylabel(\"count\")\n",
    "plt.xlabel(\"absences\")\n",
    "\n",
    "# グリッドをつける\n",
    "plt.grid(True)"
   ]
  },
  {
   "cell_type": "markdown",
   "metadata": {},
   "source": [
    "0から10までの数字付近が多くなっており、また70以上など(の数字)もあり、テールな分布になっています。テールとは、分布の裾が緩やかに減少しているような分布です。なお、上のような分布を「右に歪みのある分布」といい、見た目とは異なり、よく間違えられるので表現に注意しましょう。\n",
    "\n",
    "このヒストグラムは、データの全体像を見る上では欠かせないものですが、どのような時にデータが偏っているといえるのかなど、客観性が少し乏しくなります。そのため、次の要約統計量（中央値、平均、標準偏差など）について計算することで、データの傾向を数値化し、より客観的にデータを表現することができます。"
   ]
  },
  {
   "cell_type": "code",
   "execution_count": 19,
   "metadata": {
    "collapsed": false,
    "jupyter": {
     "outputs_hidden": false
    }
   },
   "outputs": [
    {
     "name": "stdout",
     "output_type": "stream",
     "text": [
      "平均値： 5.708860759493671\n",
      "中央値： 4.0\n",
      "最頻値： 0    0\n",
      "dtype: int64\n"
     ]
    }
   ],
   "source": [
    "# 平均値\n",
    "print(\"平均値：\", student_data_math.absences.mean())\n",
    "# 中央値：中央値でデータを分けると中央値の前後でデータ数が同じになる（データの真ん中の値）、外れ値の値に影響を受けにくい\n",
    "print(\"中央値：\", student_data_math.absences.median())\n",
    "# 最頻値：最も頻度が多い値\n",
    "print(\"最頻値：\", student_data_math.absences.mode())"
   ]
  },
  {
   "cell_type": "markdown",
   "metadata": {},
   "source": [
    "なお、平均値の計算は以下となります（ここで$x_i$を第$i$番目のデータ（値）とします）。"
   ]
  },
  {
   "cell_type": "markdown",
   "metadata": {},
   "source": [
    "\\begin{eqnarray}\n",
    "\\overline{x}=\\frac{1}{n}\\sum^n_{i=1}x_i\n",
    "\\end{eqnarray}"
   ]
  },
  {
   "cell_type": "markdown",
   "metadata": {},
   "source": [
    "次に、このデータが散らばっているのか、それともまとまっている（平均付近に固まっている）のかを調べるのが分散になり、式は以下です。"
   ]
  },
  {
   "cell_type": "markdown",
   "metadata": {},
   "source": [
    "\\begin{eqnarray}\n",
    "\\sigma^2 = \\frac{1}{n}\\sum^n_{i=1}(x_i-{\\overline{x}} )^2\n",
    "\\end{eqnarray}"
   ]
  },
  {
   "cell_type": "markdown",
   "metadata": {},
   "source": [
    "該当の変数を指定した後に、var()で計算できます。"
   ]
  },
  {
   "cell_type": "code",
   "execution_count": 20,
   "metadata": {
    "collapsed": false,
    "jupyter": {
     "outputs_hidden": false
    }
   },
   "outputs": [
    {
     "data": {
      "text/plain": [
       "64.050"
      ]
     },
     "execution_count": 20,
     "metadata": {},
     "output_type": "execute_result"
    }
   ],
   "source": [
    "# 分散\n",
    "student_data_math.absences.var()"
   ]
  },
  {
   "cell_type": "markdown",
   "metadata": {},
   "source": [
    "標準偏差は分散の平方根となります。分散の定義式を見ていただくと、計算式で二乗していますので、実際のデータのばらつきがどの程度なのか分かりません。標準偏差にすると、単位の次元が実際のデータと同じなので、以下の結果からプラスマイナス8日程度のばらつきがあることが分かります。"
   ]
  },
  {
   "cell_type": "code",
   "execution_count": 21,
   "metadata": {
    "collapsed": false,
    "jupyter": {
     "outputs_hidden": false
    }
   },
   "outputs": [
    {
     "data": {
      "text/plain": [
       "8.003"
      ]
     },
     "execution_count": 21,
     "metadata": {},
     "output_type": "execute_result"
    }
   ],
   "source": [
    "# 標準偏差 σ\n",
    "student_data_math.absences.std()"
   ]
  },
  {
   "cell_type": "markdown",
   "metadata": {},
   "source": [
    "np.sqrtで平方根の計算ができますので、以下の方法で出しても同じなります。"
   ]
  },
  {
   "cell_type": "code",
   "execution_count": 22,
   "metadata": {
    "collapsed": false,
    "jupyter": {
     "outputs_hidden": false
    }
   },
   "outputs": [
    {
     "data": {
      "text/plain": [
       "8.003"
      ]
     },
     "execution_count": 22,
     "metadata": {},
     "output_type": "execute_result"
    }
   ],
   "source": [
    "np.sqrt(student_data_math.absences.var())"
   ]
  },
  {
   "cell_type": "markdown",
   "metadata": {},
   "source": [
    "これまで、1つ1つ統計量を見てきましたが、該当のデータの後（pandasで読み込んだデータ）にdescribe()を入力して実行することで、一気にそれらの数値を確認することができます。それぞれ順にデータ数、平均値、標準偏差、最小値、25、50、75パーセントタイル値、そして最大値になります。なお「パーセンタイル値」とは、全体を100として小さい方から数えて何番になるのかを示す数値です。例えば、10パーセンタイルは100個のデータのうち小さいほうから数えて10番目ということになります。50パーセンタイルだと50番目で真ん中の値となり、中央値になります。以下のURLを参考にしてください。"
   ]
  },
  {
   "cell_type": "markdown",
   "metadata": {},
   "source": [
    "![comment](http://ghw.pfizer.co.jp/comedical/evaluation/images/img_relation_01.gif)"
   ]
  },
  {
   "cell_type": "markdown",
   "metadata": {},
   "source": [
    "参照URL：http://ghw.pfizer.co.jp/comedical/evaluation/images/img_relation_01.gif"
   ]
  },
  {
   "cell_type": "code",
   "execution_count": 23,
   "metadata": {
    "collapsed": false,
    "jupyter": {
     "outputs_hidden": false
    },
    "nbpresent": {
     "id": "9c7b5502-7d21-45ef-9801-c8ab89c0cb1b"
    }
   },
   "outputs": [
    {
     "data": {
      "text/plain": [
       "count    395.000000\n",
       "mean       5.708861\n",
       "std        8.003096\n",
       "min        0.000000\n",
       "25%        0.000000\n",
       "50%        4.000000\n",
       "75%        8.000000\n",
       "max       75.000000\n",
       "Name: absences, dtype: float64"
      ]
     },
     "execution_count": 23,
     "metadata": {},
     "output_type": "execute_result"
    }
   ],
   "source": [
    "# 要約統計量\n",
    "student_data_math.absences.describe()"
   ]
  },
  {
   "cell_type": "markdown",
   "metadata": {},
   "source": [
    "データのタイプとしては、Seriesになるので、それぞれの要素を抽出することができます。例えば、**四分位範囲**という75%タイルと25%タイルの差を計算したい場合は、上から5番目と7番目の要素になるので、それらを使います。なお、25%タイルと75%タイルはそれぞれ第1四分位点、第3四分位点とも呼びます。"
   ]
  },
  {
   "cell_type": "code",
   "execution_count": 24,
   "metadata": {
    "collapsed": false,
    "jupyter": {
     "outputs_hidden": false
    }
   },
   "outputs": [
    {
     "data": {
      "text/plain": [
       "pandas.core.series.Series"
      ]
     },
     "execution_count": 24,
     "metadata": {},
     "output_type": "execute_result"
    }
   ],
   "source": [
    "type(student_data_math.absences.describe())"
   ]
  },
  {
   "cell_type": "code",
   "execution_count": 25,
   "metadata": {
    "collapsed": false,
    "jupyter": {
     "outputs_hidden": false
    }
   },
   "outputs": [
    {
     "data": {
      "text/plain": [
       "8.000"
      ]
     },
     "execution_count": 25,
     "metadata": {},
     "output_type": "execute_result"
    }
   ],
   "source": [
    "# 四分位範囲(75%タイル ー 25%タイル)\n",
    "student_data_math.absences.describe()[6] - student_data_math.absences.describe()[4]"
   ]
  },
  {
   "cell_type": "markdown",
   "metadata": {},
   "source": [
    "さらに、列名を指定しない場合は、量的データに関しては、describe()を使って一気に算出することができます。"
   ]
  },
  {
   "cell_type": "code",
   "execution_count": 26,
   "metadata": {
    "collapsed": false,
    "jupyter": {
     "outputs_hidden": false
    },
    "scrolled": true
   },
   "outputs": [
    {
     "data": {
      "text/html": [
       "<div>\n",
       "<table border=\"1\" class=\"dataframe\">\n",
       "  <thead>\n",
       "    <tr style=\"text-align: right;\">\n",
       "      <th></th>\n",
       "      <th>age</th>\n",
       "      <th>Medu</th>\n",
       "      <th>Fedu</th>\n",
       "      <th>traveltime</th>\n",
       "      <th>studytime</th>\n",
       "      <th>failures</th>\n",
       "      <th>famrel</th>\n",
       "      <th>freetime</th>\n",
       "      <th>goout</th>\n",
       "      <th>Dalc</th>\n",
       "      <th>Walc</th>\n",
       "      <th>health</th>\n",
       "      <th>absences</th>\n",
       "      <th>G1</th>\n",
       "      <th>G2</th>\n",
       "      <th>G3</th>\n",
       "    </tr>\n",
       "  </thead>\n",
       "  <tbody>\n",
       "    <tr>\n",
       "      <th>count</th>\n",
       "      <td>395.000000</td>\n",
       "      <td>395.000000</td>\n",
       "      <td>395.000000</td>\n",
       "      <td>395.000000</td>\n",
       "      <td>395.000000</td>\n",
       "      <td>395.000000</td>\n",
       "      <td>395.000000</td>\n",
       "      <td>395.000000</td>\n",
       "      <td>395.000000</td>\n",
       "      <td>395.000000</td>\n",
       "      <td>395.000000</td>\n",
       "      <td>395.000000</td>\n",
       "      <td>395.000000</td>\n",
       "      <td>395.000000</td>\n",
       "      <td>395.000000</td>\n",
       "      <td>395.000000</td>\n",
       "    </tr>\n",
       "    <tr>\n",
       "      <th>mean</th>\n",
       "      <td>16.696203</td>\n",
       "      <td>2.749367</td>\n",
       "      <td>2.521519</td>\n",
       "      <td>1.448101</td>\n",
       "      <td>2.035443</td>\n",
       "      <td>0.334177</td>\n",
       "      <td>3.944304</td>\n",
       "      <td>3.235443</td>\n",
       "      <td>3.108861</td>\n",
       "      <td>1.481013</td>\n",
       "      <td>2.291139</td>\n",
       "      <td>3.554430</td>\n",
       "      <td>5.708861</td>\n",
       "      <td>10.908861</td>\n",
       "      <td>10.713924</td>\n",
       "      <td>10.415190</td>\n",
       "    </tr>\n",
       "    <tr>\n",
       "      <th>std</th>\n",
       "      <td>1.276043</td>\n",
       "      <td>1.094735</td>\n",
       "      <td>1.088201</td>\n",
       "      <td>0.697505</td>\n",
       "      <td>0.839240</td>\n",
       "      <td>0.743651</td>\n",
       "      <td>0.896659</td>\n",
       "      <td>0.998862</td>\n",
       "      <td>1.113278</td>\n",
       "      <td>0.890741</td>\n",
       "      <td>1.287897</td>\n",
       "      <td>1.390303</td>\n",
       "      <td>8.003096</td>\n",
       "      <td>3.319195</td>\n",
       "      <td>3.761505</td>\n",
       "      <td>4.581443</td>\n",
       "    </tr>\n",
       "    <tr>\n",
       "      <th>min</th>\n",
       "      <td>15.000000</td>\n",
       "      <td>0.000000</td>\n",
       "      <td>0.000000</td>\n",
       "      <td>1.000000</td>\n",
       "      <td>1.000000</td>\n",
       "      <td>0.000000</td>\n",
       "      <td>1.000000</td>\n",
       "      <td>1.000000</td>\n",
       "      <td>1.000000</td>\n",
       "      <td>1.000000</td>\n",
       "      <td>1.000000</td>\n",
       "      <td>1.000000</td>\n",
       "      <td>0.000000</td>\n",
       "      <td>3.000000</td>\n",
       "      <td>0.000000</td>\n",
       "      <td>0.000000</td>\n",
       "    </tr>\n",
       "    <tr>\n",
       "      <th>25%</th>\n",
       "      <td>16.000000</td>\n",
       "      <td>2.000000</td>\n",
       "      <td>2.000000</td>\n",
       "      <td>1.000000</td>\n",
       "      <td>1.000000</td>\n",
       "      <td>0.000000</td>\n",
       "      <td>4.000000</td>\n",
       "      <td>3.000000</td>\n",
       "      <td>2.000000</td>\n",
       "      <td>1.000000</td>\n",
       "      <td>1.000000</td>\n",
       "      <td>3.000000</td>\n",
       "      <td>0.000000</td>\n",
       "      <td>8.000000</td>\n",
       "      <td>9.000000</td>\n",
       "      <td>8.000000</td>\n",
       "    </tr>\n",
       "    <tr>\n",
       "      <th>50%</th>\n",
       "      <td>17.000000</td>\n",
       "      <td>3.000000</td>\n",
       "      <td>2.000000</td>\n",
       "      <td>1.000000</td>\n",
       "      <td>2.000000</td>\n",
       "      <td>0.000000</td>\n",
       "      <td>4.000000</td>\n",
       "      <td>3.000000</td>\n",
       "      <td>3.000000</td>\n",
       "      <td>1.000000</td>\n",
       "      <td>2.000000</td>\n",
       "      <td>4.000000</td>\n",
       "      <td>4.000000</td>\n",
       "      <td>11.000000</td>\n",
       "      <td>11.000000</td>\n",
       "      <td>11.000000</td>\n",
       "    </tr>\n",
       "    <tr>\n",
       "      <th>75%</th>\n",
       "      <td>18.000000</td>\n",
       "      <td>4.000000</td>\n",
       "      <td>3.000000</td>\n",
       "      <td>2.000000</td>\n",
       "      <td>2.000000</td>\n",
       "      <td>0.000000</td>\n",
       "      <td>5.000000</td>\n",
       "      <td>4.000000</td>\n",
       "      <td>4.000000</td>\n",
       "      <td>2.000000</td>\n",
       "      <td>3.000000</td>\n",
       "      <td>5.000000</td>\n",
       "      <td>8.000000</td>\n",
       "      <td>13.000000</td>\n",
       "      <td>13.000000</td>\n",
       "      <td>14.000000</td>\n",
       "    </tr>\n",
       "    <tr>\n",
       "      <th>max</th>\n",
       "      <td>22.000000</td>\n",
       "      <td>4.000000</td>\n",
       "      <td>4.000000</td>\n",
       "      <td>4.000000</td>\n",
       "      <td>4.000000</td>\n",
       "      <td>3.000000</td>\n",
       "      <td>5.000000</td>\n",
       "      <td>5.000000</td>\n",
       "      <td>5.000000</td>\n",
       "      <td>5.000000</td>\n",
       "      <td>5.000000</td>\n",
       "      <td>5.000000</td>\n",
       "      <td>75.000000</td>\n",
       "      <td>19.000000</td>\n",
       "      <td>19.000000</td>\n",
       "      <td>20.000000</td>\n",
       "    </tr>\n",
       "  </tbody>\n",
       "</table>\n",
       "</div>"
      ],
      "text/plain": [
       "              age        Medu        Fedu  traveltime   studytime    failures  \\\n",
       "count  395.000000  395.000000  395.000000  395.000000  395.000000  395.000000   \n",
       "mean    16.696203    2.749367    2.521519    1.448101    2.035443    0.334177   \n",
       "std      1.276043    1.094735    1.088201    0.697505    0.839240    0.743651   \n",
       "min     15.000000    0.000000    0.000000    1.000000    1.000000    0.000000   \n",
       "25%     16.000000    2.000000    2.000000    1.000000    1.000000    0.000000   \n",
       "50%     17.000000    3.000000    2.000000    1.000000    2.000000    0.000000   \n",
       "75%     18.000000    4.000000    3.000000    2.000000    2.000000    0.000000   \n",
       "max     22.000000    4.000000    4.000000    4.000000    4.000000    3.000000   \n",
       "\n",
       "           famrel    freetime       goout        Dalc        Walc      health  \\\n",
       "count  395.000000  395.000000  395.000000  395.000000  395.000000  395.000000   \n",
       "mean     3.944304    3.235443    3.108861    1.481013    2.291139    3.554430   \n",
       "std      0.896659    0.998862    1.113278    0.890741    1.287897    1.390303   \n",
       "min      1.000000    1.000000    1.000000    1.000000    1.000000    1.000000   \n",
       "25%      4.000000    3.000000    2.000000    1.000000    1.000000    3.000000   \n",
       "50%      4.000000    3.000000    3.000000    1.000000    2.000000    4.000000   \n",
       "75%      5.000000    4.000000    4.000000    2.000000    3.000000    5.000000   \n",
       "max      5.000000    5.000000    5.000000    5.000000    5.000000    5.000000   \n",
       "\n",
       "         absences          G1          G2          G3  \n",
       "count  395.000000  395.000000  395.000000  395.000000  \n",
       "mean     5.708861   10.908861   10.713924   10.415190  \n",
       "std      8.003096    3.319195    3.761505    4.581443  \n",
       "min      0.000000    3.000000    0.000000    0.000000  \n",
       "25%      0.000000    8.000000    9.000000    8.000000  \n",
       "50%      4.000000   11.000000   11.000000   11.000000  \n",
       "75%      8.000000   13.000000   13.000000   14.000000  \n",
       "max     75.000000   19.000000   19.000000   20.000000  "
      ]
     },
     "execution_count": 26,
     "metadata": {},
     "output_type": "execute_result"
    }
   ],
   "source": [
    "# 要約統計量まとめて計算\n",
    "student_data_math.describe()"
   ]
  },
  {
   "cell_type": "markdown",
   "metadata": {},
   "source": [
    "さて、これまで最大値、最小値、中央値、四分位範囲等を算出してきました。ただ、数字を見ているだけでは比較等がなかなか難しいので、それらをグラフ化してくれるのが、次の箱ひげ図です。1期目の成績G1と、欠席数の箱ひげ図をそれぞれ書いていますが、特徴としてかなり異なるのがわかります。箱の上底が第3四分位点、下底が第1四分位点、真ん中の線が中央値です。ヒゲの上端が最大値、下端が最小値です。これで扱うデータの範囲等がわかります。"
   ]
  },
  {
   "cell_type": "code",
   "execution_count": 27,
   "metadata": {
    "collapsed": false,
    "jupyter": {
     "outputs_hidden": false
    }
   },
   "outputs": [
    {
     "data": {
      "image/png": "[encoded data removed]",
      "text/plain": [
       "<matplotlib.figure.Figure at 0x11030ca20>"
      ]
     },
     "metadata": {},
     "output_type": "display_data"
    }
   ],
   "source": [
    "# 箱ひげ図：G1\n",
    "plt.boxplot(student_data_math.G1)\n",
    "plt.grid(True)"
   ]
  },
  {
   "cell_type": "code",
   "execution_count": 29,
   "metadata": {
    "collapsed": false,
    "jupyter": {
     "outputs_hidden": false
    },
    "scrolled": true
   },
   "outputs": [
    {
     "data": {
      "image/png": "[encoded data removed]",
      "text/plain": [
       "<matplotlib.figure.Figure at 0x113853f28>"
      ]
     },
     "metadata": {},
     "output_type": "display_data"
    }
   ],
   "source": [
    "# 箱ひげ図：欠席数\n",
    "plt.boxplot(student_data_math.absences)\n",
    "plt.grid(True)"
   ]
  },
  {
   "cell_type": "markdown",
   "metadata": {},
   "source": [
    "なお、データに外れ値がある場合、それが省かれて、箱ひげ図が表示されるので注意しましょう。先ほどの欠席数absencesの最大値が75なのに、グラフ上には出てきていないので、気づいている方もいるかもしません。外れ値はデフォルトで指定されており、それを取り除いた場合のグラフが表示されます。"
   ]
  },
  {
   "cell_type": "markdown",
   "metadata": {},
   "source": [
    ">[参考URL]\n",
    "\n",
    ">https://ja.wikipedia.org/wiki/箱ひげ図"
   ]
  },
  {
   "cell_type": "markdown",
   "metadata": {},
   "source": [
    "他の変数でも箱ひげ図が描けるので、やってみましょう。"
   ]
  },
  {
   "cell_type": "markdown",
   "metadata": {},
   "source": [
    ">**[やってみよう]**\n",
    "\n",
    ">他の変数についても、箱ひげ図を表示させてみましょう。どんな図になっているでしょうか。そこから何かわかることがないか考察してみましょう。"
   ]
  },
  {
   "cell_type": "markdown",
   "metadata": {},
   "source": [
    "なお、複数の箱ひげ図を同時に表示することも可能です。"
   ]
  },
  {
   "cell_type": "code",
   "execution_count": 10,
   "metadata": {
    "collapsed": false,
    "jupyter": {
     "outputs_hidden": false
    },
    "scrolled": true
   },
   "outputs": [
    {
     "data": {
      "image/png": "[encoded data removed]",
      "text/plain": [
       "<Figure size 432x288 with 1 Axes>"
      ]
     },
     "metadata": {
      "needs_background": "light"
     },
     "output_type": "display_data"
    }
   ],
   "source": [
    "# 箱ひげ図：G1,G2,G3\n",
    "plt.boxplot([student_data_math.Dalc,student_data_math.Walc])\n",
    "plt.grid(True)"
   ]
  },
  {
   "cell_type": "markdown",
   "metadata": {},
   "source": [
    "次に、**変動係数**です。先ほど、分散や標準偏差について見てきましたが、異なる種類のデータですと、これらの単純比較はできません。データの大きさがそもそも異なると、大きな値をとるものの方が偏差も大きくなる傾向にあるからです。例えば、株価（日経平均など）の標準偏差と為替（ドル円など）の標準偏差はそれぞれ計算することができます。しかし、2万円前後で動いている日経平均と100円前後で動いている為替の標準偏差では、スケールが異なるので比較するのはナンセンスです。\n",
    "\n",
    "そこで、以下の変動係数を使うと、スケールに依存せず、比較が可能となります。定義式は次のようになります。標準偏差を平均値で割っています。"
   ]
  },
  {
   "cell_type": "markdown",
   "metadata": {},
   "source": [
    "\\begin{eqnarray}\n",
    "CV = \\frac{\\sigma}{\\overline{x}}\\\n",
    "\\end{eqnarray}"
   ]
  },
  {
   "cell_type": "code",
   "execution_count": 31,
   "metadata": {
    "collapsed": false,
    "jupyter": {
     "outputs_hidden": false
    }
   },
   "outputs": [
    {
     "data": {
      "text/plain": [
       "1.402"
      ]
     },
     "execution_count": 31,
     "metadata": {},
     "output_type": "execute_result"
    }
   ],
   "source": [
    "# 変動係数：欠席数\n",
    "student_data_math.absences.std()/student_data_math.absences.mean()"
   ]
  },
  {
   "cell_type": "markdown",
   "metadata": {},
   "source": [
    "なお、describe()に変動係数は出力されませんが、以下のように一気に算出することも可能です。落第数（failures）と欠席数（absences）のデータの散らばり具合が大きいことがわかります。"
   ]
  },
  {
   "cell_type": "code",
   "execution_count": 32,
   "metadata": {
    "collapsed": false,
    "jupyter": {
     "outputs_hidden": false
    }
   },
   "outputs": [
    {
     "data": {
      "text/plain": [
       "age           0.076427\n",
       "Medu          0.398177\n",
       "Fedu          0.431565\n",
       "traveltime    0.481668\n",
       "studytime     0.412313\n",
       "failures      2.225319\n",
       "famrel        0.227330\n",
       "freetime      0.308725\n",
       "goout         0.358098\n",
       "Dalc          0.601441\n",
       "Walc          0.562121\n",
       "health        0.391147\n",
       "absences      1.401873\n",
       "G1            0.304266\n",
       "G2            0.351086\n",
       "G3            0.439881\n",
       "dtype: float64"
      ]
     },
     "execution_count": 32,
     "metadata": {},
     "output_type": "execute_result"
    }
   ],
   "source": [
    "# それぞれの変動係数をまとめて計算\n",
    "student_data_math.std() / student_data_math.mean() "
   ]
  },
  {
   "cell_type": "markdown",
   "metadata": {},
   "source": [
    "さて、これまでは基本的に1変数のみに着目をして、グラフや要約統計量を算出してきました。次は、変数間の関係性を見ていくために、散布図と相関係数について学びましょう。次の散布図は1期目の成績G1と最終成績G3の図です。"
   ]
  },
  {
   "cell_type": "code",
   "execution_count": 33,
   "metadata": {
    "collapsed": false,
    "jupyter": {
     "outputs_hidden": false
    },
    "nbpresent": {
     "id": "72beaf23-bcc8-4311-b327-b67a3b07436a"
    }
   },
   "outputs": [
    {
     "data": {
      "image/png": "[encoded data removed]",
      "text/plain": [
       "<matplotlib.figure.Figure at 0x113e274e0>"
      ]
     },
     "metadata": {},
     "output_type": "display_data"
    }
   ],
   "source": [
    "# 散布図\n",
    "plt.plot(student_data_math.G1,student_data_math.G3, 'o')\n",
    "\n",
    "# ラベル\n",
    "plt.ylabel(\"G3 grade\")\n",
    "plt.xlabel(\"G1 grade\")\n",
    "plt.grid(True)"
   ]
  },
  {
   "cell_type": "markdown",
   "metadata": {},
   "source": [
    "初めから成績がいい人ほど後の成績もいいというのは当たり前の結果ですが、傾向としてはっきりと表れているのがグラフからわかります。\n",
    "\n",
    "補足として、このグラフをよく見てみると、最終成績(G3,Y軸）が0である人がいるのがわかります。一期の成績で0である人はいなかったので、これが異常値なのか、正しい値なのかはデータを見ているだけでは判断できませんが、データとして成績のスコアが0から20とあるので、正しい値だと判断し、このままで扱いましょう。ビジネスの現場では、なぜこのような値になっているか原因を突き止めるため、このデータに詳しい人、システム関係の人たちとヒアリングしながら理解していきます。もし、欠損値等であった場合には、対処方法は色々とありますが、後の章で学ぶことにしましょう。"
   ]
  },
  {
   "cell_type": "markdown",
   "metadata": {},
   "source": [
    "次に、その2変数の関係性について、数値化してみることを考えます。まずは、**共分散**という2つの変数の関係性を見るための式が以下になります。"
   ]
  },
  {
   "cell_type": "markdown",
   "metadata": {},
   "source": [
    "\\begin{eqnarray}\n",
    "S_{xy} = \\frac{1}{n}\\displaystyle \\sum_{i = 1}^n (x_i - \\overline{x})\n",
    "(y_i - \\overline{y})\n",
    "\\end{eqnarray}"
   ]
  },
  {
   "cell_type": "markdown",
   "metadata": {},
   "source": [
    "共分散は、2組の対応するデータ間での平均からの偏差の積に関する平均値です。2変数以上の分散を考えるときに使われます。Numpyにcovという共分散の行列（共分散行列）を算出する機能があり、以下になります。"
   ]
  },
  {
   "cell_type": "code",
   "execution_count": 36,
   "metadata": {
    "collapsed": false,
    "jupyter": {
     "outputs_hidden": false
    },
    "scrolled": true
   },
   "outputs": [
    {
     "data": {
      "text/plain": [
       "array([[ 11.017,  12.188],\n",
       "       [ 12.188,  20.99 ]])"
      ]
     },
     "execution_count": 36,
     "metadata": {},
     "output_type": "execute_result"
    }
   ],
   "source": [
    "# 共分散行列\n",
    "np.cov(student_data_math.G1, student_data_math.G3)"
   ]
  },
  {
   "cell_type": "markdown",
   "metadata": {},
   "source": [
    "算出されている数値について、共分散行列の(1,2)と(2,1)の要素は同じく12.188となり、これはG1とG3の共分散が算出されています。一方、共分散行列の(1,1)と(2,2)の要素（11.017と20.99）を見てみると、それぞれG1の分散、G3の分散を算出しています。以下の式で算出して、同じ結果であることが確認できます。"
   ]
  },
  {
   "cell_type": "code",
   "execution_count": 37,
   "metadata": {
    "collapsed": false,
    "jupyter": {
     "outputs_hidden": false
    }
   },
   "outputs": [
    {
     "name": "stdout",
     "output_type": "stream",
     "text": [
      "G1の分散: 11.017053267364899\n",
      "G3の分散: 20.989616397866737\n"
     ]
    }
   ],
   "source": [
    "# 分散\n",
    "print(\"G1の分散:\",student_data_math.G1.var())\n",
    "print(\"G3の分散:\",student_data_math.G3.var())"
   ]
  },
  {
   "cell_type": "markdown",
   "metadata": {},
   "source": [
    "共分散はその定義式から、各変数のスケールや単位に依存してしまいます。そのスケールの影響を受けずに、2つの変数の関係を数値化するのが相関係数です。共分散をそれぞれの変数（ここではxとy）の標準偏差で割ってあげた数式が相関係数となり、以下のようになります。"
   ]
  },
  {
   "cell_type": "markdown",
   "metadata": {},
   "source": [
    "\\begin{eqnarray}\n",
    "r_{xy} = \\frac{\\displaystyle \\sum_{i = 1}^n (x_i - \\overline{x})\n",
    "(y_i - \\overline{y})}{\\sqrt{\\displaystyle \\sum_{i = 1}^n \n",
    "(x_i - \\overline{x})^2}\\sqrt{\\displaystyle \\sum_{i = 1}^n \n",
    "(y_i - \\overline{y})^2}}\n",
    "\\end{eqnarray}"
   ]
  },
  {
   "cell_type": "markdown",
   "metadata": {},
   "source": [
    "この相関係数は、-1から1までの値を取り、1に近ければ近いほど**正の相関**があるといい、-1に近ければ近いほど**負の相関**があるといいます。0の場合は、**無相関**であるといいます。"
   ]
  },
  {
   "cell_type": "markdown",
   "metadata": {},
   "source": [
    "Pythonの実装は、scipyのピアソン関数を使って、2変数の相関係数を算出しています。単に相関関数という場合にはピアソン関数を指します。"
   ]
  },
  {
   "cell_type": "code",
   "execution_count": 34,
   "metadata": {
    "collapsed": false,
    "jupyter": {
     "outputs_hidden": false
    },
    "nbpresent": {
     "id": "c68c4e4e-072e-4620-a325-3ebb19ebe1ce"
    }
   },
   "outputs": [
    {
     "data": {
      "text/plain": [
       "(0.801, 0.000)"
      ]
     },
     "execution_count": 34,
     "metadata": {},
     "output_type": "execute_result"
    }
   ],
   "source": [
    "sp.stats.pearsonr(student_data_math.G1,student_data_math.G3)"
   ]
  },
  {
   "cell_type": "markdown",
   "metadata": {},
   "source": [
    "0.8と相関関係がある高い数字が出ました。この数字については、厳密に高い低いというのはなく、またこれが高いからといって**因果関係**があるとは言えないので注意しましょう。（なお、この講座では詳しく扱いませんが、因果関係を把握したい場合には、**実験計画法**と言われるアプローチ等を使っていきます。具体的には、あるマーケティング施策で、ある広告を見て効果があったのかなかったのか、因果関係を知りたい場合に、広告を見せる処置群と何も広告を見せないコントロール群に分けて、その比率等を計算していきます。）"
   ]
  },
  {
   "cell_type": "markdown",
   "metadata": {},
   "source": [
    "次の計算は、相関行列を算出しています。それぞれの変数について、すべての組み合わせで相関係数を算出しています。先ほどのG1とG3の相関係数は0.801となり、また自分自身の相関係数は1になるのが自明ですので、以下のようになります。"
   ]
  },
  {
   "cell_type": "code",
   "execution_count": 35,
   "metadata": {
    "collapsed": false,
    "jupyter": {
     "outputs_hidden": false
    }
   },
   "outputs": [
    {
     "data": {
      "text/plain": [
       "array([[ 1.   ,  0.801],\n",
       "       [ 0.801,  1.   ]])"
      ]
     },
     "execution_count": 35,
     "metadata": {},
     "output_type": "execute_result"
    }
   ],
   "source": [
    "# 相関行列\n",
    "np.corrcoef([student_data_math.G1,student_data_math.G3])"
   ]
  },
  {
   "cell_type": "markdown",
   "metadata": {},
   "source": [
    "最後に、各変数のヒストグラムを全て表示したり、散布図を描く方法を紹介します。seabornのsns.pairplotを使います。色々な変数の関係性を一度に確認できるので、とても便利です。ただし、変数が多いと、計算時間に時間がかかり、若干見にくくなりますが、その時はPandasで学んだ変数を絞り込むなどして、計算を実行してください。\n",
    "\n",
    "サンプルとして、先ほどのデータにて、アルコールの摂取量と成績のスコアに関係があるのか、見てみましょう。Dalcは平日のアルコール摂取量、Walcは週末のアルコール摂取量で、それらと1期目の成績（G1）、最終成績(G3)の関係を見ています。アルコールを飲むからといって、成績が悪いと言えるのでしょうか。それとも関係ないのでしょうか。"
   ]
  },
  {
   "cell_type": "code",
   "execution_count": 38,
   "metadata": {
    "collapsed": false,
    "jupyter": {
     "outputs_hidden": false
    }
   },
   "outputs": [
    {
     "data": {
      "image/png": "[encoded data removed]",
      "text/plain": [
       "<matplotlib.figure.Figure at 0x113af93c8>"
      ]
     },
     "metadata": {},
     "output_type": "display_data"
    }
   ],
   "source": [
    "sns.pairplot(student_data_math[[\"Dalc\",\"Walc\",\"G1\",\"G3\"]])\n",
    "plt.grid(True)"
   ]
  },
  {
   "cell_type": "code",
   "execution_count": 39,
   "metadata": {
    "collapsed": false,
    "jupyter": {
     "outputs_hidden": false
    }
   },
   "outputs": [
    {
     "data": {
      "text/plain": [
       "Walc\n",
       "1    11.178808\n",
       "2    11.270588\n",
       "3    10.937500\n",
       "4     9.980392\n",
       "5     9.964286\n",
       "Name: G1, dtype: float64"
      ]
     },
     "execution_count": 39,
     "metadata": {},
     "output_type": "execute_result"
    }
   ],
   "source": [
    "# 例：週末にアルコールを飲む人の1期目の成績の平均値\n",
    "student_data_math.groupby(\"Walc\")[\"G1\"].mean()"
   ]
  },
  {
   "cell_type": "markdown",
   "metadata": {},
   "source": [
    "グラフから、平日アルコールを頻繁に飲んでいる人（4や5の人）はG3で好成績を取っている人はいないようですが、極端に悪い成績を取っている人もいないようです。また、週末にアルコールを飲まない人の方が1期目の成績は少し良さそうに見えますが、こう結論付けて良いのでしょうか。これらのグラフや数値だけでは、なかなか判断が難しいですが、次の統計の章や機械学習の章でもアプローチしてみます。"
   ]
  },
  {
   "cell_type": "markdown",
   "metadata": {},
   "source": [
    "以上で、記述統計に関する基礎的事項は終了になります。とても基本的な箇所ですが、どんなデータ分析をするにしても、データの全体像をつかむためには、必要な作業となります。\n",
    "\n",
    "この講座では、機械学習のライブライリー等を使って、簡単に機械学習の計算ができることを紹介していきます。一方で、今までやってきた基礎的な統計量を見ていくことも大事であることは強調しておきます。簡単な散布図を書くだけで重要な傾向がわかったりすることもあります。また、ここまでの内容はおそらく数学的なバックグラウンドがない人でもついていきやすく、説明がしやすいです。\n",
    "\n",
    "もちろん、これだけで終わるならば、機械学習は必要なくなりますが、機械学習を適応する前に、データと対話をして、不明事項や異常値等の確認をするなど、関係者と密に連携をとっておけば、よりよいデータ分析ができます。"
   ]
  },
  {
   "cell_type": "markdown",
   "metadata": {},
   "source": [
    ">**[ポイント]**\n",
    "\n",
    ">データ分析をするときにはまず基本統計量やヒストグラム、散布図等を見て、データの全体像を掴もう。"
   ]
  },
  {
   "cell_type": "markdown",
   "metadata": {},
   "source": [
    "#### <練習問題 1>\n",
    "\n",
    "studet-por.csvを読み込んで、要約統計量を表示してください。"
   ]
  },
  {
   "cell_type": "code",
   "execution_count": 16,
   "metadata": {},
   "outputs": [
    {
     "data": {
      "text/html": [
       "<div>\n",
       "<style scoped>\n",
       "    .dataframe tbody tr th:only-of-type {\n",
       "        vertical-align: middle;\n",
       "    }\n",
       "\n",
       "    .dataframe tbody tr th {\n",
       "        vertical-align: top;\n",
       "    }\n",
       "\n",
       "    .dataframe thead th {\n",
       "        text-align: right;\n",
       "    }\n",
       "</style>\n",
       "<table border=\"1\" class=\"dataframe\">\n",
       "  <thead>\n",
       "    <tr style=\"text-align: right;\">\n",
       "      <th></th>\n",
       "      <th>school</th>\n",
       "      <th>sex</th>\n",
       "      <th>age</th>\n",
       "      <th>address</th>\n",
       "      <th>famsize</th>\n",
       "      <th>Pstatus</th>\n",
       "      <th>Medu</th>\n",
       "      <th>Fedu</th>\n",
       "      <th>Mjob</th>\n",
       "      <th>Fjob</th>\n",
       "      <th>...</th>\n",
       "      <th>famrel</th>\n",
       "      <th>freetime</th>\n",
       "      <th>goout</th>\n",
       "      <th>Dalc</th>\n",
       "      <th>Walc</th>\n",
       "      <th>health</th>\n",
       "      <th>absences</th>\n",
       "      <th>G1</th>\n",
       "      <th>G2</th>\n",
       "      <th>G3</th>\n",
       "    </tr>\n",
       "  </thead>\n",
       "  <tbody>\n",
       "    <tr>\n",
       "      <th>0</th>\n",
       "      <td>GP</td>\n",
       "      <td>F</td>\n",
       "      <td>18</td>\n",
       "      <td>U</td>\n",
       "      <td>GT3</td>\n",
       "      <td>A</td>\n",
       "      <td>4</td>\n",
       "      <td>4</td>\n",
       "      <td>at_home</td>\n",
       "      <td>teacher</td>\n",
       "      <td>...</td>\n",
       "      <td>4</td>\n",
       "      <td>3</td>\n",
       "      <td>4</td>\n",
       "      <td>1</td>\n",
       "      <td>1</td>\n",
       "      <td>3</td>\n",
       "      <td>4</td>\n",
       "      <td>0</td>\n",
       "      <td>11</td>\n",
       "      <td>11</td>\n",
       "    </tr>\n",
       "    <tr>\n",
       "      <th>1</th>\n",
       "      <td>GP</td>\n",
       "      <td>F</td>\n",
       "      <td>17</td>\n",
       "      <td>U</td>\n",
       "      <td>GT3</td>\n",
       "      <td>T</td>\n",
       "      <td>1</td>\n",
       "      <td>1</td>\n",
       "      <td>at_home</td>\n",
       "      <td>other</td>\n",
       "      <td>...</td>\n",
       "      <td>5</td>\n",
       "      <td>3</td>\n",
       "      <td>3</td>\n",
       "      <td>1</td>\n",
       "      <td>1</td>\n",
       "      <td>3</td>\n",
       "      <td>2</td>\n",
       "      <td>9</td>\n",
       "      <td>11</td>\n",
       "      <td>11</td>\n",
       "    </tr>\n",
       "    <tr>\n",
       "      <th>2</th>\n",
       "      <td>GP</td>\n",
       "      <td>F</td>\n",
       "      <td>15</td>\n",
       "      <td>U</td>\n",
       "      <td>LE3</td>\n",
       "      <td>T</td>\n",
       "      <td>1</td>\n",
       "      <td>1</td>\n",
       "      <td>at_home</td>\n",
       "      <td>other</td>\n",
       "      <td>...</td>\n",
       "      <td>4</td>\n",
       "      <td>3</td>\n",
       "      <td>2</td>\n",
       "      <td>2</td>\n",
       "      <td>3</td>\n",
       "      <td>3</td>\n",
       "      <td>6</td>\n",
       "      <td>12</td>\n",
       "      <td>13</td>\n",
       "      <td>12</td>\n",
       "    </tr>\n",
       "    <tr>\n",
       "      <th>3</th>\n",
       "      <td>GP</td>\n",
       "      <td>F</td>\n",
       "      <td>15</td>\n",
       "      <td>U</td>\n",
       "      <td>GT3</td>\n",
       "      <td>T</td>\n",
       "      <td>4</td>\n",
       "      <td>2</td>\n",
       "      <td>health</td>\n",
       "      <td>services</td>\n",
       "      <td>...</td>\n",
       "      <td>3</td>\n",
       "      <td>2</td>\n",
       "      <td>2</td>\n",
       "      <td>1</td>\n",
       "      <td>1</td>\n",
       "      <td>5</td>\n",
       "      <td>0</td>\n",
       "      <td>14</td>\n",
       "      <td>14</td>\n",
       "      <td>14</td>\n",
       "    </tr>\n",
       "    <tr>\n",
       "      <th>4</th>\n",
       "      <td>GP</td>\n",
       "      <td>F</td>\n",
       "      <td>16</td>\n",
       "      <td>U</td>\n",
       "      <td>GT3</td>\n",
       "      <td>T</td>\n",
       "      <td>3</td>\n",
       "      <td>3</td>\n",
       "      <td>other</td>\n",
       "      <td>other</td>\n",
       "      <td>...</td>\n",
       "      <td>4</td>\n",
       "      <td>3</td>\n",
       "      <td>2</td>\n",
       "      <td>1</td>\n",
       "      <td>2</td>\n",
       "      <td>5</td>\n",
       "      <td>0</td>\n",
       "      <td>11</td>\n",
       "      <td>13</td>\n",
       "      <td>13</td>\n",
       "    </tr>\n",
       "  </tbody>\n",
       "</table>\n",
       "<p>5 rows × 33 columns</p>\n",
       "</div>"
      ],
      "text/plain": [
       "  school sex  age address famsize Pstatus  Medu  Fedu     Mjob      Fjob  ...  \\\n",
       "0     GP   F   18       U     GT3       A     4     4  at_home   teacher  ...   \n",
       "1     GP   F   17       U     GT3       T     1     1  at_home     other  ...   \n",
       "2     GP   F   15       U     LE3       T     1     1  at_home     other  ...   \n",
       "3     GP   F   15       U     GT3       T     4     2   health  services  ...   \n",
       "4     GP   F   16       U     GT3       T     3     3    other     other  ...   \n",
       "\n",
       "  famrel freetime  goout  Dalc  Walc health absences  G1  G2  G3  \n",
       "0      4        3      4     1     1      3        4   0  11  11  \n",
       "1      5        3      3     1     1      3        2   9  11  11  \n",
       "2      4        3      2     2     3      3        6  12  13  12  \n",
       "3      3        2      2     1     1      5        0  14  14  14  \n",
       "4      4        3      2     1     2      5        0  11  13  13  \n",
       "\n",
       "[5 rows x 33 columns]"
      ]
     },
     "execution_count": 16,
     "metadata": {},
     "output_type": "execute_result"
    }
   ],
   "source": [
    "student_data_por = pd.read_csv(\"student-por.csv\", sep=\";\")\n",
    "student_data_por.head()"
   ]
  },
  {
   "cell_type": "code",
   "execution_count": 17,
   "metadata": {},
   "outputs": [
    {
     "data": {
      "text/html": [
       "<div>\n",
       "<style scoped>\n",
       "    .dataframe tbody tr th:only-of-type {\n",
       "        vertical-align: middle;\n",
       "    }\n",
       "\n",
       "    .dataframe tbody tr th {\n",
       "        vertical-align: top;\n",
       "    }\n",
       "\n",
       "    .dataframe thead th {\n",
       "        text-align: right;\n",
       "    }\n",
       "</style>\n",
       "<table border=\"1\" class=\"dataframe\">\n",
       "  <thead>\n",
       "    <tr style=\"text-align: right;\">\n",
       "      <th></th>\n",
       "      <th>age</th>\n",
       "      <th>Medu</th>\n",
       "      <th>Fedu</th>\n",
       "      <th>traveltime</th>\n",
       "      <th>studytime</th>\n",
       "      <th>failures</th>\n",
       "      <th>famrel</th>\n",
       "      <th>freetime</th>\n",
       "      <th>goout</th>\n",
       "      <th>Dalc</th>\n",
       "      <th>Walc</th>\n",
       "      <th>health</th>\n",
       "      <th>absences</th>\n",
       "      <th>G1</th>\n",
       "      <th>G2</th>\n",
       "      <th>G3</th>\n",
       "    </tr>\n",
       "  </thead>\n",
       "  <tbody>\n",
       "    <tr>\n",
       "      <th>count</th>\n",
       "      <td>649.000000</td>\n",
       "      <td>649.000000</td>\n",
       "      <td>649.000000</td>\n",
       "      <td>649.000000</td>\n",
       "      <td>649.000000</td>\n",
       "      <td>649.000000</td>\n",
       "      <td>649.000000</td>\n",
       "      <td>649.000000</td>\n",
       "      <td>649.000000</td>\n",
       "      <td>649.000000</td>\n",
       "      <td>649.000000</td>\n",
       "      <td>649.000000</td>\n",
       "      <td>649.000000</td>\n",
       "      <td>649.000000</td>\n",
       "      <td>649.000000</td>\n",
       "      <td>649.000000</td>\n",
       "    </tr>\n",
       "    <tr>\n",
       "      <th>mean</th>\n",
       "      <td>16.744222</td>\n",
       "      <td>2.514638</td>\n",
       "      <td>2.306626</td>\n",
       "      <td>1.568567</td>\n",
       "      <td>1.930663</td>\n",
       "      <td>0.221880</td>\n",
       "      <td>3.930663</td>\n",
       "      <td>3.180277</td>\n",
       "      <td>3.184900</td>\n",
       "      <td>1.502311</td>\n",
       "      <td>2.280431</td>\n",
       "      <td>3.536210</td>\n",
       "      <td>3.659476</td>\n",
       "      <td>11.399076</td>\n",
       "      <td>11.570108</td>\n",
       "      <td>11.906009</td>\n",
       "    </tr>\n",
       "    <tr>\n",
       "      <th>std</th>\n",
       "      <td>1.218138</td>\n",
       "      <td>1.134552</td>\n",
       "      <td>1.099931</td>\n",
       "      <td>0.748660</td>\n",
       "      <td>0.829510</td>\n",
       "      <td>0.593235</td>\n",
       "      <td>0.955717</td>\n",
       "      <td>1.051093</td>\n",
       "      <td>1.175766</td>\n",
       "      <td>0.924834</td>\n",
       "      <td>1.284380</td>\n",
       "      <td>1.446259</td>\n",
       "      <td>4.640759</td>\n",
       "      <td>2.745265</td>\n",
       "      <td>2.913639</td>\n",
       "      <td>3.230656</td>\n",
       "    </tr>\n",
       "    <tr>\n",
       "      <th>min</th>\n",
       "      <td>15.000000</td>\n",
       "      <td>0.000000</td>\n",
       "      <td>0.000000</td>\n",
       "      <td>1.000000</td>\n",
       "      <td>1.000000</td>\n",
       "      <td>0.000000</td>\n",
       "      <td>1.000000</td>\n",
       "      <td>1.000000</td>\n",
       "      <td>1.000000</td>\n",
       "      <td>1.000000</td>\n",
       "      <td>1.000000</td>\n",
       "      <td>1.000000</td>\n",
       "      <td>0.000000</td>\n",
       "      <td>0.000000</td>\n",
       "      <td>0.000000</td>\n",
       "      <td>0.000000</td>\n",
       "    </tr>\n",
       "    <tr>\n",
       "      <th>25%</th>\n",
       "      <td>16.000000</td>\n",
       "      <td>2.000000</td>\n",
       "      <td>1.000000</td>\n",
       "      <td>1.000000</td>\n",
       "      <td>1.000000</td>\n",
       "      <td>0.000000</td>\n",
       "      <td>4.000000</td>\n",
       "      <td>3.000000</td>\n",
       "      <td>2.000000</td>\n",
       "      <td>1.000000</td>\n",
       "      <td>1.000000</td>\n",
       "      <td>2.000000</td>\n",
       "      <td>0.000000</td>\n",
       "      <td>10.000000</td>\n",
       "      <td>10.000000</td>\n",
       "      <td>10.000000</td>\n",
       "    </tr>\n",
       "    <tr>\n",
       "      <th>50%</th>\n",
       "      <td>17.000000</td>\n",
       "      <td>2.000000</td>\n",
       "      <td>2.000000</td>\n",
       "      <td>1.000000</td>\n",
       "      <td>2.000000</td>\n",
       "      <td>0.000000</td>\n",
       "      <td>4.000000</td>\n",
       "      <td>3.000000</td>\n",
       "      <td>3.000000</td>\n",
       "      <td>1.000000</td>\n",
       "      <td>2.000000</td>\n",
       "      <td>4.000000</td>\n",
       "      <td>2.000000</td>\n",
       "      <td>11.000000</td>\n",
       "      <td>11.000000</td>\n",
       "      <td>12.000000</td>\n",
       "    </tr>\n",
       "    <tr>\n",
       "      <th>75%</th>\n",
       "      <td>18.000000</td>\n",
       "      <td>4.000000</td>\n",
       "      <td>3.000000</td>\n",
       "      <td>2.000000</td>\n",
       "      <td>2.000000</td>\n",
       "      <td>0.000000</td>\n",
       "      <td>5.000000</td>\n",
       "      <td>4.000000</td>\n",
       "      <td>4.000000</td>\n",
       "      <td>2.000000</td>\n",
       "      <td>3.000000</td>\n",
       "      <td>5.000000</td>\n",
       "      <td>6.000000</td>\n",
       "      <td>13.000000</td>\n",
       "      <td>13.000000</td>\n",
       "      <td>14.000000</td>\n",
       "    </tr>\n",
       "    <tr>\n",
       "      <th>max</th>\n",
       "      <td>22.000000</td>\n",
       "      <td>4.000000</td>\n",
       "      <td>4.000000</td>\n",
       "      <td>4.000000</td>\n",
       "      <td>4.000000</td>\n",
       "      <td>3.000000</td>\n",
       "      <td>5.000000</td>\n",
       "      <td>5.000000</td>\n",
       "      <td>5.000000</td>\n",
       "      <td>5.000000</td>\n",
       "      <td>5.000000</td>\n",
       "      <td>5.000000</td>\n",
       "      <td>32.000000</td>\n",
       "      <td>19.000000</td>\n",
       "      <td>19.000000</td>\n",
       "      <td>19.000000</td>\n",
       "    </tr>\n",
       "  </tbody>\n",
       "</table>\n",
       "</div>"
      ],
      "text/plain": [
       "              age        Medu        Fedu  traveltime   studytime    failures  \\\n",
       "count  649.000000  649.000000  649.000000  649.000000  649.000000  649.000000   \n",
       "mean    16.744222    2.514638    2.306626    1.568567    1.930663    0.221880   \n",
       "std      1.218138    1.134552    1.099931    0.748660    0.829510    0.593235   \n",
       "min     15.000000    0.000000    0.000000    1.000000    1.000000    0.000000   \n",
       "25%     16.000000    2.000000    1.000000    1.000000    1.000000    0.000000   \n",
       "50%     17.000000    2.000000    2.000000    1.000000    2.000000    0.000000   \n",
       "75%     18.000000    4.000000    3.000000    2.000000    2.000000    0.000000   \n",
       "max     22.000000    4.000000    4.000000    4.000000    4.000000    3.000000   \n",
       "\n",
       "           famrel    freetime       goout        Dalc        Walc      health  \\\n",
       "count  649.000000  649.000000  649.000000  649.000000  649.000000  649.000000   \n",
       "mean     3.930663    3.180277    3.184900    1.502311    2.280431    3.536210   \n",
       "std      0.955717    1.051093    1.175766    0.924834    1.284380    1.446259   \n",
       "min      1.000000    1.000000    1.000000    1.000000    1.000000    1.000000   \n",
       "25%      4.000000    3.000000    2.000000    1.000000    1.000000    2.000000   \n",
       "50%      4.000000    3.000000    3.000000    1.000000    2.000000    4.000000   \n",
       "75%      5.000000    4.000000    4.000000    2.000000    3.000000    5.000000   \n",
       "max      5.000000    5.000000    5.000000    5.000000    5.000000    5.000000   \n",
       "\n",
       "         absences          G1          G2          G3  \n",
       "count  649.000000  649.000000  649.000000  649.000000  \n",
       "mean     3.659476   11.399076   11.570108   11.906009  \n",
       "std      4.640759    2.745265    2.913639    3.230656  \n",
       "min      0.000000    0.000000    0.000000    0.000000  \n",
       "25%      0.000000   10.000000   10.000000   10.000000  \n",
       "50%      2.000000   11.000000   11.000000   12.000000  \n",
       "75%      6.000000   13.000000   13.000000   14.000000  \n",
       "max     32.000000   19.000000   19.000000   19.000000  "
      ]
     },
     "execution_count": 17,
     "metadata": {},
     "output_type": "execute_result"
    }
   ],
   "source": [
    "# 要約統計量まとめて計算\n",
    "student_data_por.describe()"
   ]
  },
  {
   "cell_type": "markdown",
   "metadata": {},
   "source": [
    "#### <練習問題 2>\n",
    "\n",
    "以下の変数をキーとして、先ほどの数学のデータとポルトガル語のデータをマージしてください。マージするときは、両方ともに含まれているデータを対象としてください（内部結合と言います）。そして、要約統計量など計算してください。なお、以下以外の変数名は、重複がありますので、suffixes=('_math', '_por')のパラメータを追加して、どちらからのデータかわかるようにしてください。\n",
    "\n",
    "[\"school\",\"sex\",\"age\",\"address\",\"famsize\",\"Pstatus\",\"Medu\",\"Fedu\",\"Mjob\",\"Fjob\",\"reason\",\"nursery\",\"internet\"]"
   ]
  },
  {
   "cell_type": "code",
   "execution_count": 27,
   "metadata": {},
   "outputs": [],
   "source": [
    "student_data_math_por = pd.merge(student_data_math, student_data_por,on=[\"school\",\"sex\",\"age\",\"address\",\"famsize\",\"Pstatus\",\"Medu\",\"Fedu\",\"Mjob\",\"Fjob\",\"reason\",\"nursery\",\"internet\"] ,how='inner' ,suffixes=('_math', '_por'))"
   ]
  },
  {
   "cell_type": "code",
   "execution_count": 41,
   "metadata": {},
   "outputs": [
    {
     "data": {
      "text/html": [
       "<div>\n",
       "<style scoped>\n",
       "    .dataframe tbody tr th:only-of-type {\n",
       "        vertical-align: middle;\n",
       "    }\n",
       "\n",
       "    .dataframe tbody tr th {\n",
       "        vertical-align: top;\n",
       "    }\n",
       "\n",
       "    .dataframe thead th {\n",
       "        text-align: right;\n",
       "    }\n",
       "</style>\n",
       "<table border=\"1\" class=\"dataframe\">\n",
       "  <thead>\n",
       "    <tr style=\"text-align: right;\">\n",
       "      <th></th>\n",
       "      <th>school</th>\n",
       "      <th>sex</th>\n",
       "      <th>age</th>\n",
       "      <th>address</th>\n",
       "      <th>famsize</th>\n",
       "      <th>Pstatus</th>\n",
       "      <th>Medu</th>\n",
       "      <th>Fedu</th>\n",
       "      <th>Mjob</th>\n",
       "      <th>Fjob</th>\n",
       "      <th>...</th>\n",
       "      <th>famrel_por</th>\n",
       "      <th>freetime_por</th>\n",
       "      <th>goout_por</th>\n",
       "      <th>Dalc_por</th>\n",
       "      <th>Walc_por</th>\n",
       "      <th>health_por</th>\n",
       "      <th>absences_por</th>\n",
       "      <th>G1_por</th>\n",
       "      <th>G2_por</th>\n",
       "      <th>G3_por</th>\n",
       "    </tr>\n",
       "  </thead>\n",
       "  <tbody>\n",
       "    <tr>\n",
       "      <th>0</th>\n",
       "      <td>GP</td>\n",
       "      <td>F</td>\n",
       "      <td>18</td>\n",
       "      <td>U</td>\n",
       "      <td>GT3</td>\n",
       "      <td>A</td>\n",
       "      <td>4</td>\n",
       "      <td>4</td>\n",
       "      <td>at_home</td>\n",
       "      <td>teacher</td>\n",
       "      <td>...</td>\n",
       "      <td>4</td>\n",
       "      <td>3</td>\n",
       "      <td>4</td>\n",
       "      <td>1</td>\n",
       "      <td>1</td>\n",
       "      <td>3</td>\n",
       "      <td>4</td>\n",
       "      <td>0</td>\n",
       "      <td>11</td>\n",
       "      <td>11</td>\n",
       "    </tr>\n",
       "    <tr>\n",
       "      <th>1</th>\n",
       "      <td>GP</td>\n",
       "      <td>F</td>\n",
       "      <td>17</td>\n",
       "      <td>U</td>\n",
       "      <td>GT3</td>\n",
       "      <td>T</td>\n",
       "      <td>1</td>\n",
       "      <td>1</td>\n",
       "      <td>at_home</td>\n",
       "      <td>other</td>\n",
       "      <td>...</td>\n",
       "      <td>5</td>\n",
       "      <td>3</td>\n",
       "      <td>3</td>\n",
       "      <td>1</td>\n",
       "      <td>1</td>\n",
       "      <td>3</td>\n",
       "      <td>2</td>\n",
       "      <td>9</td>\n",
       "      <td>11</td>\n",
       "      <td>11</td>\n",
       "    </tr>\n",
       "    <tr>\n",
       "      <th>2</th>\n",
       "      <td>GP</td>\n",
       "      <td>F</td>\n",
       "      <td>15</td>\n",
       "      <td>U</td>\n",
       "      <td>LE3</td>\n",
       "      <td>T</td>\n",
       "      <td>1</td>\n",
       "      <td>1</td>\n",
       "      <td>at_home</td>\n",
       "      <td>other</td>\n",
       "      <td>...</td>\n",
       "      <td>4</td>\n",
       "      <td>3</td>\n",
       "      <td>2</td>\n",
       "      <td>2</td>\n",
       "      <td>3</td>\n",
       "      <td>3</td>\n",
       "      <td>6</td>\n",
       "      <td>12</td>\n",
       "      <td>13</td>\n",
       "      <td>12</td>\n",
       "    </tr>\n",
       "    <tr>\n",
       "      <th>3</th>\n",
       "      <td>GP</td>\n",
       "      <td>F</td>\n",
       "      <td>15</td>\n",
       "      <td>U</td>\n",
       "      <td>GT3</td>\n",
       "      <td>T</td>\n",
       "      <td>4</td>\n",
       "      <td>2</td>\n",
       "      <td>health</td>\n",
       "      <td>services</td>\n",
       "      <td>...</td>\n",
       "      <td>3</td>\n",
       "      <td>2</td>\n",
       "      <td>2</td>\n",
       "      <td>1</td>\n",
       "      <td>1</td>\n",
       "      <td>5</td>\n",
       "      <td>0</td>\n",
       "      <td>14</td>\n",
       "      <td>14</td>\n",
       "      <td>14</td>\n",
       "    </tr>\n",
       "    <tr>\n",
       "      <th>4</th>\n",
       "      <td>GP</td>\n",
       "      <td>F</td>\n",
       "      <td>16</td>\n",
       "      <td>U</td>\n",
       "      <td>GT3</td>\n",
       "      <td>T</td>\n",
       "      <td>3</td>\n",
       "      <td>3</td>\n",
       "      <td>other</td>\n",
       "      <td>other</td>\n",
       "      <td>...</td>\n",
       "      <td>4</td>\n",
       "      <td>3</td>\n",
       "      <td>2</td>\n",
       "      <td>1</td>\n",
       "      <td>2</td>\n",
       "      <td>5</td>\n",
       "      <td>0</td>\n",
       "      <td>11</td>\n",
       "      <td>13</td>\n",
       "      <td>13</td>\n",
       "    </tr>\n",
       "  </tbody>\n",
       "</table>\n",
       "<p>5 rows × 53 columns</p>\n",
       "</div>"
      ],
      "text/plain": [
       "  school sex  age address famsize Pstatus  Medu  Fedu     Mjob      Fjob  ...  \\\n",
       "0     GP   F   18       U     GT3       A     4     4  at_home   teacher  ...   \n",
       "1     GP   F   17       U     GT3       T     1     1  at_home     other  ...   \n",
       "2     GP   F   15       U     LE3       T     1     1  at_home     other  ...   \n",
       "3     GP   F   15       U     GT3       T     4     2   health  services  ...   \n",
       "4     GP   F   16       U     GT3       T     3     3    other     other  ...   \n",
       "\n",
       "  famrel_por freetime_por  goout_por  Dalc_por  Walc_por health_por  \\\n",
       "0          4            3          4         1         1          3   \n",
       "1          5            3          3         1         1          3   \n",
       "2          4            3          2         2         3          3   \n",
       "3          3            2          2         1         1          5   \n",
       "4          4            3          2         1         2          5   \n",
       "\n",
       "  absences_por G1_por G2_por G3_por  \n",
       "0            4      0     11     11  \n",
       "1            2      9     11     11  \n",
       "2            6     12     13     12  \n",
       "3            0     14     14     14  \n",
       "4            0     11     13     13  \n",
       "\n",
       "[5 rows x 53 columns]"
      ]
     },
     "execution_count": 41,
     "metadata": {},
     "output_type": "execute_result"
    }
   ],
   "source": [
    "student_data_math_por.head()"
   ]
  },
  {
   "cell_type": "code",
   "execution_count": 29,
   "metadata": {},
   "outputs": [
    {
     "data": {
      "text/html": [
       "<div>\n",
       "<style scoped>\n",
       "    .dataframe tbody tr th:only-of-type {\n",
       "        vertical-align: middle;\n",
       "    }\n",
       "\n",
       "    .dataframe tbody tr th {\n",
       "        vertical-align: top;\n",
       "    }\n",
       "\n",
       "    .dataframe thead th {\n",
       "        text-align: right;\n",
       "    }\n",
       "</style>\n",
       "<table border=\"1\" class=\"dataframe\">\n",
       "  <thead>\n",
       "    <tr style=\"text-align: right;\">\n",
       "      <th></th>\n",
       "      <th>age</th>\n",
       "      <th>Medu</th>\n",
       "      <th>Fedu</th>\n",
       "      <th>traveltime_math</th>\n",
       "      <th>studytime_math</th>\n",
       "      <th>failures_math</th>\n",
       "      <th>famrel_math</th>\n",
       "      <th>freetime_math</th>\n",
       "      <th>goout_math</th>\n",
       "      <th>Dalc_math</th>\n",
       "      <th>...</th>\n",
       "      <th>famrel_por</th>\n",
       "      <th>freetime_por</th>\n",
       "      <th>goout_por</th>\n",
       "      <th>Dalc_por</th>\n",
       "      <th>Walc_por</th>\n",
       "      <th>health_por</th>\n",
       "      <th>absences_por</th>\n",
       "      <th>G1_por</th>\n",
       "      <th>G2_por</th>\n",
       "      <th>G3_por</th>\n",
       "    </tr>\n",
       "  </thead>\n",
       "  <tbody>\n",
       "    <tr>\n",
       "      <th>count</th>\n",
       "      <td>382.000000</td>\n",
       "      <td>382.000000</td>\n",
       "      <td>382.000000</td>\n",
       "      <td>382.000000</td>\n",
       "      <td>382.000000</td>\n",
       "      <td>382.000000</td>\n",
       "      <td>382.000000</td>\n",
       "      <td>382.000000</td>\n",
       "      <td>382.000000</td>\n",
       "      <td>382.000000</td>\n",
       "      <td>...</td>\n",
       "      <td>382.000000</td>\n",
       "      <td>382.000000</td>\n",
       "      <td>382.000000</td>\n",
       "      <td>382.000000</td>\n",
       "      <td>382.000000</td>\n",
       "      <td>382.000000</td>\n",
       "      <td>382.000000</td>\n",
       "      <td>382.000000</td>\n",
       "      <td>382.000000</td>\n",
       "      <td>382.000000</td>\n",
       "    </tr>\n",
       "    <tr>\n",
       "      <th>mean</th>\n",
       "      <td>16.586387</td>\n",
       "      <td>2.806283</td>\n",
       "      <td>2.565445</td>\n",
       "      <td>1.442408</td>\n",
       "      <td>2.034031</td>\n",
       "      <td>0.290576</td>\n",
       "      <td>3.939791</td>\n",
       "      <td>3.222513</td>\n",
       "      <td>3.112565</td>\n",
       "      <td>1.473822</td>\n",
       "      <td>...</td>\n",
       "      <td>3.942408</td>\n",
       "      <td>3.230366</td>\n",
       "      <td>3.117801</td>\n",
       "      <td>1.476440</td>\n",
       "      <td>2.290576</td>\n",
       "      <td>3.575916</td>\n",
       "      <td>3.672775</td>\n",
       "      <td>12.112565</td>\n",
       "      <td>12.238220</td>\n",
       "      <td>12.515707</td>\n",
       "    </tr>\n",
       "    <tr>\n",
       "      <th>std</th>\n",
       "      <td>1.173470</td>\n",
       "      <td>1.086381</td>\n",
       "      <td>1.096240</td>\n",
       "      <td>0.695378</td>\n",
       "      <td>0.845798</td>\n",
       "      <td>0.729481</td>\n",
       "      <td>0.921620</td>\n",
       "      <td>0.988233</td>\n",
       "      <td>1.131927</td>\n",
       "      <td>0.886229</td>\n",
       "      <td>...</td>\n",
       "      <td>0.908884</td>\n",
       "      <td>0.985096</td>\n",
       "      <td>1.133710</td>\n",
       "      <td>0.886303</td>\n",
       "      <td>1.282577</td>\n",
       "      <td>1.404248</td>\n",
       "      <td>4.905965</td>\n",
       "      <td>2.556531</td>\n",
       "      <td>2.468341</td>\n",
       "      <td>2.945438</td>\n",
       "    </tr>\n",
       "    <tr>\n",
       "      <th>min</th>\n",
       "      <td>15.000000</td>\n",
       "      <td>0.000000</td>\n",
       "      <td>0.000000</td>\n",
       "      <td>1.000000</td>\n",
       "      <td>1.000000</td>\n",
       "      <td>0.000000</td>\n",
       "      <td>1.000000</td>\n",
       "      <td>1.000000</td>\n",
       "      <td>1.000000</td>\n",
       "      <td>1.000000</td>\n",
       "      <td>...</td>\n",
       "      <td>1.000000</td>\n",
       "      <td>1.000000</td>\n",
       "      <td>1.000000</td>\n",
       "      <td>1.000000</td>\n",
       "      <td>1.000000</td>\n",
       "      <td>1.000000</td>\n",
       "      <td>0.000000</td>\n",
       "      <td>0.000000</td>\n",
       "      <td>5.000000</td>\n",
       "      <td>0.000000</td>\n",
       "    </tr>\n",
       "    <tr>\n",
       "      <th>25%</th>\n",
       "      <td>16.000000</td>\n",
       "      <td>2.000000</td>\n",
       "      <td>2.000000</td>\n",
       "      <td>1.000000</td>\n",
       "      <td>1.000000</td>\n",
       "      <td>0.000000</td>\n",
       "      <td>4.000000</td>\n",
       "      <td>3.000000</td>\n",
       "      <td>2.000000</td>\n",
       "      <td>1.000000</td>\n",
       "      <td>...</td>\n",
       "      <td>4.000000</td>\n",
       "      <td>3.000000</td>\n",
       "      <td>2.000000</td>\n",
       "      <td>1.000000</td>\n",
       "      <td>1.000000</td>\n",
       "      <td>3.000000</td>\n",
       "      <td>0.000000</td>\n",
       "      <td>10.000000</td>\n",
       "      <td>11.000000</td>\n",
       "      <td>11.000000</td>\n",
       "    </tr>\n",
       "    <tr>\n",
       "      <th>50%</th>\n",
       "      <td>17.000000</td>\n",
       "      <td>3.000000</td>\n",
       "      <td>3.000000</td>\n",
       "      <td>1.000000</td>\n",
       "      <td>2.000000</td>\n",
       "      <td>0.000000</td>\n",
       "      <td>4.000000</td>\n",
       "      <td>3.000000</td>\n",
       "      <td>3.000000</td>\n",
       "      <td>1.000000</td>\n",
       "      <td>...</td>\n",
       "      <td>4.000000</td>\n",
       "      <td>3.000000</td>\n",
       "      <td>3.000000</td>\n",
       "      <td>1.000000</td>\n",
       "      <td>2.000000</td>\n",
       "      <td>4.000000</td>\n",
       "      <td>2.000000</td>\n",
       "      <td>12.000000</td>\n",
       "      <td>12.000000</td>\n",
       "      <td>13.000000</td>\n",
       "    </tr>\n",
       "    <tr>\n",
       "      <th>75%</th>\n",
       "      <td>17.000000</td>\n",
       "      <td>4.000000</td>\n",
       "      <td>4.000000</td>\n",
       "      <td>2.000000</td>\n",
       "      <td>2.000000</td>\n",
       "      <td>0.000000</td>\n",
       "      <td>5.000000</td>\n",
       "      <td>4.000000</td>\n",
       "      <td>4.000000</td>\n",
       "      <td>2.000000</td>\n",
       "      <td>...</td>\n",
       "      <td>5.000000</td>\n",
       "      <td>4.000000</td>\n",
       "      <td>4.000000</td>\n",
       "      <td>2.000000</td>\n",
       "      <td>3.000000</td>\n",
       "      <td>5.000000</td>\n",
       "      <td>6.000000</td>\n",
       "      <td>14.000000</td>\n",
       "      <td>14.000000</td>\n",
       "      <td>14.000000</td>\n",
       "    </tr>\n",
       "    <tr>\n",
       "      <th>max</th>\n",
       "      <td>22.000000</td>\n",
       "      <td>4.000000</td>\n",
       "      <td>4.000000</td>\n",
       "      <td>4.000000</td>\n",
       "      <td>4.000000</td>\n",
       "      <td>3.000000</td>\n",
       "      <td>5.000000</td>\n",
       "      <td>5.000000</td>\n",
       "      <td>5.000000</td>\n",
       "      <td>5.000000</td>\n",
       "      <td>...</td>\n",
       "      <td>5.000000</td>\n",
       "      <td>5.000000</td>\n",
       "      <td>5.000000</td>\n",
       "      <td>5.000000</td>\n",
       "      <td>5.000000</td>\n",
       "      <td>5.000000</td>\n",
       "      <td>32.000000</td>\n",
       "      <td>19.000000</td>\n",
       "      <td>19.000000</td>\n",
       "      <td>19.000000</td>\n",
       "    </tr>\n",
       "  </tbody>\n",
       "</table>\n",
       "<p>8 rows × 29 columns</p>\n",
       "</div>"
      ],
      "text/plain": [
       "              age        Medu        Fedu  traveltime_math  studytime_math  \\\n",
       "count  382.000000  382.000000  382.000000       382.000000      382.000000   \n",
       "mean    16.586387    2.806283    2.565445         1.442408        2.034031   \n",
       "std      1.173470    1.086381    1.096240         0.695378        0.845798   \n",
       "min     15.000000    0.000000    0.000000         1.000000        1.000000   \n",
       "25%     16.000000    2.000000    2.000000         1.000000        1.000000   \n",
       "50%     17.000000    3.000000    3.000000         1.000000        2.000000   \n",
       "75%     17.000000    4.000000    4.000000         2.000000        2.000000   \n",
       "max     22.000000    4.000000    4.000000         4.000000        4.000000   \n",
       "\n",
       "       failures_math  famrel_math  freetime_math  goout_math   Dalc_math  ...  \\\n",
       "count     382.000000   382.000000     382.000000  382.000000  382.000000  ...   \n",
       "mean        0.290576     3.939791       3.222513    3.112565    1.473822  ...   \n",
       "std         0.729481     0.921620       0.988233    1.131927    0.886229  ...   \n",
       "min         0.000000     1.000000       1.000000    1.000000    1.000000  ...   \n",
       "25%         0.000000     4.000000       3.000000    2.000000    1.000000  ...   \n",
       "50%         0.000000     4.000000       3.000000    3.000000    1.000000  ...   \n",
       "75%         0.000000     5.000000       4.000000    4.000000    2.000000  ...   \n",
       "max         3.000000     5.000000       5.000000    5.000000    5.000000  ...   \n",
       "\n",
       "       famrel_por  freetime_por   goout_por    Dalc_por    Walc_por  \\\n",
       "count  382.000000    382.000000  382.000000  382.000000  382.000000   \n",
       "mean     3.942408      3.230366    3.117801    1.476440    2.290576   \n",
       "std      0.908884      0.985096    1.133710    0.886303    1.282577   \n",
       "min      1.000000      1.000000    1.000000    1.000000    1.000000   \n",
       "25%      4.000000      3.000000    2.000000    1.000000    1.000000   \n",
       "50%      4.000000      3.000000    3.000000    1.000000    2.000000   \n",
       "75%      5.000000      4.000000    4.000000    2.000000    3.000000   \n",
       "max      5.000000      5.000000    5.000000    5.000000    5.000000   \n",
       "\n",
       "       health_por  absences_por      G1_por      G2_por      G3_por  \n",
       "count  382.000000    382.000000  382.000000  382.000000  382.000000  \n",
       "mean     3.575916      3.672775   12.112565   12.238220   12.515707  \n",
       "std      1.404248      4.905965    2.556531    2.468341    2.945438  \n",
       "min      1.000000      0.000000    0.000000    5.000000    0.000000  \n",
       "25%      3.000000      0.000000   10.000000   11.000000   11.000000  \n",
       "50%      4.000000      2.000000   12.000000   12.000000   13.000000  \n",
       "75%      5.000000      6.000000   14.000000   14.000000   14.000000  \n",
       "max      5.000000     32.000000   19.000000   19.000000   19.000000  \n",
       "\n",
       "[8 rows x 29 columns]"
      ]
     },
     "execution_count": 29,
     "metadata": {},
     "output_type": "execute_result"
    }
   ],
   "source": [
    "# 要約統計量まとめて計算\n",
    "student_data_math_por.describe()"
   ]
  },
  {
   "cell_type": "code",
   "execution_count": 35,
   "metadata": {},
   "outputs": [
    {
     "data": {
      "image/png": "[encoded data removed]",
      "text/plain": [
       "<Figure size 432x288 with 1 Axes>"
      ]
     },
     "metadata": {
      "needs_background": "light"
     },
     "output_type": "display_data"
    }
   ],
   "source": [
    "plt.boxplot([student_data_math_por.G1_por,student_data_math_por.G1_math,student_data_math_por.G2_por,student_data_math_por.G2_math,student_data_math_por.G3_por,student_data_math_por.G3_math])\n",
    "plt.grid(True)"
   ]
  },
  {
   "cell_type": "markdown",
   "metadata": {},
   "source": [
    "#### <練習問題 3>\n",
    "\n",
    "上記のマージしたデータについて、変数を幾つかピックアップして、散布図とヒストグラムを作成してみましょう。どういった傾向がありますか。また、数学データのみの結果と違いはありますか。考察してみましょう。"
   ]
  },
  {
   "cell_type": "code",
   "execution_count": 44,
   "metadata": {},
   "outputs": [
    {
     "data": {
      "image/png": "[encoded data removed]",
      "text/plain": [
       "<Figure size 900x900 with 30 Axes>"
      ]
     },
     "metadata": {
      "needs_background": "light"
     },
     "output_type": "display_data"
    }
   ],
   "source": [
    "sns.pairplot(student_data_math_por[[\"absences_math\",\"G1_math\",\"G3_math\",\"G1_por\",\"G3_por\"]])\n",
    "plt.grid(True)"
   ]
  },
  {
   "cell_type": "markdown",
   "metadata": {},
   "source": [
    "***"
   ]
  },
  {
   "cell_type": "markdown",
   "metadata": {},
   "source": [
    "### 3.1.2 単回帰分析\n",
    "キーワード：sklearn、目的変数、説明変数、単回帰分析、最小二乗法、決定係数"
   ]
  },
  {
   "cell_type": "markdown",
   "metadata": {},
   "source": [
    "次は、単回帰分析について学びましょう。なお、厳密には次の章で学ぶ統計や推定、検定の知識等が必要で、ほとんどの統計の教科書はその後で回帰分析が解説されていますが、実装は難しくなく、最低限は理解できると思いますので、後で振り返って復習してください。\n",
    "\n",
    "これから考える問題は回帰問題といい、数値を予測する問題です。先ほど、学生のデータについて、一期目の数学の成績と最終期の数学の成績をグラフ化（散布図）してみました。この散布図からG1とG3には関係がありそうだというのはわかります。"
   ]
  },
  {
   "cell_type": "code",
   "execution_count": 40,
   "metadata": {
    "collapsed": false,
    "jupyter": {
     "outputs_hidden": false
    },
    "scrolled": true
   },
   "outputs": [
    {
     "data": {
      "image/png": "[encoded data removed]",
      "text/plain": [
       "<matplotlib.figure.Figure at 0x114b9b4a8>"
      ]
     },
     "metadata": {},
     "output_type": "display_data"
    }
   ],
   "source": [
    "# 散布図\n",
    "plt.plot(student_data_math.G1,student_data_math.G3, 'o')\n",
    "plt.xlabel(\"G1 grade\")\n",
    "plt.ylabel(\"G3 grade\")\n",
    "plt.grid(True)"
   ]
  },
  {
   "cell_type": "markdown",
   "metadata": {},
   "source": [
    "回帰問題では、与えられたデータから関係式を仮定して、データに最も当てはまる係数を求めていきます。具体的には、あらかじめG1という成績が分かった上で、G3の成績を予測することになります。つまり、目的となる変数G3（**目的変数**といいます）があり、それを説明する変数G1（**説明変数**といいます）を使って予測します。これは後ほど機械学習の章で学ぶ「教師あり学習」になり、学習時のデータに正解を1つ1つ与えて、その関係性を計算する方法です。\n",
    "\n",
    "単回帰分析は、このアウトプットとインプットの関係が1変数のみで成り立つ式を仮定して解いていきます（なお、インプットデータが2変数以上ある場合は、重回帰分析と言い、後の章で学びます）。\n",
    "\n",
    "ここでは、線形単回帰というアウトプットとインプットが線形の関係に成り立つ（y = ax +b）という仮定のもと、式を立てて計算してみましょう。線形単回帰分析は、以下のsklearnモジュールのlinear_modelを使います。sklearnは機械学習のためのモジュールで、後の機械学習の章でさらに色々な計算ができることを学んでいきます。"
   ]
  },
  {
   "cell_type": "code",
   "execution_count": 45,
   "metadata": {},
   "outputs": [],
   "source": [
    "from sklearn import linear_model\n",
    "\n",
    "# 線形回帰のインスタンスを生成\n",
    "clf = linear_model.LinearRegression()"
   ]
  },
  {
   "cell_type": "markdown",
   "metadata": {},
   "source": [
    "以下では、説明変数（Xとします）と目的変数（Yとします）データをセットして、線形回帰のfitを使って、予測モデルを計算します。\n",
    "\n",
    "この時、**最小二乗法**という手法で係数aと切片bを計算しています。この方法は、実際の目的変数のデータと予測したデータの差の二乗和をとり、それが最小になる時の係数と切片を求めています。式で表現すると、yを実測値、f(x)=ax+bを予測値として、以下の式を最小にするように計算しています(計算方法としては、この式を微分していくのですが、割愛します)。"
   ]
  },
  {
   "cell_type": "markdown",
   "metadata": {},
   "source": [
    "\\begin{eqnarray}\n",
    "\\sum^n_{i=1}(y_i-f(x_i))^2\n",
    "\\end{eqnarray}"
   ]
  },
  {
   "cell_type": "code",
   "execution_count": 42,
   "metadata": {
    "collapsed": false,
    "jupyter": {
     "outputs_hidden": false
    }
   },
   "outputs": [
    {
     "name": "stdout",
     "output_type": "stream",
     "text": [
      "回帰係数: [ 1.106]\n",
      "切片: -1.6528038288\n"
     ]
    }
   ],
   "source": [
    "# 説明変数に \"一期目の数学の成績\" を利用\n",
    "# ilocはデータフレームから、行と列を指定して取り出す。loc[:, ['G1']]は、G1列のすべての列を取り出すことをしている\n",
    "# marixの型に直しているので、注意\n",
    "X = student_data_math.loc[:, ['G1']].as_matrix()\n",
    "\n",
    "# 目的変数に \"最終の数学の成績\" を利用\n",
    "Y = student_data_math['G3'].as_matrix()\n",
    " \n",
    "# 予測モデルを計算、ここでa,bを算出\n",
    "clf.fit(X, Y)\n",
    " \n",
    "# 回帰係数\n",
    "print(\"回帰係数:\", clf.coef_)\n",
    " \n",
    "# 切片 \n",
    "print(\"切片:\", clf.intercept_)"
   ]
  },
  {
   "cell_type": "code",
   "execution_count": 43,
   "metadata": {
    "collapsed": false,
    "jupyter": {
     "outputs_hidden": false
    }
   },
   "outputs": [
    {
     "name": "stdout",
     "output_type": "stream",
     "text": [
      "Help on method fit in module sklearn.linear_model.base:\n",
      "\n",
      "fit(X, y, sample_weight=None) method of sklearn.linear_model.base.LinearRegression instance\n",
      "    Fit linear model.\n",
      "    \n",
      "    Parameters\n",
      "    ----------\n",
      "    X : numpy array or sparse matrix of shape [n_samples,n_features]\n",
      "        Training data\n",
      "    \n",
      "    y : numpy array of shape [n_samples, n_targets]\n",
      "        Target values\n",
      "    \n",
      "    sample_weight : numpy array of shape [n_samples]\n",
      "        Individual weights for each sample\n",
      "    \n",
      "        .. versionadded:: 0.17\n",
      "           parameter *sample_weight* support to LinearRegression.\n",
      "    \n",
      "    Returns\n",
      "    -------\n",
      "    self : returns an instance of self.\n",
      "\n"
     ]
    }
   ],
   "source": [
    "help(clf.fit)"
   ]
  },
  {
   "cell_type": "markdown",
   "metadata": {},
   "source": [
    "上記の回帰係数が線形の回帰式y=ax+bのaで、切片がbとなります。先ほどの散布図と一緒に、予測した線形回帰式を書いてみましょう。Yを予測したい最終の数学の成績G3は、predict(説明変数)で計算できます。"
   ]
  },
  {
   "cell_type": "code",
   "execution_count": 55,
   "metadata": {
    "collapsed": false,
    "jupyter": {
     "outputs_hidden": false
    }
   },
   "outputs": [
    {
     "data": {
      "image/png": "[encoded data removed]",
      "text/plain": [
       "<Figure size 432x288 with 1 Axes>"
      ]
     },
     "metadata": {
      "needs_background": "light"
     },
     "output_type": "display_data"
    }
   ],
   "source": [
    "# 先ほどと同じ散布図\n",
    "plt.scatter(X, Y)\n",
    "plt.xlabel(\"G1 grade\")\n",
    "plt.ylabel(\"G3 grade\")\n",
    "\n",
    "# その上に線形回帰直線を引く\n",
    "plt.plot(X, clf.predict(X))\n",
    "plt.grid(True)"
   ]
  },
  {
   "cell_type": "markdown",
   "metadata": {},
   "source": [
    "グラフから予測式は実測値をうまく予測しているようにも見えますが、これが客観的にどうなのかというのは判断がつきません。そこで、それを数値化したものが、**決定係数** R$^2$で、R$^2 =1-\\frac{\\sum_{i=1}^{n} (y_i -f(x_i) )^2}{\\sum_{i=1}^{n} (y_i -\\bar{y})^2}$で定義されます。これは0から1までの値を取り、1に近ければ近いほど良いモデルになります。実装では、scoreを使って以下のように算出します。"
   ]
  },
  {
   "cell_type": "code",
   "execution_count": 45,
   "metadata": {
    "collapsed": false,
    "jupyter": {
     "outputs_hidden": false
    }
   },
   "outputs": [
    {
     "name": "stdout",
     "output_type": "stream",
     "text": [
      "決定係数: 0.642350846052\n"
     ]
    }
   ],
   "source": [
    "# 決定係数、寄与率とも呼ばれる\n",
    "print(\"決定係数:\", clf.score(X, Y))"
   ]
  },
  {
   "cell_type": "markdown",
   "metadata": {},
   "source": [
    "なお、この決定係数の数値がどこまで高ければ良いのかという問題はあります。教科書的なデータや問題では0.9以上の場合が多いですが、実務ではなかなかそこまで出せることはなく、それをどう判断するかはケースバイケースです。ちなみに、上の0.64は高くはないですが、現場レベルで見ると、使えないレベルではありません。\n",
    "\n",
    "以上で、単回帰分析と本章の説明は終わりになります。お疲れ様でした。残りは、練習問題と総合演習問題になりますので、ぜひチャレンジしてください。"
   ]
  },
  {
   "cell_type": "markdown",
   "metadata": {},
   "source": [
    "#### <練習問題 1>\n",
    "\n",
    "student-por.csvのデータを使って、G3を目的変数、G1を説明変数として単回帰分析を実施し、回帰係数、切片、決定係数を求めてください。"
   ]
  },
  {
   "cell_type": "code",
   "execution_count": 48,
   "metadata": {},
   "outputs": [],
   "source": [
    "# 線形回帰のインスタンスを生成\n",
    "clf_por = linear_model.LinearRegression()"
   ]
  },
  {
   "cell_type": "code",
   "execution_count": 51,
   "metadata": {},
   "outputs": [
    {
     "name": "stdout",
     "output_type": "stream",
     "text": [
      "回帰係数: [0.973]\n",
      "切片: 0.8203984121064565\n"
     ]
    }
   ],
   "source": [
    "# 説明変数に \"一期目のポルトガル語の成績\" を利用\n",
    "# ilocはデータフレームから、行と列を指定して取り出す。loc[:, ['G1']]は、G1列のすべての列を取り出すことをしている\n",
    "# marixの型に直しているので、注意\n",
    "X = student_data_por.loc[:, ['G1']].values\n",
    "\n",
    "# 目的変数に \"最終のポルトガル語の成績\" を利用\n",
    "Y = student_data_por['G3'].values\n",
    " \n",
    "# 予測モデルを計算、ここでa,bを算出\n",
    "clf_por.fit(X, Y)\n",
    " \n",
    "# 回帰係数\n",
    "print(\"回帰係数:\", clf_por.coef_)\n",
    " \n",
    "# 切片 \n",
    "print(\"切片:\", clf_por.intercept_)"
   ]
  },
  {
   "cell_type": "code",
   "execution_count": 52,
   "metadata": {},
   "outputs": [
    {
     "name": "stdout",
     "output_type": "stream",
     "text": [
      "決定係数: 0.6829156800171085\n"
     ]
    }
   ],
   "source": [
    "# 決定係数、寄与率とも呼ばれる\n",
    "print(\"決定係数:\", clf_por.score(X, Y))"
   ]
  },
  {
   "cell_type": "markdown",
   "metadata": {},
   "source": [
    "#### <練習問題 2>\n",
    "\n",
    "上のデータの実際の散布図と、回帰直線を合わせてグラフ化してください。"
   ]
  },
  {
   "cell_type": "code",
   "execution_count": 54,
   "metadata": {},
   "outputs": [
    {
     "data": {
      "image/png": "[encoded data removed]",
      "text/plain": [
       "<Figure size 432x288 with 1 Axes>"
      ]
     },
     "metadata": {
      "needs_background": "light"
     },
     "output_type": "display_data"
    }
   ],
   "source": [
    "# 散布図\n",
    "plt.plot(student_data_por.G1,student_data_por.G3, 'o')\n",
    "\n",
    "# 先ほどと同じ散布図\n",
    "plt.scatter(X, Y)\n",
    "plt.xlabel(\"G1 grade\")\n",
    "plt.ylabel(\"G3 grade\")\n",
    "\n",
    "# その上に線形回帰直線を引く\n",
    "plt.plot(X, clf_por.predict(X))\n",
    "plt.grid(True)"
   ]
  },
  {
   "cell_type": "markdown",
   "metadata": {},
   "source": [
    "#### <練習問題 3>\n",
    "\n",
    "student-por.csvのデータを使って、G3を目的変数、absences(欠席数)を説明変数として単回帰分析を実施し、回帰係数、切片、決定係数を求めてください。この結果を見て、考察してみましょう。"
   ]
  },
  {
   "cell_type": "code",
   "execution_count": 59,
   "metadata": {},
   "outputs": [
    {
     "name": "stdout",
     "output_type": "stream",
     "text": [
      "回帰係数: [-0.064]\n",
      "切片: 12.138800862687443\n"
     ]
    }
   ],
   "source": [
    "# 線形回帰のインスタンスを生成\n",
    "clf_absences = linear_model.LinearRegression()\n",
    "\n",
    "# 説明変数に \"欠席数\" を利用\n",
    "# ilocはデータフレームから、行と列を指定して取り出す。loc[:, ['G1']]は、G1列のすべての列を取り出すことをしている\n",
    "# marixの型に直しているので、注意\n",
    "X = student_data_por.loc[:, ['absences']].values\n",
    "\n",
    "# 目的変数に \"最終のポルトガル語の成績\" を利用\n",
    "Y = student_data_por['G3'].values\n",
    " \n",
    "# 予測モデルを計算、ここでa,bを算出\n",
    "clf_absences.fit(X, Y)\n",
    " \n",
    "# 回帰係数\n",
    "print(\"回帰係数:\", clf_absences.coef_)\n",
    " \n",
    "# 切片 \n",
    "print(\"切片:\", clf_absences.intercept_)"
   ]
  },
  {
   "cell_type": "code",
   "execution_count": 60,
   "metadata": {},
   "outputs": [
    {
     "name": "stdout",
     "output_type": "stream",
     "text": [
      "決定係数: 0.008350131955637385\n"
     ]
    }
   ],
   "source": [
    "# 決定係数、寄与率とも呼ばれる\n",
    "print(\"決定係数:\", clf_absences.score(X, Y))"
   ]
  },
  {
   "cell_type": "code",
   "execution_count": 61,
   "metadata": {},
   "outputs": [
    {
     "data": {
      "image/png": "[encoded data removed]",
      "text/plain": [
       "<Figure size 432x288 with 1 Axes>"
      ]
     },
     "metadata": {
      "needs_background": "light"
     },
     "output_type": "display_data"
    }
   ],
   "source": [
    "# 散布図\n",
    "plt.plot(student_data_por.absences,student_data_por.G3, 'o')\n",
    "\n",
    "# 先ほどと同じ散布図\n",
    "plt.scatter(X, Y)\n",
    "plt.xlabel(\"absences grade\")\n",
    "plt.ylabel(\"G3 grade\")\n",
    "\n",
    "# その上に線形回帰直線を引く\n",
    "plt.plot(X, clf_absences.predict(X))\n",
    "plt.grid(True)"
   ]
  },
  {
   "cell_type": "markdown",
   "metadata": {},
   "source": [
    "***"
   ]
  },
  {
   "cell_type": "markdown",
   "metadata": {},
   "source": [
    "## 3.2 総合問題"
   ]
  },
  {
   "cell_type": "markdown",
   "metadata": {},
   "source": [
    "### 3.2.1 統計の基礎と可視化\n",
    "\n",
    "以下のサイトにあるデータ（ワインの品質）を読み込み、以下の問いに答えてください。\n",
    "\n",
    "http://archive.ics.uci.edu/ml/machine-learning-databases/wine-quality/winequality-red.csv\n",
    "\n",
    "（1）基本統計量（平均、最大値、最小値、標準偏差など）を算出してください。\n",
    "\n",
    "（2）それぞれの変数の分布と、それぞれの変数の関係性（2変数間のみ）がわかるように、グラフ化してみましょう。何かわかる傾向はありますか。"
   ]
  },
  {
   "cell_type": "code",
   "execution_count": 3,
   "metadata": {},
   "outputs": [],
   "source": [
    "df_wine_data = pd.read_csv(\"http://archive.ics.uci.edu/ml/machine-learning-databases/wine-quality/winequality-red.csv\", sep=\";\")"
   ]
  },
  {
   "cell_type": "code",
   "execution_count": 31,
   "metadata": {},
   "outputs": [
    {
     "data": {
      "text/html": [
       "<div>\n",
       "<style scoped>\n",
       "    .dataframe tbody tr th:only-of-type {\n",
       "        vertical-align: middle;\n",
       "    }\n",
       "\n",
       "    .dataframe tbody tr th {\n",
       "        vertical-align: top;\n",
       "    }\n",
       "\n",
       "    .dataframe thead th {\n",
       "        text-align: right;\n",
       "    }\n",
       "</style>\n",
       "<table border=\"1\" class=\"dataframe\">\n",
       "  <thead>\n",
       "    <tr style=\"text-align: right;\">\n",
       "      <th></th>\n",
       "      <th>fixed acidity</th>\n",
       "      <th>volatile acidity</th>\n",
       "      <th>citric acid</th>\n",
       "      <th>residual sugar</th>\n",
       "      <th>chlorides</th>\n",
       "      <th>free sulfur dioxide</th>\n",
       "      <th>total sulfur dioxide</th>\n",
       "      <th>density</th>\n",
       "      <th>pH</th>\n",
       "      <th>sulphates</th>\n",
       "      <th>alcohol</th>\n",
       "      <th>quality</th>\n",
       "    </tr>\n",
       "  </thead>\n",
       "  <tbody>\n",
       "    <tr>\n",
       "      <th>0</th>\n",
       "      <td>7.4</td>\n",
       "      <td>0.70</td>\n",
       "      <td>0.00</td>\n",
       "      <td>1.9</td>\n",
       "      <td>0.076</td>\n",
       "      <td>11.0</td>\n",
       "      <td>34.0</td>\n",
       "      <td>0.9978</td>\n",
       "      <td>3.51</td>\n",
       "      <td>0.56</td>\n",
       "      <td>9.4</td>\n",
       "      <td>5</td>\n",
       "    </tr>\n",
       "    <tr>\n",
       "      <th>1</th>\n",
       "      <td>7.8</td>\n",
       "      <td>0.88</td>\n",
       "      <td>0.00</td>\n",
       "      <td>2.6</td>\n",
       "      <td>0.098</td>\n",
       "      <td>25.0</td>\n",
       "      <td>67.0</td>\n",
       "      <td>0.9968</td>\n",
       "      <td>3.20</td>\n",
       "      <td>0.68</td>\n",
       "      <td>9.8</td>\n",
       "      <td>5</td>\n",
       "    </tr>\n",
       "    <tr>\n",
       "      <th>2</th>\n",
       "      <td>7.8</td>\n",
       "      <td>0.76</td>\n",
       "      <td>0.04</td>\n",
       "      <td>2.3</td>\n",
       "      <td>0.092</td>\n",
       "      <td>15.0</td>\n",
       "      <td>54.0</td>\n",
       "      <td>0.9970</td>\n",
       "      <td>3.26</td>\n",
       "      <td>0.65</td>\n",
       "      <td>9.8</td>\n",
       "      <td>5</td>\n",
       "    </tr>\n",
       "    <tr>\n",
       "      <th>3</th>\n",
       "      <td>11.2</td>\n",
       "      <td>0.28</td>\n",
       "      <td>0.56</td>\n",
       "      <td>1.9</td>\n",
       "      <td>0.075</td>\n",
       "      <td>17.0</td>\n",
       "      <td>60.0</td>\n",
       "      <td>0.9980</td>\n",
       "      <td>3.16</td>\n",
       "      <td>0.58</td>\n",
       "      <td>9.8</td>\n",
       "      <td>6</td>\n",
       "    </tr>\n",
       "    <tr>\n",
       "      <th>4</th>\n",
       "      <td>7.4</td>\n",
       "      <td>0.70</td>\n",
       "      <td>0.00</td>\n",
       "      <td>1.9</td>\n",
       "      <td>0.076</td>\n",
       "      <td>11.0</td>\n",
       "      <td>34.0</td>\n",
       "      <td>0.9978</td>\n",
       "      <td>3.51</td>\n",
       "      <td>0.56</td>\n",
       "      <td>9.4</td>\n",
       "      <td>5</td>\n",
       "    </tr>\n",
       "  </tbody>\n",
       "</table>\n",
       "</div>"
      ],
      "text/plain": [
       "   fixed acidity  volatile acidity  citric acid  residual sugar  chlorides  \\\n",
       "0            7.4              0.70         0.00             1.9      0.076   \n",
       "1            7.8              0.88         0.00             2.6      0.098   \n",
       "2            7.8              0.76         0.04             2.3      0.092   \n",
       "3           11.2              0.28         0.56             1.9      0.075   \n",
       "4            7.4              0.70         0.00             1.9      0.076   \n",
       "\n",
       "   free sulfur dioxide  total sulfur dioxide  density    pH  sulphates  \\\n",
       "0                 11.0                  34.0   0.9978  3.51       0.56   \n",
       "1                 25.0                  67.0   0.9968  3.20       0.68   \n",
       "2                 15.0                  54.0   0.9970  3.26       0.65   \n",
       "3                 17.0                  60.0   0.9980  3.16       0.58   \n",
       "4                 11.0                  34.0   0.9978  3.51       0.56   \n",
       "\n",
       "   alcohol  quality  \n",
       "0      9.4        5  \n",
       "1      9.8        5  \n",
       "2      9.8        5  \n",
       "3      9.8        6  \n",
       "4      9.4        5  "
      ]
     },
     "execution_count": 31,
     "metadata": {},
     "output_type": "execute_result"
    }
   ],
   "source": [
    "df_wine_data.head()"
   ]
  },
  {
   "cell_type": "code",
   "execution_count": 32,
   "metadata": {},
   "outputs": [
    {
     "name": "stdout",
     "output_type": "stream",
     "text": [
      "<class 'pandas.core.frame.DataFrame'>\n",
      "RangeIndex: 1599 entries, 0 to 1598\n",
      "Data columns (total 12 columns):\n",
      "fixed acidity           1599 non-null float64\n",
      "volatile acidity        1599 non-null float64\n",
      "citric acid             1599 non-null float64\n",
      "residual sugar          1599 non-null float64\n",
      "chlorides               1599 non-null float64\n",
      "free sulfur dioxide     1599 non-null float64\n",
      "total sulfur dioxide    1599 non-null float64\n",
      "density                 1599 non-null float64\n",
      "pH                      1599 non-null float64\n",
      "sulphates               1599 non-null float64\n",
      "alcohol                 1599 non-null float64\n",
      "quality                 1599 non-null int64\n",
      "dtypes: float64(11), int64(1)\n",
      "memory usage: 150.0 KB\n"
     ]
    }
   ],
   "source": [
    "# すべてのカラムの情報等チェック\n",
    "df_wine_data.info()"
   ]
  },
  {
   "cell_type": "markdown",
   "metadata": {},
   "source": [
    "## データの属性説明\n",
    "1. fixed acidity:固定酸度\n",
    "2. volatile acidity:揮発酸\n",
    "3. citric acid:クエン酸\n",
    "4. residual sugar:残留糖\n",
    "5. chlorides:塩化物\n",
    "6. free sulfur dioxide:遊離二酸化硫黄\n",
    "7. total sulfur dioxide:総二酸化硫黄\n",
    "8. density:濃度\n",
    "9. PH:水素イオン指数\n",
    "10. sulphates:硫酸塩⇒酸化防止剤\n",
    "11. alcohol:アルコール度数\n",
    "12. quality:品質？"
   ]
  },
  {
   "cell_type": "code",
   "execution_count": 35,
   "metadata": {},
   "outputs": [
    {
     "data": {
      "text/html": [
       "<div>\n",
       "<style scoped>\n",
       "    .dataframe tbody tr th:only-of-type {\n",
       "        vertical-align: middle;\n",
       "    }\n",
       "\n",
       "    .dataframe tbody tr th {\n",
       "        vertical-align: top;\n",
       "    }\n",
       "\n",
       "    .dataframe thead th {\n",
       "        text-align: right;\n",
       "    }\n",
       "</style>\n",
       "<table border=\"1\" class=\"dataframe\">\n",
       "  <thead>\n",
       "    <tr style=\"text-align: right;\">\n",
       "      <th></th>\n",
       "      <th>fixed acidity</th>\n",
       "      <th>volatile acidity</th>\n",
       "      <th>citric acid</th>\n",
       "      <th>residual sugar</th>\n",
       "      <th>chlorides</th>\n",
       "      <th>free sulfur dioxide</th>\n",
       "      <th>total sulfur dioxide</th>\n",
       "      <th>density</th>\n",
       "      <th>pH</th>\n",
       "      <th>sulphates</th>\n",
       "      <th>alcohol</th>\n",
       "      <th>quality</th>\n",
       "    </tr>\n",
       "  </thead>\n",
       "  <tbody>\n",
       "    <tr>\n",
       "      <th>count</th>\n",
       "      <td>1599.000000</td>\n",
       "      <td>1599.000000</td>\n",
       "      <td>1599.000000</td>\n",
       "      <td>1599.000000</td>\n",
       "      <td>1599.000000</td>\n",
       "      <td>1599.000000</td>\n",
       "      <td>1599.000000</td>\n",
       "      <td>1599.000000</td>\n",
       "      <td>1599.000000</td>\n",
       "      <td>1599.000000</td>\n",
       "      <td>1599.000000</td>\n",
       "      <td>1599.000000</td>\n",
       "    </tr>\n",
       "    <tr>\n",
       "      <th>mean</th>\n",
       "      <td>8.319637</td>\n",
       "      <td>0.527821</td>\n",
       "      <td>0.270976</td>\n",
       "      <td>2.538806</td>\n",
       "      <td>0.087467</td>\n",
       "      <td>15.874922</td>\n",
       "      <td>46.467792</td>\n",
       "      <td>0.996747</td>\n",
       "      <td>3.311113</td>\n",
       "      <td>0.658149</td>\n",
       "      <td>10.422983</td>\n",
       "      <td>5.636023</td>\n",
       "    </tr>\n",
       "    <tr>\n",
       "      <th>std</th>\n",
       "      <td>1.741096</td>\n",
       "      <td>0.179060</td>\n",
       "      <td>0.194801</td>\n",
       "      <td>1.409928</td>\n",
       "      <td>0.047065</td>\n",
       "      <td>10.460157</td>\n",
       "      <td>32.895324</td>\n",
       "      <td>0.001887</td>\n",
       "      <td>0.154386</td>\n",
       "      <td>0.169507</td>\n",
       "      <td>1.065668</td>\n",
       "      <td>0.807569</td>\n",
       "    </tr>\n",
       "    <tr>\n",
       "      <th>min</th>\n",
       "      <td>4.600000</td>\n",
       "      <td>0.120000</td>\n",
       "      <td>0.000000</td>\n",
       "      <td>0.900000</td>\n",
       "      <td>0.012000</td>\n",
       "      <td>1.000000</td>\n",
       "      <td>6.000000</td>\n",
       "      <td>0.990070</td>\n",
       "      <td>2.740000</td>\n",
       "      <td>0.330000</td>\n",
       "      <td>8.400000</td>\n",
       "      <td>3.000000</td>\n",
       "    </tr>\n",
       "    <tr>\n",
       "      <th>25%</th>\n",
       "      <td>7.100000</td>\n",
       "      <td>0.390000</td>\n",
       "      <td>0.090000</td>\n",
       "      <td>1.900000</td>\n",
       "      <td>0.070000</td>\n",
       "      <td>7.000000</td>\n",
       "      <td>22.000000</td>\n",
       "      <td>0.995600</td>\n",
       "      <td>3.210000</td>\n",
       "      <td>0.550000</td>\n",
       "      <td>9.500000</td>\n",
       "      <td>5.000000</td>\n",
       "    </tr>\n",
       "    <tr>\n",
       "      <th>50%</th>\n",
       "      <td>7.900000</td>\n",
       "      <td>0.520000</td>\n",
       "      <td>0.260000</td>\n",
       "      <td>2.200000</td>\n",
       "      <td>0.079000</td>\n",
       "      <td>14.000000</td>\n",
       "      <td>38.000000</td>\n",
       "      <td>0.996750</td>\n",
       "      <td>3.310000</td>\n",
       "      <td>0.620000</td>\n",
       "      <td>10.200000</td>\n",
       "      <td>6.000000</td>\n",
       "    </tr>\n",
       "    <tr>\n",
       "      <th>75%</th>\n",
       "      <td>9.200000</td>\n",
       "      <td>0.640000</td>\n",
       "      <td>0.420000</td>\n",
       "      <td>2.600000</td>\n",
       "      <td>0.090000</td>\n",
       "      <td>21.000000</td>\n",
       "      <td>62.000000</td>\n",
       "      <td>0.997835</td>\n",
       "      <td>3.400000</td>\n",
       "      <td>0.730000</td>\n",
       "      <td>11.100000</td>\n",
       "      <td>6.000000</td>\n",
       "    </tr>\n",
       "    <tr>\n",
       "      <th>max</th>\n",
       "      <td>15.900000</td>\n",
       "      <td>1.580000</td>\n",
       "      <td>1.000000</td>\n",
       "      <td>15.500000</td>\n",
       "      <td>0.611000</td>\n",
       "      <td>72.000000</td>\n",
       "      <td>289.000000</td>\n",
       "      <td>1.003690</td>\n",
       "      <td>4.010000</td>\n",
       "      <td>2.000000</td>\n",
       "      <td>14.900000</td>\n",
       "      <td>8.000000</td>\n",
       "    </tr>\n",
       "  </tbody>\n",
       "</table>\n",
       "</div>"
      ],
      "text/plain": [
       "       fixed acidity  volatile acidity  citric acid  residual sugar  \\\n",
       "count    1599.000000       1599.000000  1599.000000     1599.000000   \n",
       "mean        8.319637          0.527821     0.270976        2.538806   \n",
       "std         1.741096          0.179060     0.194801        1.409928   \n",
       "min         4.600000          0.120000     0.000000        0.900000   \n",
       "25%         7.100000          0.390000     0.090000        1.900000   \n",
       "50%         7.900000          0.520000     0.260000        2.200000   \n",
       "75%         9.200000          0.640000     0.420000        2.600000   \n",
       "max        15.900000          1.580000     1.000000       15.500000   \n",
       "\n",
       "         chlorides  free sulfur dioxide  total sulfur dioxide      density  \\\n",
       "count  1599.000000          1599.000000           1599.000000  1599.000000   \n",
       "mean      0.087467            15.874922             46.467792     0.996747   \n",
       "std       0.047065            10.460157             32.895324     0.001887   \n",
       "min       0.012000             1.000000              6.000000     0.990070   \n",
       "25%       0.070000             7.000000             22.000000     0.995600   \n",
       "50%       0.079000            14.000000             38.000000     0.996750   \n",
       "75%       0.090000            21.000000             62.000000     0.997835   \n",
       "max       0.611000            72.000000            289.000000     1.003690   \n",
       "\n",
       "                pH    sulphates      alcohol      quality  \n",
       "count  1599.000000  1599.000000  1599.000000  1599.000000  \n",
       "mean      3.311113     0.658149    10.422983     5.636023  \n",
       "std       0.154386     0.169507     1.065668     0.807569  \n",
       "min       2.740000     0.330000     8.400000     3.000000  \n",
       "25%       3.210000     0.550000     9.500000     5.000000  \n",
       "50%       3.310000     0.620000    10.200000     6.000000  \n",
       "75%       3.400000     0.730000    11.100000     6.000000  \n",
       "max       4.010000     2.000000    14.900000     8.000000  "
      ]
     },
     "execution_count": 35,
     "metadata": {},
     "output_type": "execute_result"
    }
   ],
   "source": [
    "# 要約統計量\n",
    "df_wine_data.describe()"
   ]
  },
  {
   "cell_type": "code",
   "execution_count": 43,
   "metadata": {},
   "outputs": [
    {
     "data": {
      "image/png": "[encoded data removed]",
      "text/plain": [
       "<Figure size 900x900 with 30 Axes>"
      ]
     },
     "metadata": {
      "needs_background": "light"
     },
     "output_type": "display_data"
    }
   ],
   "source": [
    "sns.pairplot(df_wine_data[[\"fixed acidity\",\"density\",\"pH\",\"sulphates\",\"alcohol\"]])\n",
    "plt.grid(True)"
   ]
  },
  {
   "cell_type": "code",
   "execution_count": 7,
   "metadata": {},
   "outputs": [],
   "source": [
    "from sklearn import linear_model\n",
    "\n",
    "# 線形回帰のインスタンスを生成\n",
    "clf_wine = linear_model.LinearRegression()"
   ]
  },
  {
   "cell_type": "code",
   "execution_count": 46,
   "metadata": {},
   "outputs": [
    {
     "name": "stdout",
     "output_type": "stream",
     "text": [
      "回帰係数: [-27.951]\n",
      "切片: 31.17164490987734\n"
     ]
    }
   ],
   "source": [
    "X = df_wine_data.loc[:, ['density']].values\n",
    "\n",
    "# 目的変数に \"最終のポルトガル語の成績\" を利用\n",
    "Y = df_wine_data['pH'].values\n",
    " \n",
    "# 予測モデルを計算、ここでa,bを算出\n",
    "clf_wine.fit(X, Y)\n",
    " \n",
    "# 回帰係数\n",
    "print(\"回帰係数:\", clf_wine.coef_)\n",
    " \n",
    "# 切片 \n",
    "print(\"切片:\", clf_wine.intercept_)"
   ]
  },
  {
   "cell_type": "code",
   "execution_count": 47,
   "metadata": {},
   "outputs": [
    {
     "name": "stdout",
     "output_type": "stream",
     "text": [
      "決定係数: 0.11675843539253282\n"
     ]
    }
   ],
   "source": [
    "# 決定係数、寄与率とも呼ばれる\n",
    "print(\"決定係数:\", clf_wine.score(X, Y))"
   ]
  },
  {
   "cell_type": "code",
   "execution_count": 50,
   "metadata": {},
   "outputs": [
    {
     "data": {
      "image/png": "[encoded data removed]",
      "text/plain": [
       "<Figure size 432x288 with 1 Axes>"
      ]
     },
     "metadata": {
      "needs_background": "light"
     },
     "output_type": "display_data"
    }
   ],
   "source": [
    "# 散布図\n",
    "plt.plot(df_wine_data.density,df_wine_data.pH , 'o')\n",
    "\n",
    "# 先ほどと同じ散布図\n",
    "plt.scatter(X, Y)\n",
    "plt.xlabel(\"density\")\n",
    "plt.ylabel(\"pH\")\n",
    "\n",
    "# その上に線形回帰直線を引く\n",
    "plt.plot(X, clf_wine.predict(X))\n",
    "plt.grid(True)"
   ]
  },
  {
   "cell_type": "markdown",
   "metadata": {},
   "source": [
    "### 3.2.2 ローレンツ曲線とジニ係数\n",
    "\n",
    "3.1の記述統計で使用したstudent_data_mathのデータを使って、以下の問いに答えてください。ここで扱うローレンツ曲線やジニ係数は、貧富の格差（地域別、国別など）を見るための指標として使われています。（なお、本問題は少し難易度が高いため、参考程度に見てください。詳細は、以前に紹介した統計学入門などの文献を参照するか、ネットで検索してください。）\n",
    "\n",
    "（1）一期目の数学データについて、男女別に昇順に並び替えをしてください。そして、横軸に人数の累積比率、縦軸に一期目の値の累積比率をとってください。この曲線をローレンツ曲線といいます。このローレンツ曲線を男女別に一期目の数学成績でグラフ化してください。\n",
    "\n",
    "（2）不平等の程度を数値で表したものをジニ係数といいます。この値は、ローレンツ曲線と45度線で囲まれた部分の面積の2倍で定義されて、0から1の値を取ります。値が大きければ大きいほど、不平等の度合いが大きくなります。なお以下のようにジニ係数は定義できます。$\\overline{x}$は平均値です。\n",
    "\n",
    "\\begin{eqnarray}\n",
    "GI=\\sum_{i}\\sum_{j}\\left| \\frac{x_i-x_j}{2n^2 \\overline{x}}\\right|\n",
    "\\end{eqnarray}\n",
    "\n",
    "これを利用して、男女の一期目の成績について、ジニ係数をそれぞれ求めてください。"
   ]
  },
  {
   "cell_type": "code",
   "execution_count": 12,
   "metadata": {},
   "outputs": [
    {
     "data": {
      "text/html": [
       "<div>\n",
       "<style scoped>\n",
       "    .dataframe tbody tr th:only-of-type {\n",
       "        vertical-align: middle;\n",
       "    }\n",
       "\n",
       "    .dataframe tbody tr th {\n",
       "        vertical-align: top;\n",
       "    }\n",
       "\n",
       "    .dataframe thead th {\n",
       "        text-align: right;\n",
       "    }\n",
       "</style>\n",
       "<table border=\"1\" class=\"dataframe\">\n",
       "  <thead>\n",
       "    <tr style=\"text-align: right;\">\n",
       "      <th></th>\n",
       "      <th>school</th>\n",
       "      <th>sex</th>\n",
       "      <th>age</th>\n",
       "      <th>address</th>\n",
       "      <th>famsize</th>\n",
       "      <th>Pstatus</th>\n",
       "      <th>Medu</th>\n",
       "      <th>Fedu</th>\n",
       "      <th>Mjob</th>\n",
       "      <th>Fjob</th>\n",
       "      <th>...</th>\n",
       "      <th>famrel</th>\n",
       "      <th>freetime</th>\n",
       "      <th>goout</th>\n",
       "      <th>Dalc</th>\n",
       "      <th>Walc</th>\n",
       "      <th>health</th>\n",
       "      <th>absences</th>\n",
       "      <th>G1</th>\n",
       "      <th>G2</th>\n",
       "      <th>G3</th>\n",
       "    </tr>\n",
       "  </thead>\n",
       "  <tbody>\n",
       "    <tr>\n",
       "      <th>0</th>\n",
       "      <td>GP</td>\n",
       "      <td>F</td>\n",
       "      <td>18</td>\n",
       "      <td>U</td>\n",
       "      <td>GT3</td>\n",
       "      <td>A</td>\n",
       "      <td>4</td>\n",
       "      <td>4</td>\n",
       "      <td>at_home</td>\n",
       "      <td>teacher</td>\n",
       "      <td>...</td>\n",
       "      <td>4</td>\n",
       "      <td>3</td>\n",
       "      <td>4</td>\n",
       "      <td>1</td>\n",
       "      <td>1</td>\n",
       "      <td>3</td>\n",
       "      <td>6</td>\n",
       "      <td>5</td>\n",
       "      <td>6</td>\n",
       "      <td>6</td>\n",
       "    </tr>\n",
       "    <tr>\n",
       "      <th>1</th>\n",
       "      <td>GP</td>\n",
       "      <td>F</td>\n",
       "      <td>17</td>\n",
       "      <td>U</td>\n",
       "      <td>GT3</td>\n",
       "      <td>T</td>\n",
       "      <td>1</td>\n",
       "      <td>1</td>\n",
       "      <td>at_home</td>\n",
       "      <td>other</td>\n",
       "      <td>...</td>\n",
       "      <td>5</td>\n",
       "      <td>3</td>\n",
       "      <td>3</td>\n",
       "      <td>1</td>\n",
       "      <td>1</td>\n",
       "      <td>3</td>\n",
       "      <td>4</td>\n",
       "      <td>5</td>\n",
       "      <td>5</td>\n",
       "      <td>6</td>\n",
       "    </tr>\n",
       "    <tr>\n",
       "      <th>2</th>\n",
       "      <td>GP</td>\n",
       "      <td>F</td>\n",
       "      <td>15</td>\n",
       "      <td>U</td>\n",
       "      <td>LE3</td>\n",
       "      <td>T</td>\n",
       "      <td>1</td>\n",
       "      <td>1</td>\n",
       "      <td>at_home</td>\n",
       "      <td>other</td>\n",
       "      <td>...</td>\n",
       "      <td>4</td>\n",
       "      <td>3</td>\n",
       "      <td>2</td>\n",
       "      <td>2</td>\n",
       "      <td>3</td>\n",
       "      <td>3</td>\n",
       "      <td>10</td>\n",
       "      <td>7</td>\n",
       "      <td>8</td>\n",
       "      <td>10</td>\n",
       "    </tr>\n",
       "    <tr>\n",
       "      <th>3</th>\n",
       "      <td>GP</td>\n",
       "      <td>F</td>\n",
       "      <td>15</td>\n",
       "      <td>U</td>\n",
       "      <td>GT3</td>\n",
       "      <td>T</td>\n",
       "      <td>4</td>\n",
       "      <td>2</td>\n",
       "      <td>health</td>\n",
       "      <td>services</td>\n",
       "      <td>...</td>\n",
       "      <td>3</td>\n",
       "      <td>2</td>\n",
       "      <td>2</td>\n",
       "      <td>1</td>\n",
       "      <td>1</td>\n",
       "      <td>5</td>\n",
       "      <td>2</td>\n",
       "      <td>15</td>\n",
       "      <td>14</td>\n",
       "      <td>15</td>\n",
       "    </tr>\n",
       "    <tr>\n",
       "      <th>4</th>\n",
       "      <td>GP</td>\n",
       "      <td>F</td>\n",
       "      <td>16</td>\n",
       "      <td>U</td>\n",
       "      <td>GT3</td>\n",
       "      <td>T</td>\n",
       "      <td>3</td>\n",
       "      <td>3</td>\n",
       "      <td>other</td>\n",
       "      <td>other</td>\n",
       "      <td>...</td>\n",
       "      <td>4</td>\n",
       "      <td>3</td>\n",
       "      <td>2</td>\n",
       "      <td>1</td>\n",
       "      <td>2</td>\n",
       "      <td>5</td>\n",
       "      <td>4</td>\n",
       "      <td>6</td>\n",
       "      <td>10</td>\n",
       "      <td>10</td>\n",
       "    </tr>\n",
       "  </tbody>\n",
       "</table>\n",
       "<p>5 rows × 33 columns</p>\n",
       "</div>"
      ],
      "text/plain": [
       "  school sex  age address famsize Pstatus  Medu  Fedu     Mjob      Fjob  ...  \\\n",
       "0     GP   F   18       U     GT3       A     4     4  at_home   teacher  ...   \n",
       "1     GP   F   17       U     GT3       T     1     1  at_home     other  ...   \n",
       "2     GP   F   15       U     LE3       T     1     1  at_home     other  ...   \n",
       "3     GP   F   15       U     GT3       T     4     2   health  services  ...   \n",
       "4     GP   F   16       U     GT3       T     3     3    other     other  ...   \n",
       "\n",
       "  famrel freetime  goout  Dalc  Walc health absences  G1  G2  G3  \n",
       "0      4        3      4     1     1      3        6   5   6   6  \n",
       "1      5        3      3     1     1      3        4   5   5   6  \n",
       "2      4        3      2     2     3      3       10   7   8  10  \n",
       "3      3        2      2     1     1      5        2  15  14  15  \n",
       "4      4        3      2     1     2      5        4   6  10  10  \n",
       "\n",
       "[5 rows x 33 columns]"
      ]
     },
     "execution_count": 12,
     "metadata": {},
     "output_type": "execute_result"
    }
   ],
   "source": [
    "student_data_math.head()"
   ]
  },
  {
   "cell_type": "code",
   "execution_count": 16,
   "metadata": {},
   "outputs": [
    {
     "data": {
      "text/html": [
       "<div>\n",
       "<style scoped>\n",
       "    .dataframe tbody tr th:only-of-type {\n",
       "        vertical-align: middle;\n",
       "    }\n",
       "\n",
       "    .dataframe tbody tr th {\n",
       "        vertical-align: top;\n",
       "    }\n",
       "\n",
       "    .dataframe thead th {\n",
       "        text-align: right;\n",
       "    }\n",
       "</style>\n",
       "<table border=\"1\" class=\"dataframe\">\n",
       "  <thead>\n",
       "    <tr style=\"text-align: right;\">\n",
       "      <th></th>\n",
       "      <th>school</th>\n",
       "      <th>sex</th>\n",
       "      <th>age</th>\n",
       "      <th>address</th>\n",
       "      <th>famsize</th>\n",
       "      <th>Pstatus</th>\n",
       "      <th>Medu</th>\n",
       "      <th>Fedu</th>\n",
       "      <th>Mjob</th>\n",
       "      <th>Fjob</th>\n",
       "      <th>...</th>\n",
       "      <th>famrel</th>\n",
       "      <th>freetime</th>\n",
       "      <th>goout</th>\n",
       "      <th>Dalc</th>\n",
       "      <th>Walc</th>\n",
       "      <th>health</th>\n",
       "      <th>absences</th>\n",
       "      <th>G1</th>\n",
       "      <th>G2</th>\n",
       "      <th>G3</th>\n",
       "    </tr>\n",
       "  </thead>\n",
       "  <tbody>\n",
       "    <tr>\n",
       "      <th>0</th>\n",
       "      <td>GP</td>\n",
       "      <td>F</td>\n",
       "      <td>18</td>\n",
       "      <td>U</td>\n",
       "      <td>GT3</td>\n",
       "      <td>A</td>\n",
       "      <td>4</td>\n",
       "      <td>4</td>\n",
       "      <td>at_home</td>\n",
       "      <td>teacher</td>\n",
       "      <td>...</td>\n",
       "      <td>4</td>\n",
       "      <td>3</td>\n",
       "      <td>4</td>\n",
       "      <td>1</td>\n",
       "      <td>1</td>\n",
       "      <td>3</td>\n",
       "      <td>6</td>\n",
       "      <td>5</td>\n",
       "      <td>6</td>\n",
       "      <td>6</td>\n",
       "    </tr>\n",
       "    <tr>\n",
       "      <th>55</th>\n",
       "      <td>GP</td>\n",
       "      <td>F</td>\n",
       "      <td>16</td>\n",
       "      <td>U</td>\n",
       "      <td>GT3</td>\n",
       "      <td>A</td>\n",
       "      <td>2</td>\n",
       "      <td>1</td>\n",
       "      <td>other</td>\n",
       "      <td>other</td>\n",
       "      <td>...</td>\n",
       "      <td>5</td>\n",
       "      <td>3</td>\n",
       "      <td>4</td>\n",
       "      <td>1</td>\n",
       "      <td>1</td>\n",
       "      <td>2</td>\n",
       "      <td>8</td>\n",
       "      <td>8</td>\n",
       "      <td>9</td>\n",
       "      <td>10</td>\n",
       "    </tr>\n",
       "    <tr>\n",
       "      <th>56</th>\n",
       "      <td>GP</td>\n",
       "      <td>F</td>\n",
       "      <td>15</td>\n",
       "      <td>U</td>\n",
       "      <td>GT3</td>\n",
       "      <td>A</td>\n",
       "      <td>4</td>\n",
       "      <td>3</td>\n",
       "      <td>services</td>\n",
       "      <td>services</td>\n",
       "      <td>...</td>\n",
       "      <td>4</td>\n",
       "      <td>3</td>\n",
       "      <td>2</td>\n",
       "      <td>1</td>\n",
       "      <td>1</td>\n",
       "      <td>1</td>\n",
       "      <td>0</td>\n",
       "      <td>14</td>\n",
       "      <td>15</td>\n",
       "      <td>15</td>\n",
       "    </tr>\n",
       "    <tr>\n",
       "      <th>362</th>\n",
       "      <td>MS</td>\n",
       "      <td>F</td>\n",
       "      <td>18</td>\n",
       "      <td>U</td>\n",
       "      <td>GT3</td>\n",
       "      <td>T</td>\n",
       "      <td>3</td>\n",
       "      <td>3</td>\n",
       "      <td>services</td>\n",
       "      <td>services</td>\n",
       "      <td>...</td>\n",
       "      <td>4</td>\n",
       "      <td>3</td>\n",
       "      <td>2</td>\n",
       "      <td>1</td>\n",
       "      <td>3</td>\n",
       "      <td>3</td>\n",
       "      <td>0</td>\n",
       "      <td>11</td>\n",
       "      <td>11</td>\n",
       "      <td>10</td>\n",
       "    </tr>\n",
       "    <tr>\n",
       "      <th>59</th>\n",
       "      <td>GP</td>\n",
       "      <td>F</td>\n",
       "      <td>16</td>\n",
       "      <td>U</td>\n",
       "      <td>GT3</td>\n",
       "      <td>T</td>\n",
       "      <td>4</td>\n",
       "      <td>2</td>\n",
       "      <td>services</td>\n",
       "      <td>other</td>\n",
       "      <td>...</td>\n",
       "      <td>4</td>\n",
       "      <td>2</td>\n",
       "      <td>3</td>\n",
       "      <td>1</td>\n",
       "      <td>1</td>\n",
       "      <td>5</td>\n",
       "      <td>2</td>\n",
       "      <td>15</td>\n",
       "      <td>16</td>\n",
       "      <td>16</td>\n",
       "    </tr>\n",
       "  </tbody>\n",
       "</table>\n",
       "<p>5 rows × 33 columns</p>\n",
       "</div>"
      ],
      "text/plain": [
       "    school sex  age address famsize Pstatus  Medu  Fedu      Mjob      Fjob  \\\n",
       "0       GP   F   18       U     GT3       A     4     4   at_home   teacher   \n",
       "55      GP   F   16       U     GT3       A     2     1     other     other   \n",
       "56      GP   F   15       U     GT3       A     4     3  services  services   \n",
       "362     MS   F   18       U     GT3       T     3     3  services  services   \n",
       "59      GP   F   16       U     GT3       T     4     2  services     other   \n",
       "\n",
       "     ... famrel freetime  goout  Dalc  Walc health absences  G1  G2  G3  \n",
       "0    ...      4        3      4     1     1      3        6   5   6   6  \n",
       "55   ...      5        3      4     1     1      2        8   8   9  10  \n",
       "56   ...      4        3      2     1     1      1        0  14  15  15  \n",
       "362  ...      4        3      2     1     3      3        0  11  11  10  \n",
       "59   ...      4        2      3     1     1      5        2  15  16  16  \n",
       "\n",
       "[5 rows x 33 columns]"
      ]
     },
     "execution_count": 16,
     "metadata": {},
     "output_type": "execute_result"
    }
   ],
   "source": [
    "student_data_math.sort_values(\"sex\",inplace=True)\n",
    "student_data_math.head()"
   ]
  },
  {
   "cell_type": "code",
   "execution_count": 21,
   "metadata": {},
   "outputs": [
    {
     "data": {
      "image/png": "[encoded data removed]",
      "text/plain": [
       "<Figure size 720x720 with 16 Axes>"
      ]
     },
     "metadata": {
      "needs_background": "light"
     },
     "output_type": "display_data"
    }
   ],
   "source": [
    "from pylab import rcParams\n",
    "rcParams['figure.figsize'] = 10, 10\n",
    "student_data_math.hist()\n",
    "plt.tight_layout()\n",
    "plt.show()"
   ]
  },
  {
   "cell_type": "code",
   "execution_count": 22,
   "metadata": {},
   "outputs": [
    {
     "data": {
      "image/png": "[encoded data removed]",
      "text/plain": [
       "<Figure size 720x720 with 1 Axes>"
      ]
     },
     "metadata": {
      "needs_background": "light"
     },
     "output_type": "display_data"
    }
   ],
   "source": [
    "fdt = student_data_math.hist(\"G1\")"
   ]
  },
  {
   "cell_type": "code",
   "execution_count": 11,
   "metadata": {},
   "outputs": [
    {
     "data": {
      "text/html": [
       "<div>\n",
       "<style scoped>\n",
       "    .dataframe tbody tr th:only-of-type {\n",
       "        vertical-align: middle;\n",
       "    }\n",
       "\n",
       "    .dataframe tbody tr th {\n",
       "        vertical-align: top;\n",
       "    }\n",
       "\n",
       "    .dataframe thead th {\n",
       "        text-align: right;\n",
       "    }\n",
       "</style>\n",
       "<table border=\"1\" class=\"dataframe\">\n",
       "  <thead>\n",
       "    <tr style=\"text-align: right;\">\n",
       "      <th></th>\n",
       "      <th>school</th>\n",
       "      <th>sex</th>\n",
       "      <th>age</th>\n",
       "      <th>address</th>\n",
       "      <th>famsize</th>\n",
       "      <th>Pstatus</th>\n",
       "      <th>Medu</th>\n",
       "      <th>Fedu</th>\n",
       "      <th>Mjob</th>\n",
       "      <th>Fjob</th>\n",
       "      <th>...</th>\n",
       "      <th>famrel</th>\n",
       "      <th>freetime</th>\n",
       "      <th>goout</th>\n",
       "      <th>Dalc</th>\n",
       "      <th>Walc</th>\n",
       "      <th>health</th>\n",
       "      <th>absences</th>\n",
       "      <th>G1</th>\n",
       "      <th>G2</th>\n",
       "      <th>G3</th>\n",
       "    </tr>\n",
       "  </thead>\n",
       "  <tbody>\n",
       "    <tr>\n",
       "      <th>5</th>\n",
       "      <td>GP</td>\n",
       "      <td>M</td>\n",
       "      <td>16</td>\n",
       "      <td>U</td>\n",
       "      <td>LE3</td>\n",
       "      <td>T</td>\n",
       "      <td>4</td>\n",
       "      <td>3</td>\n",
       "      <td>services</td>\n",
       "      <td>other</td>\n",
       "      <td>...</td>\n",
       "      <td>5</td>\n",
       "      <td>4</td>\n",
       "      <td>2</td>\n",
       "      <td>1</td>\n",
       "      <td>2</td>\n",
       "      <td>5</td>\n",
       "      <td>10</td>\n",
       "      <td>15</td>\n",
       "      <td>15</td>\n",
       "      <td>15</td>\n",
       "    </tr>\n",
       "    <tr>\n",
       "      <th>6</th>\n",
       "      <td>GP</td>\n",
       "      <td>M</td>\n",
       "      <td>16</td>\n",
       "      <td>U</td>\n",
       "      <td>LE3</td>\n",
       "      <td>T</td>\n",
       "      <td>2</td>\n",
       "      <td>2</td>\n",
       "      <td>other</td>\n",
       "      <td>other</td>\n",
       "      <td>...</td>\n",
       "      <td>4</td>\n",
       "      <td>4</td>\n",
       "      <td>4</td>\n",
       "      <td>1</td>\n",
       "      <td>1</td>\n",
       "      <td>3</td>\n",
       "      <td>0</td>\n",
       "      <td>12</td>\n",
       "      <td>12</td>\n",
       "      <td>11</td>\n",
       "    </tr>\n",
       "    <tr>\n",
       "      <th>8</th>\n",
       "      <td>GP</td>\n",
       "      <td>M</td>\n",
       "      <td>15</td>\n",
       "      <td>U</td>\n",
       "      <td>LE3</td>\n",
       "      <td>A</td>\n",
       "      <td>3</td>\n",
       "      <td>2</td>\n",
       "      <td>services</td>\n",
       "      <td>other</td>\n",
       "      <td>...</td>\n",
       "      <td>4</td>\n",
       "      <td>2</td>\n",
       "      <td>2</td>\n",
       "      <td>1</td>\n",
       "      <td>1</td>\n",
       "      <td>1</td>\n",
       "      <td>0</td>\n",
       "      <td>16</td>\n",
       "      <td>18</td>\n",
       "      <td>19</td>\n",
       "    </tr>\n",
       "    <tr>\n",
       "      <th>9</th>\n",
       "      <td>GP</td>\n",
       "      <td>M</td>\n",
       "      <td>15</td>\n",
       "      <td>U</td>\n",
       "      <td>GT3</td>\n",
       "      <td>T</td>\n",
       "      <td>3</td>\n",
       "      <td>4</td>\n",
       "      <td>other</td>\n",
       "      <td>other</td>\n",
       "      <td>...</td>\n",
       "      <td>5</td>\n",
       "      <td>5</td>\n",
       "      <td>1</td>\n",
       "      <td>1</td>\n",
       "      <td>1</td>\n",
       "      <td>5</td>\n",
       "      <td>0</td>\n",
       "      <td>14</td>\n",
       "      <td>15</td>\n",
       "      <td>15</td>\n",
       "    </tr>\n",
       "    <tr>\n",
       "      <th>12</th>\n",
       "      <td>GP</td>\n",
       "      <td>M</td>\n",
       "      <td>15</td>\n",
       "      <td>U</td>\n",
       "      <td>LE3</td>\n",
       "      <td>T</td>\n",
       "      <td>4</td>\n",
       "      <td>4</td>\n",
       "      <td>health</td>\n",
       "      <td>services</td>\n",
       "      <td>...</td>\n",
       "      <td>4</td>\n",
       "      <td>3</td>\n",
       "      <td>3</td>\n",
       "      <td>1</td>\n",
       "      <td>3</td>\n",
       "      <td>5</td>\n",
       "      <td>2</td>\n",
       "      <td>14</td>\n",
       "      <td>14</td>\n",
       "      <td>14</td>\n",
       "    </tr>\n",
       "  </tbody>\n",
       "</table>\n",
       "<p>5 rows × 33 columns</p>\n",
       "</div>"
      ],
      "text/plain": [
       "   school sex  age address famsize Pstatus  Medu  Fedu      Mjob      Fjob  \\\n",
       "5      GP   M   16       U     LE3       T     4     3  services     other   \n",
       "6      GP   M   16       U     LE3       T     2     2     other     other   \n",
       "8      GP   M   15       U     LE3       A     3     2  services     other   \n",
       "9      GP   M   15       U     GT3       T     3     4     other     other   \n",
       "12     GP   M   15       U     LE3       T     4     4    health  services   \n",
       "\n",
       "    ... famrel freetime  goout  Dalc  Walc health absences  G1  G2  G3  \n",
       "5   ...      5        4      2     1     2      5       10  15  15  15  \n",
       "6   ...      4        4      4     1     1      3        0  12  12  11  \n",
       "8   ...      4        2      2     1     1      1        0  16  18  19  \n",
       "9   ...      5        5      1     1     1      5        0  14  15  15  \n",
       "12  ...      4        3      3     1     3      5        2  14  14  14  \n",
       "\n",
       "[5 rows x 33 columns]"
      ]
     },
     "execution_count": 11,
     "metadata": {},
     "output_type": "execute_result"
    }
   ],
   "source": [
    "student_data_math_m = student_data_math[student_data_math[\"sex\"] == \"M\"]\n",
    "student_data_math_m.head()"
   ]
  },
  {
   "cell_type": "code",
   "execution_count": 138,
   "metadata": {},
   "outputs": [
    {
     "data": {
      "text/plain": [
       "8.547"
      ]
     },
     "execution_count": 138,
     "metadata": {},
     "output_type": "execute_result"
    }
   ],
   "source": [
    "from math import log\n",
    "class_size_m = 1 + log(len(student_data_math_m), 2)\n",
    "class_size_m"
   ]
  },
  {
   "cell_type": "code",
   "execution_count": 125,
   "metadata": {},
   "outputs": [
    {
     "data": {
      "text/plain": [
       "2.000"
      ]
     },
     "execution_count": 125,
     "metadata": {},
     "output_type": "execute_result"
    }
   ],
   "source": [
    "class_width_m =(max(student_data_math_m[\"G1\"])-min(student_data_math_m[\"G1\"]))/8\n",
    "class_width_m"
   ]
  },
  {
   "cell_type": "code",
   "execution_count": 139,
   "metadata": {},
   "outputs": [
    {
     "data": {
      "text/plain": [
       "19"
      ]
     },
     "execution_count": 139,
     "metadata": {},
     "output_type": "execute_result"
    }
   ],
   "source": [
    "max(student_data_math_m[\"G1\"])"
   ]
  },
  {
   "cell_type": "code",
   "execution_count": 95,
   "metadata": {},
   "outputs": [],
   "source": [
    "#-----\n",
    "# 階級に振り分ける\n",
    "#-----\n",
    "#各観測値を階級値にする\n",
    "def Frequency_Distribution(df, class_width):\n",
    "    cut_data = []\n",
    "    for row in df:\n",
    "        cut = row // class_width\n",
    "        cut_data.append(cut)\n",
    "    return cut_data"
   ]
  },
  {
   "cell_type": "code",
   "execution_count": 96,
   "metadata": {},
   "outputs": [],
   "source": [
    "#頻度を数える\n",
    "Frequency_data_m = pd.Series(Frequency_Distribution(student_data_math_m[\"G1\"], class_width_m)).value_counts()"
   ]
  },
  {
   "cell_type": "code",
   "execution_count": 97,
   "metadata": {},
   "outputs": [],
   "source": [
    "Frequency_data_m = pd.DataFrame(Frequency_data_m)"
   ]
  },
  {
   "cell_type": "code",
   "execution_count": 98,
   "metadata": {},
   "outputs": [],
   "source": [
    "#インデックスでソート\n",
    "F_data_m = Frequency_data_m.sort_index()"
   ]
  },
  {
   "cell_type": "code",
   "execution_count": 140,
   "metadata": {},
   "outputs": [],
   "source": [
    "#インデックスの名前を変える\n",
    "F_data_m.index = ['2~4','4~6','6~8','8~10','10~12','12~14','14~16','16~18','18~20']"
   ]
  },
  {
   "cell_type": "code",
   "execution_count": 141,
   "metadata": {},
   "outputs": [
    {
     "data": {
      "text/html": [
       "<div>\n",
       "<style scoped>\n",
       "    .dataframe tbody tr th:only-of-type {\n",
       "        vertical-align: middle;\n",
       "    }\n",
       "\n",
       "    .dataframe tbody tr th {\n",
       "        vertical-align: top;\n",
       "    }\n",
       "\n",
       "    .dataframe thead th {\n",
       "        text-align: right;\n",
       "    }\n",
       "</style>\n",
       "<table border=\"1\" class=\"dataframe\">\n",
       "  <thead>\n",
       "    <tr style=\"text-align: right;\">\n",
       "      <th></th>\n",
       "      <th>Frequency</th>\n",
       "      <th>Class</th>\n",
       "      <th>Kuiseki_p</th>\n",
       "      <th>Ruiseki_p</th>\n",
       "      <th>F*C</th>\n",
       "      <th>Kuiseki_FC</th>\n",
       "      <th>Ruiseki_F*C</th>\n",
       "    </tr>\n",
       "  </thead>\n",
       "  <tbody>\n",
       "    <tr>\n",
       "      <th>2~4</th>\n",
       "      <td>1</td>\n",
       "      <td>1</td>\n",
       "      <td>0.012346</td>\n",
       "      <td>0.012346</td>\n",
       "      <td>1</td>\n",
       "      <td>0.000549</td>\n",
       "      <td>0.000549</td>\n",
       "    </tr>\n",
       "    <tr>\n",
       "      <th>4~6</th>\n",
       "      <td>4</td>\n",
       "      <td>3</td>\n",
       "      <td>0.037037</td>\n",
       "      <td>0.049383</td>\n",
       "      <td>12</td>\n",
       "      <td>0.006590</td>\n",
       "      <td>0.007139</td>\n",
       "    </tr>\n",
       "    <tr>\n",
       "      <th>6~8</th>\n",
       "      <td>23</td>\n",
       "      <td>5</td>\n",
       "      <td>0.061728</td>\n",
       "      <td>0.111111</td>\n",
       "      <td>115</td>\n",
       "      <td>0.063152</td>\n",
       "      <td>0.070291</td>\n",
       "    </tr>\n",
       "    <tr>\n",
       "      <th>8~10</th>\n",
       "      <td>32</td>\n",
       "      <td>7</td>\n",
       "      <td>0.086420</td>\n",
       "      <td>0.197531</td>\n",
       "      <td>224</td>\n",
       "      <td>0.123009</td>\n",
       "      <td>0.193300</td>\n",
       "    </tr>\n",
       "    <tr>\n",
       "      <th>10~12</th>\n",
       "      <td>42</td>\n",
       "      <td>9</td>\n",
       "      <td>0.111111</td>\n",
       "      <td>0.308642</td>\n",
       "      <td>378</td>\n",
       "      <td>0.207578</td>\n",
       "      <td>0.400879</td>\n",
       "    </tr>\n",
       "    <tr>\n",
       "      <th>12~14</th>\n",
       "      <td>34</td>\n",
       "      <td>11</td>\n",
       "      <td>0.135802</td>\n",
       "      <td>0.444444</td>\n",
       "      <td>374</td>\n",
       "      <td>0.205382</td>\n",
       "      <td>0.606260</td>\n",
       "    </tr>\n",
       "    <tr>\n",
       "      <th>14~16</th>\n",
       "      <td>30</td>\n",
       "      <td>13</td>\n",
       "      <td>0.160494</td>\n",
       "      <td>0.604938</td>\n",
       "      <td>390</td>\n",
       "      <td>0.214168</td>\n",
       "      <td>0.820428</td>\n",
       "    </tr>\n",
       "    <tr>\n",
       "      <th>16~18</th>\n",
       "      <td>15</td>\n",
       "      <td>15</td>\n",
       "      <td>0.185185</td>\n",
       "      <td>0.790123</td>\n",
       "      <td>225</td>\n",
       "      <td>0.123558</td>\n",
       "      <td>0.943987</td>\n",
       "    </tr>\n",
       "    <tr>\n",
       "      <th>18~20</th>\n",
       "      <td>6</td>\n",
       "      <td>17</td>\n",
       "      <td>0.209877</td>\n",
       "      <td>1.000000</td>\n",
       "      <td>102</td>\n",
       "      <td>0.056013</td>\n",
       "      <td>1.000000</td>\n",
       "    </tr>\n",
       "  </tbody>\n",
       "</table>\n",
       "</div>"
      ],
      "text/plain": [
       "       Frequency  Class  Kuiseki_p  Ruiseki_p  F*C  Kuiseki_FC  Ruiseki_F*C\n",
       "2~4            1      1   0.012346   0.012346    1    0.000549     0.000549\n",
       "4~6            4      3   0.037037   0.049383   12    0.006590     0.007139\n",
       "6~8           23      5   0.061728   0.111111  115    0.063152     0.070291\n",
       "8~10          32      7   0.086420   0.197531  224    0.123009     0.193300\n",
       "10~12         42      9   0.111111   0.308642  378    0.207578     0.400879\n",
       "12~14         34     11   0.135802   0.444444  374    0.205382     0.606260\n",
       "14~16         30     13   0.160494   0.604938  390    0.214168     0.820428\n",
       "16~18         15     15   0.185185   0.790123  225    0.123558     0.943987\n",
       "18~20          6     17   0.209877   1.000000  102    0.056013     1.000000"
      ]
     },
     "execution_count": 141,
     "metadata": {},
     "output_type": "execute_result"
    }
   ],
   "source": [
    "F_data_m.head(10)"
   ]
  },
  {
   "cell_type": "code",
   "execution_count": 142,
   "metadata": {},
   "outputs": [],
   "source": [
    "F_data_m = F_data_m.rename(columns={ 0 : 'Frequency'})\n",
    "F_data_m[\"Class\"] = [3,5,7,9,11,13,15,17,19]\n",
    "F_data_m[\"Kuiseki_p\"] = F_data_m[\"Class\"]/F_data_m[\"Class\"].sum()\n",
    "F_data_m[\"Ruiseki_p\"] = F_data_m[\"Class\"].cumsum()/F_data_m[\"Class\"].sum()\n",
    "F_data_m[\"F*C\"] = F_data_m[\"Frequency\"] * F_data_m[\"Class\"]\n",
    "F_data_m[\"Kuiseki_FC\"] = F_data_m[\"F*C\"]/F_data_m[\"F*C\"].sum()\n",
    "F_data_m[\"Ruiseki_F*C\"] = F_data_m[\"F*C\"].cumsum()/F_data_m[\"F*C\"].sum()"
   ]
  },
  {
   "cell_type": "code",
   "execution_count": 143,
   "metadata": {},
   "outputs": [
    {
     "data": {
      "text/html": [
       "<div>\n",
       "<style scoped>\n",
       "    .dataframe tbody tr th:only-of-type {\n",
       "        vertical-align: middle;\n",
       "    }\n",
       "\n",
       "    .dataframe tbody tr th {\n",
       "        vertical-align: top;\n",
       "    }\n",
       "\n",
       "    .dataframe thead th {\n",
       "        text-align: right;\n",
       "    }\n",
       "</style>\n",
       "<table border=\"1\" class=\"dataframe\">\n",
       "  <thead>\n",
       "    <tr style=\"text-align: right;\">\n",
       "      <th></th>\n",
       "      <th>Frequency</th>\n",
       "      <th>Class</th>\n",
       "      <th>Kuiseki_p</th>\n",
       "      <th>Ruiseki_p</th>\n",
       "      <th>F*C</th>\n",
       "      <th>Kuiseki_FC</th>\n",
       "      <th>Ruiseki_F*C</th>\n",
       "    </tr>\n",
       "  </thead>\n",
       "  <tbody>\n",
       "    <tr>\n",
       "      <th>2~4</th>\n",
       "      <td>1</td>\n",
       "      <td>3</td>\n",
       "      <td>0.030303</td>\n",
       "      <td>0.030303</td>\n",
       "      <td>3</td>\n",
       "      <td>0.001367</td>\n",
       "      <td>0.001367</td>\n",
       "    </tr>\n",
       "    <tr>\n",
       "      <th>4~6</th>\n",
       "      <td>4</td>\n",
       "      <td>5</td>\n",
       "      <td>0.050505</td>\n",
       "      <td>0.080808</td>\n",
       "      <td>20</td>\n",
       "      <td>0.009112</td>\n",
       "      <td>0.010478</td>\n",
       "    </tr>\n",
       "    <tr>\n",
       "      <th>6~8</th>\n",
       "      <td>23</td>\n",
       "      <td>7</td>\n",
       "      <td>0.070707</td>\n",
       "      <td>0.151515</td>\n",
       "      <td>161</td>\n",
       "      <td>0.073349</td>\n",
       "      <td>0.083827</td>\n",
       "    </tr>\n",
       "    <tr>\n",
       "      <th>8~10</th>\n",
       "      <td>32</td>\n",
       "      <td>9</td>\n",
       "      <td>0.090909</td>\n",
       "      <td>0.242424</td>\n",
       "      <td>288</td>\n",
       "      <td>0.131207</td>\n",
       "      <td>0.215034</td>\n",
       "    </tr>\n",
       "    <tr>\n",
       "      <th>10~12</th>\n",
       "      <td>42</td>\n",
       "      <td>11</td>\n",
       "      <td>0.111111</td>\n",
       "      <td>0.353535</td>\n",
       "      <td>462</td>\n",
       "      <td>0.210478</td>\n",
       "      <td>0.425513</td>\n",
       "    </tr>\n",
       "    <tr>\n",
       "      <th>12~14</th>\n",
       "      <td>34</td>\n",
       "      <td>13</td>\n",
       "      <td>0.131313</td>\n",
       "      <td>0.484848</td>\n",
       "      <td>442</td>\n",
       "      <td>0.201367</td>\n",
       "      <td>0.626879</td>\n",
       "    </tr>\n",
       "    <tr>\n",
       "      <th>14~16</th>\n",
       "      <td>30</td>\n",
       "      <td>15</td>\n",
       "      <td>0.151515</td>\n",
       "      <td>0.636364</td>\n",
       "      <td>450</td>\n",
       "      <td>0.205011</td>\n",
       "      <td>0.831891</td>\n",
       "    </tr>\n",
       "    <tr>\n",
       "      <th>16~18</th>\n",
       "      <td>15</td>\n",
       "      <td>17</td>\n",
       "      <td>0.171717</td>\n",
       "      <td>0.808081</td>\n",
       "      <td>255</td>\n",
       "      <td>0.116173</td>\n",
       "      <td>0.948064</td>\n",
       "    </tr>\n",
       "    <tr>\n",
       "      <th>18~20</th>\n",
       "      <td>6</td>\n",
       "      <td>19</td>\n",
       "      <td>0.191919</td>\n",
       "      <td>1.000000</td>\n",
       "      <td>114</td>\n",
       "      <td>0.051936</td>\n",
       "      <td>1.000000</td>\n",
       "    </tr>\n",
       "  </tbody>\n",
       "</table>\n",
       "</div>"
      ],
      "text/plain": [
       "       Frequency  Class  Kuiseki_p  Ruiseki_p  F*C  Kuiseki_FC  Ruiseki_F*C\n",
       "2~4            1      3   0.030303   0.030303    3    0.001367     0.001367\n",
       "4~6            4      5   0.050505   0.080808   20    0.009112     0.010478\n",
       "6~8           23      7   0.070707   0.151515  161    0.073349     0.083827\n",
       "8~10          32      9   0.090909   0.242424  288    0.131207     0.215034\n",
       "10~12         42     11   0.111111   0.353535  462    0.210478     0.425513\n",
       "12~14         34     13   0.131313   0.484848  442    0.201367     0.626879\n",
       "14~16         30     15   0.151515   0.636364  450    0.205011     0.831891\n",
       "16~18         15     17   0.171717   0.808081  255    0.116173     0.948064\n",
       "18~20          6     19   0.191919   1.000000  114    0.051936     1.000000"
      ]
     },
     "execution_count": 143,
     "metadata": {},
     "output_type": "execute_result"
    }
   ],
   "source": [
    "F_data_m.head(10)"
   ]
  },
  {
   "cell_type": "code",
   "execution_count": 144,
   "metadata": {},
   "outputs": [
    {
     "data": {
      "image/png": "[encoded data removed]",
      "text/plain": [
       "<Figure size 432x288 with 1 Axes>"
      ]
     },
     "metadata": {
      "needs_background": "light"
     },
     "output_type": "display_data"
    }
   ],
   "source": [
    "%matplotlib inline\n",
    "import numpy as np\n",
    "import matplotlib.pyplot as plt\n",
    "\n",
    "fig, ax = plt.subplots()\n",
    "\n",
    "# 横座標, 度数の累積相対度数\n",
    "left = F_data_m[\"Ruiseki_F*C\"]\n",
    "\n",
    "# 縦座標, 人数の累積相対度数\n",
    "height = F_data_m[\"Ruiseki_p\"]\n",
    "\n",
    "ax.plot(left, height, marker='o')\n",
    "# グラフのタイトル\n",
    "plt.title('Lorenz Curve(m)')\n",
    "# X軸のタイトル\n",
    "plt.xlabel('Ruiseki_F*C')\n",
    "# Y軸のタイトル\n",
    "plt.ylabel('Ruiseki_p')\n",
    "\n",
    "# X軸のラベル\n",
    "label = [0, 0.2, 0.4, 0.6, 0.8, 1.0] \n",
    "\n",
    "# ラベルを打つX軸の場所\n",
    "ax.set_xticks(label)\n",
    "# X軸にラベルをセット\n",
    "ax.set_xticklabels(label)\n",
    "\n",
    "# ラベルを打つY軸の場所\n",
    "ax.set_yticks(label)\n",
    "# Y軸にラベルをセット\n",
    "ax.set_yticklabels(label)\n",
    "\n",
    "# 描画\n",
    "plt.show()"
   ]
  },
  {
   "cell_type": "code",
   "execution_count": 121,
   "metadata": {},
   "outputs": [],
   "source": [
    "student_data_math_f = student_data_math[student_data_math[\"sex\"] == \"F\"]"
   ]
  },
  {
   "cell_type": "code",
   "execution_count": 128,
   "metadata": {},
   "outputs": [],
   "source": [
    "class_size_f = 1 + log(len(student_data_math_f), 2)\n",
    "class_width_f =(max(student_data_math_f[\"G1\"])-min(student_data_math_f[\"G1\"]))/8\n",
    "\n",
    "#頻度を数える\n",
    "Frequency_data_f = pd.Series(Frequency_Distribution(student_data_math_f[\"G1\"], 2)).value_counts()\n",
    "\n",
    "Frequency_data_f = pd.DataFrame(Frequency_data_f)\n",
    "\n",
    "#インデックスでソート\n",
    "F_data_f = Frequency_data_f.sort_index()\n",
    "\n",
    "#インデックスの名前を変える\n",
    "F_data_f.index = ['2~4','4~6','6~8','8~10','10~12','12~14','14~16','16~18']"
   ]
  },
  {
   "cell_type": "code",
   "execution_count": 132,
   "metadata": {},
   "outputs": [],
   "source": [
    "F_data_f = F_data_f.rename(columns={ 0 : 'Frequency'})\n",
    "F_data_f[\"Class\"] = [3,5,7,9,11,13,15,17]\n",
    "F_data_f[\"Kuiseki_p\"] = F_data_f[\"Class\"]/F_data_f[\"Class\"].sum()\n",
    "F_data_f[\"Ruiseki_p\"] = F_data_f[\"Class\"].cumsum()/F_data_f[\"Class\"].sum()\n",
    "F_data_f[\"F*C\"] = F_data_f[\"Frequency\"] * F_data_f[\"Class\"]\n",
    "F_data_f[\"Kuiseki_FC\"] = F_data_f[\"F*C\"]/F_data_f[\"F*C\"].sum()\n",
    "F_data_f[\"Ruiseki_F*C\"] = F_data_f[\"F*C\"].cumsum()/F_data_f[\"F*C\"].sum()"
   ]
  },
  {
   "cell_type": "code",
   "execution_count": 133,
   "metadata": {},
   "outputs": [
    {
     "data": {
      "text/html": [
       "<div>\n",
       "<style scoped>\n",
       "    .dataframe tbody tr th:only-of-type {\n",
       "        vertical-align: middle;\n",
       "    }\n",
       "\n",
       "    .dataframe tbody tr th {\n",
       "        vertical-align: top;\n",
       "    }\n",
       "\n",
       "    .dataframe thead th {\n",
       "        text-align: right;\n",
       "    }\n",
       "</style>\n",
       "<table border=\"1\" class=\"dataframe\">\n",
       "  <thead>\n",
       "    <tr style=\"text-align: right;\">\n",
       "      <th></th>\n",
       "      <th>Frequency</th>\n",
       "      <th>Class</th>\n",
       "      <th>Kuiseki_p</th>\n",
       "      <th>Ruiseki_p</th>\n",
       "      <th>F*C</th>\n",
       "      <th>Kuiseki_FC</th>\n",
       "      <th>Ruiseki_F*C</th>\n",
       "    </tr>\n",
       "  </thead>\n",
       "  <tbody>\n",
       "    <tr>\n",
       "      <th>2~4</th>\n",
       "      <td>4</td>\n",
       "      <td>3</td>\n",
       "      <td>0.0375</td>\n",
       "      <td>0.0375</td>\n",
       "      <td>12</td>\n",
       "      <td>0.006283</td>\n",
       "      <td>0.006283</td>\n",
       "    </tr>\n",
       "    <tr>\n",
       "      <th>4~6</th>\n",
       "      <td>38</td>\n",
       "      <td>5</td>\n",
       "      <td>0.0625</td>\n",
       "      <td>0.1000</td>\n",
       "      <td>190</td>\n",
       "      <td>0.099476</td>\n",
       "      <td>0.105759</td>\n",
       "    </tr>\n",
       "    <tr>\n",
       "      <th>6~8</th>\n",
       "      <td>40</td>\n",
       "      <td>7</td>\n",
       "      <td>0.0875</td>\n",
       "      <td>0.1875</td>\n",
       "      <td>280</td>\n",
       "      <td>0.146597</td>\n",
       "      <td>0.252356</td>\n",
       "    </tr>\n",
       "    <tr>\n",
       "      <th>8~10</th>\n",
       "      <td>48</td>\n",
       "      <td>9</td>\n",
       "      <td>0.1125</td>\n",
       "      <td>0.3000</td>\n",
       "      <td>432</td>\n",
       "      <td>0.226178</td>\n",
       "      <td>0.478534</td>\n",
       "    </tr>\n",
       "    <tr>\n",
       "      <th>10~12</th>\n",
       "      <td>34</td>\n",
       "      <td>11</td>\n",
       "      <td>0.1375</td>\n",
       "      <td>0.4375</td>\n",
       "      <td>374</td>\n",
       "      <td>0.195812</td>\n",
       "      <td>0.674346</td>\n",
       "    </tr>\n",
       "    <tr>\n",
       "      <th>12~14</th>\n",
       "      <td>24</td>\n",
       "      <td>13</td>\n",
       "      <td>0.1625</td>\n",
       "      <td>0.6000</td>\n",
       "      <td>312</td>\n",
       "      <td>0.163351</td>\n",
       "      <td>0.837696</td>\n",
       "    </tr>\n",
       "    <tr>\n",
       "      <th>14~16</th>\n",
       "      <td>15</td>\n",
       "      <td>15</td>\n",
       "      <td>0.1875</td>\n",
       "      <td>0.7875</td>\n",
       "      <td>225</td>\n",
       "      <td>0.117801</td>\n",
       "      <td>0.955497</td>\n",
       "    </tr>\n",
       "    <tr>\n",
       "      <th>16~18</th>\n",
       "      <td>5</td>\n",
       "      <td>17</td>\n",
       "      <td>0.2125</td>\n",
       "      <td>1.0000</td>\n",
       "      <td>85</td>\n",
       "      <td>0.044503</td>\n",
       "      <td>1.000000</td>\n",
       "    </tr>\n",
       "  </tbody>\n",
       "</table>\n",
       "</div>"
      ],
      "text/plain": [
       "       Frequency  Class  Kuiseki_p  Ruiseki_p  F*C  Kuiseki_FC  Ruiseki_F*C\n",
       "2~4            4      3     0.0375     0.0375   12    0.006283     0.006283\n",
       "4~6           38      5     0.0625     0.1000  190    0.099476     0.105759\n",
       "6~8           40      7     0.0875     0.1875  280    0.146597     0.252356\n",
       "8~10          48      9     0.1125     0.3000  432    0.226178     0.478534\n",
       "10~12         34     11     0.1375     0.4375  374    0.195812     0.674346\n",
       "12~14         24     13     0.1625     0.6000  312    0.163351     0.837696\n",
       "14~16         15     15     0.1875     0.7875  225    0.117801     0.955497\n",
       "16~18          5     17     0.2125     1.0000   85    0.044503     1.000000"
      ]
     },
     "execution_count": 133,
     "metadata": {},
     "output_type": "execute_result"
    }
   ],
   "source": [
    "F_data_f.head(10)"
   ]
  },
  {
   "cell_type": "code",
   "execution_count": 135,
   "metadata": {},
   "outputs": [
    {
     "data": {
      "image/png": "[encoded data removed]",
      "text/plain": [
       "<Figure size 432x288 with 1 Axes>"
      ]
     },
     "metadata": {
      "needs_background": "light"
     },
     "output_type": "display_data"
    }
   ],
   "source": [
    "fig, ax = plt.subplots()\n",
    "\n",
    "# 横座標, 度数の累積相対度数\n",
    "left = F_data_f[\"Ruiseki_F*C\"]\n",
    "\n",
    "# 縦座標, 人数の累積相対度数\n",
    "height = F_data_f[\"Ruiseki_p\"]\n",
    "\n",
    "ax.plot(left, height, marker='o')\n",
    "# グラフのタイトル\n",
    "plt.title('Lorenz Curve(f)')\n",
    "# X軸のタイトル\n",
    "plt.xlabel('Ruiseki_F*C')\n",
    "# Y軸のタイトル\n",
    "plt.ylabel('Ruiseki_p')\n",
    "\n",
    "# X軸のラベル\n",
    "label = [0, 0.2, 0.4, 0.6, 0.8, 1.0] \n",
    "\n",
    "# ラベルを打つX軸の場所\n",
    "ax.set_xticks(label)\n",
    "# X軸にラベルをセット\n",
    "ax.set_xticklabels(label)\n",
    "\n",
    "# ラベルを打つY軸の場所\n",
    "ax.set_yticks(label)\n",
    "# Y軸にラベルをセット\n",
    "ax.set_yticklabels(label)\n",
    "\n",
    "# 描画\n",
    "plt.show()"
   ]
  },
  {
   "cell_type": "code",
   "execution_count": 157,
   "metadata": {},
   "outputs": [],
   "source": [
    "import numpy as np\n",
    "import pandas as pd\n",
    "\n",
    "import matplotlib.pyplot as plt\n",
    "import matplotlib as mpl\n",
    "import seaborn as sns\n",
    "%matplotlib inline\n",
    "\n",
    "math_male = student_data_math[student_data_math['sex'] =='M'].sort_values(by=[\"G1\"], ascending=True)\n",
    "math_female =student_data_math[student_data_math['sex'] == 'F'].sort_values(by=[\"G1\"], ascending=True)"
   ]
  },
  {
   "cell_type": "code",
   "execution_count": 159,
   "metadata": {},
   "outputs": [],
   "source": [
    "math_male['G1_men_Cumsum'] = math_male['G1'].cumsum() / math_male['G1'].sum()\n",
    "math_female['G1_femele_Cumsum'] = math_female['G1'].cumsum() / math_male['G1'].sum()\n",
    "\n",
    "math_male['temp'],math_female['temp'] = 1,1\n",
    "math_male['sex_Cumsum'] = math_male['temp'].cumsum() / math_male['temp'].sum()\n",
    "math_female['sex_Cumsum'] = math_female['temp'].cumsum() / math_female['temp'].sum()\n",
    "\n",
    "math_male = math_male.drop('temp', axis=1)\n",
    "math_female = math_female.drop('temp', axis=1)"
   ]
  },
  {
   "cell_type": "code",
   "execution_count": 154,
   "metadata": {},
   "outputs": [
    {
     "data": {
      "text/html": [
       "<div>\n",
       "<style scoped>\n",
       "    .dataframe tbody tr th:only-of-type {\n",
       "        vertical-align: middle;\n",
       "    }\n",
       "\n",
       "    .dataframe tbody tr th {\n",
       "        vertical-align: top;\n",
       "    }\n",
       "\n",
       "    .dataframe thead th {\n",
       "        text-align: right;\n",
       "    }\n",
       "</style>\n",
       "<table border=\"1\" class=\"dataframe\">\n",
       "  <thead>\n",
       "    <tr style=\"text-align: right;\">\n",
       "      <th></th>\n",
       "      <th>school</th>\n",
       "      <th>sex</th>\n",
       "      <th>age</th>\n",
       "      <th>address</th>\n",
       "      <th>famsize</th>\n",
       "      <th>Pstatus</th>\n",
       "      <th>Medu</th>\n",
       "      <th>Fedu</th>\n",
       "      <th>Mjob</th>\n",
       "      <th>Fjob</th>\n",
       "      <th>...</th>\n",
       "      <th>goout</th>\n",
       "      <th>Dalc</th>\n",
       "      <th>Walc</th>\n",
       "      <th>health</th>\n",
       "      <th>absences</th>\n",
       "      <th>G1</th>\n",
       "      <th>G2</th>\n",
       "      <th>G3</th>\n",
       "      <th>G1_men_Cumsum</th>\n",
       "      <th>sex_Cumsum</th>\n",
       "    </tr>\n",
       "  </thead>\n",
       "  <tbody>\n",
       "    <tr>\n",
       "      <th>248</th>\n",
       "      <td>GP</td>\n",
       "      <td>M</td>\n",
       "      <td>18</td>\n",
       "      <td>R</td>\n",
       "      <td>LE3</td>\n",
       "      <td>T</td>\n",
       "      <td>3</td>\n",
       "      <td>3</td>\n",
       "      <td>other</td>\n",
       "      <td>services</td>\n",
       "      <td>...</td>\n",
       "      <td>3</td>\n",
       "      <td>1</td>\n",
       "      <td>3</td>\n",
       "      <td>5</td>\n",
       "      <td>8</td>\n",
       "      <td>3</td>\n",
       "      <td>5</td>\n",
       "      <td>5</td>\n",
       "      <td>0.001429</td>\n",
       "      <td>0.005348</td>\n",
       "    </tr>\n",
       "    <tr>\n",
       "      <th>144</th>\n",
       "      <td>GP</td>\n",
       "      <td>M</td>\n",
       "      <td>17</td>\n",
       "      <td>U</td>\n",
       "      <td>GT3</td>\n",
       "      <td>T</td>\n",
       "      <td>2</td>\n",
       "      <td>1</td>\n",
       "      <td>other</td>\n",
       "      <td>other</td>\n",
       "      <td>...</td>\n",
       "      <td>5</td>\n",
       "      <td>1</td>\n",
       "      <td>2</td>\n",
       "      <td>5</td>\n",
       "      <td>0</td>\n",
       "      <td>5</td>\n",
       "      <td>0</td>\n",
       "      <td>0</td>\n",
       "      <td>0.003810</td>\n",
       "      <td>0.010695</td>\n",
       "    </tr>\n",
       "    <tr>\n",
       "      <th>164</th>\n",
       "      <td>GP</td>\n",
       "      <td>M</td>\n",
       "      <td>17</td>\n",
       "      <td>R</td>\n",
       "      <td>LE3</td>\n",
       "      <td>T</td>\n",
       "      <td>1</td>\n",
       "      <td>1</td>\n",
       "      <td>other</td>\n",
       "      <td>services</td>\n",
       "      <td>...</td>\n",
       "      <td>5</td>\n",
       "      <td>1</td>\n",
       "      <td>5</td>\n",
       "      <td>5</td>\n",
       "      <td>0</td>\n",
       "      <td>5</td>\n",
       "      <td>8</td>\n",
       "      <td>7</td>\n",
       "      <td>0.006190</td>\n",
       "      <td>0.016043</td>\n",
       "    </tr>\n",
       "    <tr>\n",
       "      <th>161</th>\n",
       "      <td>GP</td>\n",
       "      <td>M</td>\n",
       "      <td>15</td>\n",
       "      <td>R</td>\n",
       "      <td>GT3</td>\n",
       "      <td>T</td>\n",
       "      <td>3</td>\n",
       "      <td>2</td>\n",
       "      <td>other</td>\n",
       "      <td>other</td>\n",
       "      <td>...</td>\n",
       "      <td>4</td>\n",
       "      <td>1</td>\n",
       "      <td>4</td>\n",
       "      <td>3</td>\n",
       "      <td>6</td>\n",
       "      <td>5</td>\n",
       "      <td>9</td>\n",
       "      <td>7</td>\n",
       "      <td>0.008571</td>\n",
       "      <td>0.021390</td>\n",
       "    </tr>\n",
       "    <tr>\n",
       "      <th>153</th>\n",
       "      <td>GP</td>\n",
       "      <td>M</td>\n",
       "      <td>19</td>\n",
       "      <td>U</td>\n",
       "      <td>GT3</td>\n",
       "      <td>T</td>\n",
       "      <td>3</td>\n",
       "      <td>2</td>\n",
       "      <td>services</td>\n",
       "      <td>at_home</td>\n",
       "      <td>...</td>\n",
       "      <td>4</td>\n",
       "      <td>1</td>\n",
       "      <td>1</td>\n",
       "      <td>4</td>\n",
       "      <td>0</td>\n",
       "      <td>5</td>\n",
       "      <td>0</td>\n",
       "      <td>0</td>\n",
       "      <td>0.010952</td>\n",
       "      <td>0.026738</td>\n",
       "    </tr>\n",
       "    <tr>\n",
       "      <th>150</th>\n",
       "      <td>GP</td>\n",
       "      <td>M</td>\n",
       "      <td>18</td>\n",
       "      <td>U</td>\n",
       "      <td>LE3</td>\n",
       "      <td>T</td>\n",
       "      <td>1</td>\n",
       "      <td>1</td>\n",
       "      <td>other</td>\n",
       "      <td>other</td>\n",
       "      <td>...</td>\n",
       "      <td>5</td>\n",
       "      <td>2</td>\n",
       "      <td>5</td>\n",
       "      <td>4</td>\n",
       "      <td>0</td>\n",
       "      <td>6</td>\n",
       "      <td>5</td>\n",
       "      <td>0</td>\n",
       "      <td>0.013810</td>\n",
       "      <td>0.032086</td>\n",
       "    </tr>\n",
       "    <tr>\n",
       "      <th>250</th>\n",
       "      <td>GP</td>\n",
       "      <td>M</td>\n",
       "      <td>18</td>\n",
       "      <td>U</td>\n",
       "      <td>GT3</td>\n",
       "      <td>T</td>\n",
       "      <td>3</td>\n",
       "      <td>2</td>\n",
       "      <td>services</td>\n",
       "      <td>other</td>\n",
       "      <td>...</td>\n",
       "      <td>5</td>\n",
       "      <td>2</td>\n",
       "      <td>4</td>\n",
       "      <td>5</td>\n",
       "      <td>0</td>\n",
       "      <td>6</td>\n",
       "      <td>8</td>\n",
       "      <td>8</td>\n",
       "      <td>0.016667</td>\n",
       "      <td>0.037433</td>\n",
       "    </tr>\n",
       "    <tr>\n",
       "      <th>177</th>\n",
       "      <td>GP</td>\n",
       "      <td>M</td>\n",
       "      <td>17</td>\n",
       "      <td>U</td>\n",
       "      <td>GT3</td>\n",
       "      <td>T</td>\n",
       "      <td>3</td>\n",
       "      <td>3</td>\n",
       "      <td>other</td>\n",
       "      <td>other</td>\n",
       "      <td>...</td>\n",
       "      <td>4</td>\n",
       "      <td>1</td>\n",
       "      <td>4</td>\n",
       "      <td>4</td>\n",
       "      <td>4</td>\n",
       "      <td>6</td>\n",
       "      <td>5</td>\n",
       "      <td>6</td>\n",
       "      <td>0.019524</td>\n",
       "      <td>0.042781</td>\n",
       "    </tr>\n",
       "    <tr>\n",
       "      <th>170</th>\n",
       "      <td>GP</td>\n",
       "      <td>M</td>\n",
       "      <td>16</td>\n",
       "      <td>U</td>\n",
       "      <td>GT3</td>\n",
       "      <td>T</td>\n",
       "      <td>3</td>\n",
       "      <td>4</td>\n",
       "      <td>other</td>\n",
       "      <td>other</td>\n",
       "      <td>...</td>\n",
       "      <td>5</td>\n",
       "      <td>2</td>\n",
       "      <td>4</td>\n",
       "      <td>2</td>\n",
       "      <td>0</td>\n",
       "      <td>6</td>\n",
       "      <td>5</td>\n",
       "      <td>0</td>\n",
       "      <td>0.022381</td>\n",
       "      <td>0.048128</td>\n",
       "    </tr>\n",
       "    <tr>\n",
       "      <th>242</th>\n",
       "      <td>GP</td>\n",
       "      <td>M</td>\n",
       "      <td>16</td>\n",
       "      <td>U</td>\n",
       "      <td>LE3</td>\n",
       "      <td>T</td>\n",
       "      <td>4</td>\n",
       "      <td>3</td>\n",
       "      <td>teacher</td>\n",
       "      <td>other</td>\n",
       "      <td>...</td>\n",
       "      <td>5</td>\n",
       "      <td>1</td>\n",
       "      <td>1</td>\n",
       "      <td>3</td>\n",
       "      <td>0</td>\n",
       "      <td>6</td>\n",
       "      <td>0</td>\n",
       "      <td>0</td>\n",
       "      <td>0.025238</td>\n",
       "      <td>0.053476</td>\n",
       "    </tr>\n",
       "  </tbody>\n",
       "</table>\n",
       "<p>10 rows × 35 columns</p>\n",
       "</div>"
      ],
      "text/plain": [
       "    school sex  age address famsize Pstatus  Medu  Fedu      Mjob      Fjob  \\\n",
       "248     GP   M   18       R     LE3       T     3     3     other  services   \n",
       "144     GP   M   17       U     GT3       T     2     1     other     other   \n",
       "164     GP   M   17       R     LE3       T     1     1     other  services   \n",
       "161     GP   M   15       R     GT3       T     3     2     other     other   \n",
       "153     GP   M   19       U     GT3       T     3     2  services   at_home   \n",
       "150     GP   M   18       U     LE3       T     1     1     other     other   \n",
       "250     GP   M   18       U     GT3       T     3     2  services     other   \n",
       "177     GP   M   17       U     GT3       T     3     3     other     other   \n",
       "170     GP   M   16       U     GT3       T     3     4     other     other   \n",
       "242     GP   M   16       U     LE3       T     4     3   teacher     other   \n",
       "\n",
       "     ... goout Dalc  Walc  health  absences G1 G2 G3 G1_men_Cumsum sex_Cumsum  \n",
       "248  ...     3    1     3       5         8  3  5  5      0.001429   0.005348  \n",
       "144  ...     5    1     2       5         0  5  0  0      0.003810   0.010695  \n",
       "164  ...     5    1     5       5         0  5  8  7      0.006190   0.016043  \n",
       "161  ...     4    1     4       3         6  5  9  7      0.008571   0.021390  \n",
       "153  ...     4    1     1       4         0  5  0  0      0.010952   0.026738  \n",
       "150  ...     5    2     5       4         0  6  5  0      0.013810   0.032086  \n",
       "250  ...     5    2     4       5         0  6  8  8      0.016667   0.037433  \n",
       "177  ...     4    1     4       4         4  6  5  6      0.019524   0.042781  \n",
       "170  ...     5    2     4       2         0  6  5  0      0.022381   0.048128  \n",
       "242  ...     5    1     1       3         0  6  0  0      0.025238   0.053476  \n",
       "\n",
       "[10 rows x 35 columns]"
      ]
     },
     "execution_count": 154,
     "metadata": {},
     "output_type": "execute_result"
    }
   ],
   "source": [
    "math_male.head(10)"
   ]
  },
  {
   "cell_type": "code",
   "execution_count": 163,
   "metadata": {},
   "outputs": [
    {
     "data": {
      "text/plain": [
       "<matplotlib.legend.Legend at 0x2b21785f940>"
      ]
     },
     "execution_count": 163,
     "metadata": {},
     "output_type": "execute_result"
    },
    {
     "data": {
      "image/png": "[encoded data removed]",
      "text/plain": [
       "<Figure size 432x288 with 1 Axes>"
      ]
     },
     "metadata": {
      "needs_background": "light"
     },
     "output_type": "display_data"
    }
   ],
   "source": [
    "# plt.subplot(2,1,1)\n",
    "# グラフのタイトル\n",
    "plt.title('Lorenz Curve')\n",
    "plt.xlabel(\"num \")\n",
    "plt.ylabel(\"G1 cumsum rate\")\n",
    "plt.plot(math_male['sex_Cumsum'], math_male['G1_men_Cumsum'],label='G1_men_Cumsum')\n",
    "plt.grid(True)\n",
    "\n",
    "# plt.subplot(2,1,2)\n",
    "plt.plot(math_female['sex_Cumsum'], math_female['G1_femele_Cumsum'],label='G1_femele_Cumsum')\n",
    "plt.grid(True)\n",
    "\n",
    "plt.legend()"
   ]
  },
  {
   "cell_type": "code",
   "execution_count": 164,
   "metadata": {},
   "outputs": [
    {
     "data": {
      "text/plain": [
       "<matplotlib.legend.Legend at 0x2b2178d6438>"
      ]
     },
     "execution_count": 164,
     "metadata": {},
     "output_type": "execute_result"
    },
    {
     "data": {
      "image/png": "[encoded data removed]",
      "text/plain": [
       "<Figure size 432x288 with 1 Axes>"
      ]
     },
     "metadata": {
      "needs_background": "light"
     },
     "output_type": "display_data"
    }
   ],
   "source": [
    "# plt.subplot(2,1,1)\n",
    "# グラフのタイトル\n",
    "plt.title('Lorenz Curve')\n",
    "plt.xlabel(\"num\")\n",
    "plt.ylabel(\"G1 cumsum rate\")\n",
    "plt.plot(F_data_f[\"Ruiseki_F*C\"], F_data_f[\"Ruiseki_p\"],label='F_data_f')\n",
    "plt.grid(True)\n",
    "\n",
    "# plt.subplot(2,1,2)\n",
    "plt.plot(F_data_m[\"Ruiseki_F*C\"], F_data_m[\"Ruiseki_p\"],label='F_data_m')\n",
    "plt.grid(True)\n",
    "\n",
    "plt.legend()"
   ]
  },
  {
   "cell_type": "code",
   "execution_count": 165,
   "metadata": {},
   "outputs": [],
   "source": [
    "def Gini_coefficient(score_df):\n",
    "    x_bar= score_df[\"G1\"].mean()\n",
    "    n = len(score_df.index)\n",
    "\n",
    "    score_temp = 0\n",
    "    for score_i in score_df['G1']:\n",
    "        for score_j in score_df['G1']:\n",
    "            score_temp += abs(score_i - score_j)\n",
    "\n",
    "    # for math_male in math_male:\n",
    "    return score_temp / (2 * n**2 * x_bar)"
   ]
  },
  {
   "cell_type": "code",
   "execution_count": 167,
   "metadata": {},
   "outputs": [
    {
     "name": "stdout",
     "output_type": "stream",
     "text": [
      "Gini_coefficient of male: 0.17197351667939903\n",
      "Gini_coefficient of female: 0.1723782950865341\n"
     ]
    }
   ],
   "source": [
    "print('Gini_coefficient of male:', Gini_coefficient(math_male))\n",
    "print('Gini_coefficient of female:', Gini_coefficient(math_female))"
   ]
  },
  {
   "cell_type": "code",
   "execution_count": null,
   "metadata": {},
   "outputs": [],
   "source": []
  }
 ],
 "metadata": {
  "anaconda-cloud": {},
  "kernelspec": {
   "display_name": "Python 3",
   "language": "python",
   "name": "python3"
  },
  "language_info": {
   "codemirror_mode": {
    "name": "ipython",
    "version": 3
   },
   "file_extension": ".py",
   "mimetype": "text/x-python",
   "name": "python",
   "nbconvert_exporter": "python",
   "pygments_lexer": "ipython3",
   "version": "3.7.3"
  },
  "nbpresent": {
   "slides": {
    "008a788b-b456-4a0c-8288-6f60967c483e": {
     "id": "008a788b-b456-4a0c-8288-6f60967c483e",
     "prev": "17036b1e-8781-4a7e-a909-a179f499bbc9",
     "regions": {
      "072dbee3-3b47-4389-a934-e0168ebd835e": {
       "attrs": {
        "height": 0.8,
        "width": 0.8,
        "x": 0.1,
        "y": 0.1
       },
       "content": {
        "cell": "378cb846-5485-41d5-9983-fec98a22072a",
        "part": "whole"
       },
       "id": "072dbee3-3b47-4389-a934-e0168ebd835e"
      }
     }
    },
    "01ab9067-898c-46a1-91d9-18ca4fe5a937": {
     "id": "01ab9067-898c-46a1-91d9-18ca4fe5a937",
     "prev": "008a788b-b456-4a0c-8288-6f60967c483e",
     "regions": {
      "42da7aa5-8de9-4631-8abe-4ab35c510140": {
       "attrs": {
        "height": 0.8,
        "width": 0.8,
        "x": 0.1,
        "y": 0.1
       },
       "content": {
        "cell": "7f0f7ef4-e90b-41de-8f73-6165e1b3c1cb",
        "part": "whole"
       },
       "id": "42da7aa5-8de9-4631-8abe-4ab35c510140"
      }
     }
    },
    "02225e5f-f35d-40ef-8f23-5431b19121ab": {
     "id": "02225e5f-f35d-40ef-8f23-5431b19121ab",
     "prev": "430a8f03-8947-469c-a376-2f271448284d",
     "regions": {
      "5bf42e3a-831e-4238-ae19-d2212b26edc0": {
       "attrs": {
        "height": 0.8,
        "width": 0.8,
        "x": 0.1,
        "y": 0.1
       },
       "content": {
        "cell": "c68c4e4e-072e-4620-a325-3ebb19ebe1ce",
        "part": "whole"
       },
       "id": "5bf42e3a-831e-4238-ae19-d2212b26edc0"
      }
     }
    },
    "094d2d0d-c7e5-40bc-bed7-bd80198e8e18": {
     "id": "094d2d0d-c7e5-40bc-bed7-bd80198e8e18",
     "prev": "de950ae7-a7c1-424c-afe2-42f481db181e",
     "regions": {
      "95429590-c6e8-4e00-a061-62d2a454c52f": {
       "attrs": {
        "height": 0.8,
        "width": 0.8,
        "x": 0.1,
        "y": 0.1
       },
       "content": {
        "cell": "aa08360f-e7dd-4647-bbfb-cadd5f19af31",
        "part": "whole"
       },
       "id": "95429590-c6e8-4e00-a061-62d2a454c52f"
      }
     }
    },
    "0aa8229e-9b5c-4f49-bd1e-34de4cd2e82f": {
     "id": "0aa8229e-9b5c-4f49-bd1e-34de4cd2e82f",
     "prev": "11f1d1c4-4848-4b7d-a62d-5427e055bbe3",
     "regions": {
      "9504ff07-d651-4294-ba2e-a89ec52ca708": {
       "attrs": {
        "height": 0.8,
        "width": 0.8,
        "x": 0.1,
        "y": 0.1
       },
       "content": {
        "cell": "e73995f2-c960-4881-b3d3-82c24b06c64c",
        "part": "whole"
       },
       "id": "9504ff07-d651-4294-ba2e-a89ec52ca708"
      }
     }
    },
    "0c50d9ca-fef0-4e5c-8a4e-f18d1c2dbb9e": {
     "id": "0c50d9ca-fef0-4e5c-8a4e-f18d1c2dbb9e",
     "prev": "b248eaf4-2e85-4c32-8f88-7b2ef510ee7c",
     "regions": {
      "8b734704-6740-44f7-8c87-17350c882ed3": {
       "attrs": {
        "height": 0.8,
        "width": 0.8,
        "x": 0.1,
        "y": 0.1
       },
       "content": {
        "cell": "cc42c471-e943-450e-a441-3dc962f1c40d",
        "part": "whole"
       },
       "id": "8b734704-6740-44f7-8c87-17350c882ed3"
      }
     }
    },
    "107cd2c7-0a77-4fd7-922b-56df6615dcca": {
     "id": "107cd2c7-0a77-4fd7-922b-56df6615dcca",
     "prev": "2e7deda1-5486-4b26-8e0a-c91e4c88dbe8",
     "regions": {
      "2ee1a19b-7a00-46b1-b393-485ddb7c2b9b": {
       "attrs": {
        "height": 0.8,
        "width": 0.8,
        "x": 0.1,
        "y": 0.1
       },
       "content": {
        "cell": "d27b23aa-809c-4965-8399-5e67901e2ae4",
        "part": "whole"
       },
       "id": "2ee1a19b-7a00-46b1-b393-485ddb7c2b9b"
      }
     }
    },
    "11f1d1c4-4848-4b7d-a62d-5427e055bbe3": {
     "id": "11f1d1c4-4848-4b7d-a62d-5427e055bbe3",
     "prev": "9461c0f4-d87e-441d-915d-95c69b105ecb",
     "regions": {
      "185d0c6f-1e15-43e1-81f5-1234d5ac3ade": {
       "attrs": {
        "height": 0.8,
        "width": 0.8,
        "x": 0.1,
        "y": 0.1
       },
       "content": {
        "cell": "18703937-12da-40b5-960d-e7a50467e7d0",
        "part": "whole"
       },
       "id": "185d0c6f-1e15-43e1-81f5-1234d5ac3ade"
      }
     }
    },
    "17036b1e-8781-4a7e-a909-a179f499bbc9": {
     "id": "17036b1e-8781-4a7e-a909-a179f499bbc9",
     "prev": "5494c0f6-12d4-4627-9481-26c7858f8f09",
     "regions": {
      "4757fb07-c8f0-49b5-bb28-9a5bb61995ff": {
       "attrs": {
        "height": 0.8,
        "width": 0.8,
        "x": 0.1,
        "y": 0.1
       },
       "content": {
        "cell": "6452b3ab-84b7-4f3c-b74f-ae118e4ed9f2",
        "part": "whole"
       },
       "id": "4757fb07-c8f0-49b5-bb28-9a5bb61995ff"
      }
     }
    },
    "1d02d174-1ae1-4900-bb8e-92083b3f723b": {
     "id": "1d02d174-1ae1-4900-bb8e-92083b3f723b",
     "prev": "466c6928-dc5e-4aeb-abad-2dbb2c797793",
     "regions": {
      "2e5e7aee-fec1-4322-82df-30c9bda076ce": {
       "attrs": {
        "height": 0.8,
        "width": 0.8,
        "x": 0.1,
        "y": 0.1
       },
       "content": {
        "cell": "e89daf11-82d5-4ae2-905b-b73662884e4e",
        "part": "whole"
       },
       "id": "2e5e7aee-fec1-4322-82df-30c9bda076ce"
      }
     }
    },
    "26984d6c-6cdd-4fb6-a80c-b16f643b3802": {
     "id": "26984d6c-6cdd-4fb6-a80c-b16f643b3802",
     "prev": "dfaeb098-c3a9-4980-ae35-70f9b6296a7d",
     "regions": {
      "e3a7924f-b4ad-4919-b97c-a9f0da0027ec": {
       "attrs": {
        "height": 0.8,
        "width": 0.8,
        "x": 0.1,
        "y": 0.1
       },
       "content": {
        "cell": "5683d4a6-3bdb-44ea-8a8e-6203da028f73",
        "part": "whole"
       },
       "id": "e3a7924f-b4ad-4919-b97c-a9f0da0027ec"
      }
     }
    },
    "2e7deda1-5486-4b26-8e0a-c91e4c88dbe8": {
     "id": "2e7deda1-5486-4b26-8e0a-c91e4c88dbe8",
     "prev": "67a167dd-f578-4c00-9a52-77864d640afa",
     "regions": {
      "eb91815b-1df2-4bfb-b2d9-b47359f388f3": {
       "attrs": {
        "height": 0.8,
        "width": 0.8,
        "x": 0.1,
        "y": 0.1
       },
       "content": {
        "cell": "2b936ae8-a540-4353-8b1d-42f7a3bdc763",
        "part": "whole"
       },
       "id": "eb91815b-1df2-4bfb-b2d9-b47359f388f3"
      }
     }
    },
    "35c31f44-06e2-4d75-a9b7-0c168d125d04": {
     "id": "35c31f44-06e2-4d75-a9b7-0c168d125d04",
     "prev": "8b46588c-ad23-4509-b67d-62702ed7afd1",
     "regions": {
      "82c3daba-b8de-42a1-b157-7274603802ae": {
       "attrs": {
        "height": 0.8,
        "width": 0.8,
        "x": 0.1,
        "y": 0.1
       },
       "content": {
        "cell": "35e93b3d-957c-4833-a2a5-b980ecffa5b1",
        "part": "whole"
       },
       "id": "82c3daba-b8de-42a1-b157-7274603802ae"
      }
     }
    },
    "3671ddb9-95b3-4245-b062-03cc90ea386d": {
     "id": "3671ddb9-95b3-4245-b062-03cc90ea386d",
     "prev": "3c3ef584-2982-4a35-afcf-4772c65dc2ac",
     "regions": {
      "faddc9ae-ef33-4d8e-a04e-e9f73ea0310e": {
       "attrs": {
        "height": 0.8,
        "width": 0.8,
        "x": 0.1,
        "y": 0.1
       },
       "content": {
        "cell": "bea98316-c64e-4810-b176-ed4947524f8c",
        "part": "whole"
       },
       "id": "faddc9ae-ef33-4d8e-a04e-e9f73ea0310e"
      }
     }
    },
    "37edb96d-7d51-438f-bd46-fc06e161e205": {
     "id": "37edb96d-7d51-438f-bd46-fc06e161e205",
     "prev": "58980228-1ba8-4ba6-89d3-dd7694662786",
     "regions": {
      "d1ee61d0-5e72-4925-b975-1cc103761137": {
       "attrs": {
        "height": 0.8,
        "width": 0.8,
        "x": 0.1,
        "y": 0.1
       },
       "content": {
        "cell": "b0fc1861-b979-45c5-abd0-3b05200de3b6",
        "part": "whole"
       },
       "id": "d1ee61d0-5e72-4925-b975-1cc103761137"
      }
     }
    },
    "3a9ce2a4-6dd4-463e-8d2d-4aa731447f39": {
     "id": "3a9ce2a4-6dd4-463e-8d2d-4aa731447f39",
     "prev": "0aa8229e-9b5c-4f49-bd1e-34de4cd2e82f",
     "regions": {
      "80f94dd5-569c-4105-9db9-746bc3a0d979": {
       "attrs": {
        "height": 0.8,
        "width": 0.8,
        "x": 0.1,
        "y": 0.1
       },
       "content": {
        "cell": "d3d6e29a-a939-4ab4-95e0-5645d4eb97a4",
        "part": "whole"
       },
       "id": "80f94dd5-569c-4105-9db9-746bc3a0d979"
      }
     }
    },
    "3c3ef584-2982-4a35-afcf-4772c65dc2ac": {
     "id": "3c3ef584-2982-4a35-afcf-4772c65dc2ac",
     "prev": "523566b9-8158-4001-91b2-f7d1d61ec04b",
     "regions": {
      "8182730f-8099-4a3f-815d-c92171a084a7": {
       "attrs": {
        "height": 0.8,
        "width": 0.8,
        "x": 0.1,
        "y": 0.1
       },
       "content": {
        "cell": "2ff35469-eeef-46b0-8b36-f2b6d4580bd4",
        "part": "whole"
       },
       "id": "8182730f-8099-4a3f-815d-c92171a084a7"
      }
     }
    },
    "3e8e0818-4535-4e50-b8da-423cfa6bda87": {
     "id": "3e8e0818-4535-4e50-b8da-423cfa6bda87",
     "prev": "bff971e4-b2b6-497d-8f6b-6401514ee2ca",
     "regions": {
      "859f95ab-5314-4f50-9fc8-7f8a76741c82": {
       "attrs": {
        "height": 0.8,
        "width": 0.8,
        "x": 0.1,
        "y": 0.1
       },
       "content": {
        "cell": "0893c4bd-30b9-4137-bc19-c40d5def546a",
        "part": "whole"
       },
       "id": "859f95ab-5314-4f50-9fc8-7f8a76741c82"
      }
     }
    },
    "430a8f03-8947-469c-a376-2f271448284d": {
     "id": "430a8f03-8947-469c-a376-2f271448284d",
     "prev": "ae384cc7-844b-4a3a-816d-4275e60a5020",
     "regions": {
      "cc346300-13a7-4c57-9eea-13d379d8f845": {
       "attrs": {
        "height": 0.8,
        "width": 0.8,
        "x": 0.1,
        "y": 0.1
       },
       "content": {
        "cell": "3b3885c1-a497-4d41-bb48-76a6d8b43a62",
        "part": "whole"
       },
       "id": "cc346300-13a7-4c57-9eea-13d379d8f845"
      }
     }
    },
    "43517c80-f987-4261-bad2-6844f9f11a43": {
     "id": "43517c80-f987-4261-bad2-6844f9f11a43",
     "prev": "02225e5f-f35d-40ef-8f23-5431b19121ab",
     "regions": {
      "386e1c27-adc8-4888-b278-a730e1a06a1b": {
       "attrs": {
        "height": 0.8,
        "width": 0.8,
        "x": 0.1,
        "y": 0.1
       },
       "content": {
        "cell": "c34d5c93-c65c-4e47-8c92-b38faead2dc2",
        "part": "whole"
       },
       "id": "386e1c27-adc8-4888-b278-a730e1a06a1b"
      }
     }
    },
    "466c6928-dc5e-4aeb-abad-2dbb2c797793": {
     "id": "466c6928-dc5e-4aeb-abad-2dbb2c797793",
     "prev": "01ab9067-898c-46a1-91d9-18ca4fe5a937",
     "regions": {
      "dadc7530-a88a-474c-93b1-a6b13fdeb671": {
       "attrs": {
        "height": 0.8,
        "width": 0.8,
        "x": 0.1,
        "y": 0.1
       },
       "content": {
        "cell": "07dd10e2-514b-4435-afa4-cab572e54611",
        "part": "whole"
       },
       "id": "dadc7530-a88a-474c-93b1-a6b13fdeb671"
      }
     }
    },
    "523566b9-8158-4001-91b2-f7d1d61ec04b": {
     "id": "523566b9-8158-4001-91b2-f7d1d61ec04b",
     "prev": "db6c2c84-14f3-4a3f-972c-ea1e9b45b091",
     "regions": {
      "fa40db73-7f38-419f-b6d1-2d0c9854ad3d": {
       "attrs": {
        "height": 0.8,
        "width": 0.8,
        "x": 0.1,
        "y": 0.1
       },
       "content": {
        "cell": "9c7b5502-7d21-45ef-9801-c8ab89c0cb1b",
        "part": "whole"
       },
       "id": "fa40db73-7f38-419f-b6d1-2d0c9854ad3d"
      }
     }
    },
    "5342b691-167b-4e0f-a28f-aee2f74648b3": {
     "id": "5342b691-167b-4e0f-a28f-aee2f74648b3",
     "prev": "9750cf96-7612-4159-bac1-bf26fe2f60c8",
     "regions": {
      "8bf6c96e-7113-4293-9db9-3999fd5dc82b": {
       "attrs": {
        "height": 0.8,
        "width": 0.8,
        "x": 0.1,
        "y": 0.1
       },
       "content": {
        "cell": "21eb3ee8-f72c-4842-a2b2-98bc6b4b06b2",
        "part": "whole"
       },
       "id": "8bf6c96e-7113-4293-9db9-3999fd5dc82b"
      }
     }
    },
    "5494c0f6-12d4-4627-9481-26c7858f8f09": {
     "id": "5494c0f6-12d4-4627-9481-26c7858f8f09",
     "prev": "3671ddb9-95b3-4245-b062-03cc90ea386d",
     "regions": {
      "8f4923d7-89d2-4193-a542-786412d24121": {
       "attrs": {
        "height": 0.8,
        "width": 0.8,
        "x": 0.1,
        "y": 0.1
       },
       "content": {
        "cell": "47413f67-a333-4cd6-8a6e-6b268aa4f4ff",
        "part": "whole"
       },
       "id": "8f4923d7-89d2-4193-a542-786412d24121"
      }
     }
    },
    "57d8f821-fdaf-412d-bc5c-fbaf939e7850": {
     "id": "57d8f821-fdaf-412d-bc5c-fbaf939e7850",
     "prev": "5342b691-167b-4e0f-a28f-aee2f74648b3",
     "regions": {
      "595c1191-37e3-41c2-8807-172c5221490d": {
       "attrs": {
        "height": 0.8,
        "width": 0.8,
        "x": 0.1,
        "y": 0.1
       },
       "content": {
        "cell": "885a45ac-f069-4988-b245-fcd79646e17f",
        "part": "whole"
       },
       "id": "595c1191-37e3-41c2-8807-172c5221490d"
      }
     }
    },
    "58980228-1ba8-4ba6-89d3-dd7694662786": {
     "id": "58980228-1ba8-4ba6-89d3-dd7694662786",
     "prev": "ee0491f8-b146-4b0e-99d3-ceb5eb2f3a1d",
     "regions": {
      "c5224b5d-aad4-4862-a3d1-7e6996d3d33d": {
       "attrs": {
        "height": 0.8,
        "width": 0.8,
        "x": 0.1,
        "y": 0.1
       },
       "content": {
        "cell": "8972370e-3b2e-4fe5-b7d5-e6f410f4df68",
        "part": "whole"
       },
       "id": "c5224b5d-aad4-4862-a3d1-7e6996d3d33d"
      }
     }
    },
    "58fe1e15-bd81-4c14-8c10-08606b7f56ae": {
     "id": "58fe1e15-bd81-4c14-8c10-08606b7f56ae",
     "prev": "8511eb84-692c-4a63-b3c3-7e1f86c137bd",
     "regions": {
      "c29ef705-df31-4240-987b-1697100d6ae4": {
       "attrs": {
        "height": 0.8,
        "width": 0.8,
        "x": 0.1,
        "y": 0.1
       },
       "content": {
        "cell": "b5e81c61-d695-4fc4-b784-45ed41026d4a",
        "part": "whole"
       },
       "id": "c29ef705-df31-4240-987b-1697100d6ae4"
      }
     }
    },
    "6156681f-3fe2-4d80-aab1-f7c28e200404": {
     "id": "6156681f-3fe2-4d80-aab1-f7c28e200404",
     "prev": "c17f7347-3cbe-420c-a499-3131e4eaac59",
     "regions": {
      "28d9588e-1085-432e-9b58-6e28c4d7c74f": {
       "attrs": {
        "height": 0.8,
        "width": 0.8,
        "x": 0.1,
        "y": 0.1
       },
       "content": {
        "cell": "3dbf6370-0a3a-44be-ade7-2a32586e4508",
        "part": "whole"
       },
       "id": "28d9588e-1085-432e-9b58-6e28c4d7c74f"
      }
     }
    },
    "67a167dd-f578-4c00-9a52-77864d640afa": {
     "id": "67a167dd-f578-4c00-9a52-77864d640afa",
     "prev": "b7ce05ff-6ab9-49ba-9235-05d97e6d8b19",
     "regions": {
      "b3a441dc-47d2-402e-b9fe-68a0472d5670": {
       "attrs": {
        "height": 0.8,
        "width": 0.8,
        "x": 0.1,
        "y": 0.1
       },
       "content": {
        "cell": "a67a0f57-b7bb-4ad2-89a8-f53f514d52d5",
        "part": "whole"
       },
       "id": "b3a441dc-47d2-402e-b9fe-68a0472d5670"
      }
     }
    },
    "76cecc6a-4ff3-4f36-9fcd-dc72da22db7a": {
     "id": "76cecc6a-4ff3-4f36-9fcd-dc72da22db7a",
     "prev": "107cd2c7-0a77-4fd7-922b-56df6615dcca",
     "regions": {
      "3d9e9ca1-88f1-4d57-b1ce-1cd3377e1f1e": {
       "attrs": {
        "height": 0.8,
        "width": 0.8,
        "x": 0.1,
        "y": 0.1
       },
       "content": {
        "cell": "c3f25ce7-4ac2-4e7e-ae0d-0d354b7aa34a",
        "part": "whole"
       },
       "id": "3d9e9ca1-88f1-4d57-b1ce-1cd3377e1f1e"
      }
     }
    },
    "7a3d7039-5de1-4759-9129-49437077ec67": {
     "id": "7a3d7039-5de1-4759-9129-49437077ec67",
     "prev": "76cecc6a-4ff3-4f36-9fcd-dc72da22db7a",
     "regions": {
      "f8ee8b52-b882-4e27-b1e2-4db18e65b256": {
       "attrs": {
        "height": 0.8,
        "width": 0.8,
        "x": 0.1,
        "y": 0.1
       },
       "content": {
        "cell": "4a0d9ca6-f3a4-453d-b52e-ad5d17ca5883",
        "part": "whole"
       },
       "id": "f8ee8b52-b882-4e27-b1e2-4db18e65b256"
      }
     }
    },
    "7c9758fa-71de-4938-8eed-be5dabd2d61c": {
     "id": "7c9758fa-71de-4938-8eed-be5dabd2d61c",
     "prev": "3e8e0818-4535-4e50-b8da-423cfa6bda87",
     "regions": {
      "94b0287c-da12-4bf9-ab24-b6041cab0a0f": {
       "attrs": {
        "height": 0.8,
        "width": 0.8,
        "x": 0.1,
        "y": 0.1
       },
       "content": {
        "cell": "5e5e8200-af66-4ffa-85d8-0ca019d398d8",
        "part": "whole"
       },
       "id": "94b0287c-da12-4bf9-ab24-b6041cab0a0f"
      }
     }
    },
    "8511eb84-692c-4a63-b3c3-7e1f86c137bd": {
     "id": "8511eb84-692c-4a63-b3c3-7e1f86c137bd",
     "prev": "3a9ce2a4-6dd4-463e-8d2d-4aa731447f39",
     "regions": {
      "d512994f-a930-4cb5-9feb-0c9e9b3eca21": {
       "attrs": {
        "height": 0.8,
        "width": 0.8,
        "x": 0.1,
        "y": 0.1
       },
       "content": {
        "cell": "93a5d1f3-e3b5-4840-95c2-503725844dc3",
        "part": "whole"
       },
       "id": "d512994f-a930-4cb5-9feb-0c9e9b3eca21"
      }
     }
    },
    "863c2f5d-5ed6-4abd-9212-ac3aa08b7c2d": {
     "id": "863c2f5d-5ed6-4abd-9212-ac3aa08b7c2d",
     "prev": "fa1e9266-57b6-41c8-9ad2-05119a8154fa",
     "regions": {
      "2efc3ace-624d-49f2-8602-18d3ce4fd9d1": {
       "attrs": {
        "height": 0.8,
        "width": 0.8,
        "x": 0.1,
        "y": 0.1
       },
       "content": {
        "cell": "1c22acff-5c31-4b42-a557-2be121021d1e",
        "part": "whole"
       },
       "id": "2efc3ace-624d-49f2-8602-18d3ce4fd9d1"
      }
     }
    },
    "8a00b47c-c1da-479f-b5e8-16224b1bc1ad": {
     "id": "8a00b47c-c1da-479f-b5e8-16224b1bc1ad",
     "prev": "c372f9ff-ce00-4768-8a0a-cb894e0fa65d",
     "regions": {
      "88f7e3bd-c1f1-4783-aa29-4b3871ed83c9": {
       "attrs": {
        "height": 0.8,
        "width": 0.8,
        "x": 0.1,
        "y": 0.1
       },
       "content": {
        "cell": "4bcabd6c-13d5-4a8e-a4cf-46d12550458b",
        "part": "whole"
       },
       "id": "88f7e3bd-c1f1-4783-aa29-4b3871ed83c9"
      }
     }
    },
    "8b46588c-ad23-4509-b67d-62702ed7afd1": {
     "id": "8b46588c-ad23-4509-b67d-62702ed7afd1",
     "prev": "37edb96d-7d51-438f-bd46-fc06e161e205",
     "regions": {
      "6e4458c9-28eb-4025-8ac9-d7fc0ffb8fee": {
       "attrs": {
        "height": 0.8,
        "width": 0.8,
        "x": 0.1,
        "y": 0.1
       },
       "content": {
        "cell": "575abe68-ac1a-489a-8b14-aef861c188e3",
        "part": "whole"
       },
       "id": "6e4458c9-28eb-4025-8ac9-d7fc0ffb8fee"
      }
     }
    },
    "92033db1-1754-4f97-a65f-d7fcd5e5ef5f": {
     "id": "92033db1-1754-4f97-a65f-d7fcd5e5ef5f",
     "prev": "7c9758fa-71de-4938-8eed-be5dabd2d61c",
     "regions": {
      "73b1869c-52b3-4f19-8918-f9d27d1ce96a": {
       "attrs": {
        "height": 0.8,
        "width": 0.8,
        "x": 0.1,
        "y": 0.1
       },
       "content": {
        "cell": "31f1dd1c-7279-4590-a581-4789248b9d95",
        "part": "whole"
       },
       "id": "73b1869c-52b3-4f19-8918-f9d27d1ce96a"
      }
     }
    },
    "9461c0f4-d87e-441d-915d-95c69b105ecb": {
     "id": "9461c0f4-d87e-441d-915d-95c69b105ecb",
     "prev": "92033db1-1754-4f97-a65f-d7fcd5e5ef5f",
     "regions": {
      "4dd7f598-05d6-4e49-883d-978967a66cc5": {
       "attrs": {
        "height": 0.8,
        "width": 0.8,
        "x": 0.1,
        "y": 0.1
       },
       "content": {
        "cell": "674e452c-7ba7-4c07-be5e-1e73553f8849",
        "part": "whole"
       },
       "id": "4dd7f598-05d6-4e49-883d-978967a66cc5"
      }
     }
    },
    "94c7954c-21de-44d2-81f0-746748834167": {
     "id": "94c7954c-21de-44d2-81f0-746748834167",
     "prev": "d806c3fb-ea3d-4b90-be5b-e78113b3e887",
     "regions": {
      "a853df0e-2a78-45f8-8841-72a437ba5d68": {
       "attrs": {
        "height": 0.8,
        "width": 0.8,
        "x": 0.1,
        "y": 0.1
       },
       "content": {
        "cell": "f581b3c5-979f-4ad2-95b7-e89dc86afee3",
        "part": "whole"
       },
       "id": "a853df0e-2a78-45f8-8841-72a437ba5d68"
      }
     }
    },
    "94c969b1-892d-4f1a-a832-8154573c893c": {
     "id": "94c969b1-892d-4f1a-a832-8154573c893c",
     "prev": "94c7954c-21de-44d2-81f0-746748834167",
     "regions": {
      "c1ade563-9e9b-490c-970b-37faba235b7e": {
       "attrs": {
        "height": 0.8,
        "width": 0.8,
        "x": 0.1,
        "y": 0.1
       },
       "content": {
        "cell": "e965b847-7d60-48e2-b72f-972816a1e6fc",
        "part": "whole"
       },
       "id": "c1ade563-9e9b-490c-970b-37faba235b7e"
      }
     }
    },
    "9750cf96-7612-4159-bac1-bf26fe2f60c8": {
     "id": "9750cf96-7612-4159-bac1-bf26fe2f60c8",
     "prev": "94c969b1-892d-4f1a-a832-8154573c893c",
     "regions": {
      "116d14ce-3f3d-44a1-aa86-61b1ac19354f": {
       "attrs": {
        "height": 0.8,
        "width": 0.8,
        "x": 0.1,
        "y": 0.1
       },
       "content": {
        "cell": "ddd82eaf-9b54-48bf-ac57-aa797a3a970a",
        "part": "whole"
       },
       "id": "116d14ce-3f3d-44a1-aa86-61b1ac19354f"
      }
     }
    },
    "a40bc8a7-660a-4478-8071-b97c5127c4b5": {
     "id": "a40bc8a7-660a-4478-8071-b97c5127c4b5",
     "prev": "863c2f5d-5ed6-4abd-9212-ac3aa08b7c2d",
     "regions": {
      "929e10a6-a0b0-4d31-99b1-311fcfc150a1": {
       "attrs": {
        "height": 0.8,
        "width": 0.8,
        "x": 0.1,
        "y": 0.1
       },
       "content": {
        "cell": "d7d32de7-bcdd-486d-b6c9-d5caad1164e3",
        "part": "whole"
       },
       "id": "929e10a6-a0b0-4d31-99b1-311fcfc150a1"
      }
     }
    },
    "ae384cc7-844b-4a3a-816d-4275e60a5020": {
     "id": "ae384cc7-844b-4a3a-816d-4275e60a5020",
     "prev": "26984d6c-6cdd-4fb6-a80c-b16f643b3802",
     "regions": {
      "b7a26fcd-98a6-4c24-893f-14ab3d6257bb": {
       "attrs": {
        "height": 0.8,
        "width": 0.8,
        "x": 0.1,
        "y": 0.1
       },
       "content": {
        "cell": "ddc73611-ffe2-434e-b3bd-cd417ef42b68",
        "part": "whole"
       },
       "id": "b7a26fcd-98a6-4c24-893f-14ab3d6257bb"
      }
     }
    },
    "b248eaf4-2e85-4c32-8f88-7b2ef510ee7c": {
     "id": "b248eaf4-2e85-4c32-8f88-7b2ef510ee7c",
     "prev": null,
     "regions": {
      "729796eb-5023-4fc8-b32f-83045cda3258": {
       "attrs": {
        "height": 0.8,
        "width": 0.8,
        "x": 0.1,
        "y": 0.1
       },
       "content": {
        "cell": "dad3a857-8628-4c15-a8ad-312792cb88ac",
        "part": "whole"
       },
       "id": "729796eb-5023-4fc8-b32f-83045cda3258"
      }
     }
    },
    "b7ce05ff-6ab9-49ba-9235-05d97e6d8b19": {
     "id": "b7ce05ff-6ab9-49ba-9235-05d97e6d8b19",
     "prev": "fd5b9f11-7cb4-4280-8955-7da1f2a0eafd",
     "regions": {
      "44f843a2-f9a7-4c01-be36-f2b39de5a725": {
       "attrs": {
        "height": 0.8,
        "width": 0.8,
        "x": 0.1,
        "y": 0.1
       },
       "content": {
        "cell": "852d31b9-64ee-4906-8865-dc217141338a",
        "part": "whole"
       },
       "id": "44f843a2-f9a7-4c01-be36-f2b39de5a725"
      }
     }
    },
    "bff971e4-b2b6-497d-8f6b-6401514ee2ca": {
     "id": "bff971e4-b2b6-497d-8f6b-6401514ee2ca",
     "prev": "7a3d7039-5de1-4759-9129-49437077ec67",
     "regions": {
      "07dd02d3-5ac3-4d96-9291-c3870d15f11e": {
       "attrs": {
        "height": 0.8,
        "width": 0.8,
        "x": 0.1,
        "y": 0.1
       },
       "content": {
        "cell": "31a44e48-3de3-4fa2-9c03-2063209cce11",
        "part": "whole"
       },
       "id": "07dd02d3-5ac3-4d96-9291-c3870d15f11e"
      }
     }
    },
    "c17f7347-3cbe-420c-a499-3131e4eaac59": {
     "id": "c17f7347-3cbe-420c-a499-3131e4eaac59",
     "prev": "57d8f821-fdaf-412d-bc5c-fbaf939e7850",
     "regions": {
      "7d4b25fd-aa9a-4d62-8181-05324639ff0d": {
       "attrs": {
        "height": 0.8,
        "width": 0.8,
        "x": 0.1,
        "y": 0.1
       },
       "content": {
        "cell": "35043c9c-279e-47cd-b82f-9dae8c5f9fec",
        "part": "whole"
       },
       "id": "7d4b25fd-aa9a-4d62-8181-05324639ff0d"
      }
     }
    },
    "c372f9ff-ce00-4768-8a0a-cb894e0fa65d": {
     "id": "c372f9ff-ce00-4768-8a0a-cb894e0fa65d",
     "prev": "35c31f44-06e2-4d75-a9b7-0c168d125d04",
     "regions": {
      "c3931b7b-0a33-46e0-a5b6-6b33b0075fd5": {
       "attrs": {
        "height": 0.8,
        "width": 0.8,
        "x": 0.1,
        "y": 0.1
       },
       "content": {
        "cell": "6dccff7c-9bb1-447a-9692-656ca1687626",
        "part": "whole"
       },
       "id": "c3931b7b-0a33-46e0-a5b6-6b33b0075fd5"
      }
     }
    },
    "d806c3fb-ea3d-4b90-be5b-e78113b3e887": {
     "id": "d806c3fb-ea3d-4b90-be5b-e78113b3e887",
     "prev": "094d2d0d-c7e5-40bc-bed7-bd80198e8e18",
     "regions": {
      "8ec4249f-2827-4eb0-bb27-152d4dea703f": {
       "attrs": {
        "height": 0.8,
        "width": 0.8,
        "x": 0.1,
        "y": 0.1
       },
       "content": {
        "cell": "25b7da30-19eb-4326-ba15-d969f9c1ad12",
        "part": "whole"
       },
       "id": "8ec4249f-2827-4eb0-bb27-152d4dea703f"
      }
     }
    },
    "db6c2c84-14f3-4a3f-972c-ea1e9b45b091": {
     "id": "db6c2c84-14f3-4a3f-972c-ea1e9b45b091",
     "prev": "ff25a0ae-0958-4983-b72b-6d655554983e",
     "regions": {
      "33e20b90-5ef8-482a-af30-6ebe50fa5247": {
       "attrs": {
        "height": 0.8,
        "width": 0.8,
        "x": 0.1,
        "y": 0.1
       },
       "content": {
        "cell": "b2282939-76b5-4358-8caf-bda59cd4dfc8",
        "part": "whole"
       },
       "id": "33e20b90-5ef8-482a-af30-6ebe50fa5247"
      }
     }
    },
    "de950ae7-a7c1-424c-afe2-42f481db181e": {
     "id": "de950ae7-a7c1-424c-afe2-42f481db181e",
     "prev": "58fe1e15-bd81-4c14-8c10-08606b7f56ae",
     "regions": {
      "157e2366-91bc-4374-b005-296b72401f19": {
       "attrs": {
        "height": 0.8,
        "width": 0.8,
        "x": 0.1,
        "y": 0.1
       },
       "content": {
        "cell": "6eff5466-e51a-40e9-b5d6-0e511d329721",
        "part": "whole"
       },
       "id": "157e2366-91bc-4374-b005-296b72401f19"
      }
     }
    },
    "dfaeb098-c3a9-4980-ae35-70f9b6296a7d": {
     "id": "dfaeb098-c3a9-4980-ae35-70f9b6296a7d",
     "prev": "a40bc8a7-660a-4478-8071-b97c5127c4b5",
     "regions": {
      "ff8a9509-83fc-43b8-b85d-05642f796426": {
       "attrs": {
        "height": 0.8,
        "width": 0.8,
        "x": 0.1,
        "y": 0.1
       },
       "content": {
        "cell": "139cbba6-15fb-4eb9-b2d8-a25bdbf3a874",
        "part": "whole"
       },
       "id": "ff8a9509-83fc-43b8-b85d-05642f796426"
      }
     }
    },
    "ee0491f8-b146-4b0e-99d3-ceb5eb2f3a1d": {
     "id": "ee0491f8-b146-4b0e-99d3-ceb5eb2f3a1d",
     "prev": "0c50d9ca-fef0-4e5c-8a4e-f18d1c2dbb9e",
     "regions": {
      "7e1317fc-37fb-47f2-9822-1b464ab3a0f1": {
       "attrs": {
        "height": 0.8,
        "width": 0.8,
        "x": 0.1,
        "y": 0.1
       },
       "content": {
        "cell": "93b648ee-643e-46b2-a289-f6b562875bc4",
        "part": "whole"
       },
       "id": "7e1317fc-37fb-47f2-9822-1b464ab3a0f1"
      }
     }
    },
    "fa1e9266-57b6-41c8-9ad2-05119a8154fa": {
     "id": "fa1e9266-57b6-41c8-9ad2-05119a8154fa",
     "prev": "1d02d174-1ae1-4900-bb8e-92083b3f723b",
     "regions": {
      "642cb521-a4bf-4bdf-94e4-c4e1db951bed": {
       "attrs": {
        "height": 0.8,
        "width": 0.8,
        "x": 0.1,
        "y": 0.1
       },
       "content": {
        "cell": "7bcdf43b-5617-4e59-b3d7-0c3706c527f1",
        "part": "whole"
       },
       "id": "642cb521-a4bf-4bdf-94e4-c4e1db951bed"
      }
     }
    },
    "fd5b9f11-7cb4-4280-8955-7da1f2a0eafd": {
     "id": "fd5b9f11-7cb4-4280-8955-7da1f2a0eafd",
     "prev": "8a00b47c-c1da-479f-b5e8-16224b1bc1ad",
     "regions": {
      "bafa4b52-8d5e-4af8-9b56-5cfb28caec46": {
       "attrs": {
        "height": 0.8,
        "width": 0.8,
        "x": 0.1,
        "y": 0.1
       },
       "content": {
        "cell": "d110e3f4-e865-4198-8668-17bd4f1e9540",
        "part": "whole"
       },
       "id": "bafa4b52-8d5e-4af8-9b56-5cfb28caec46"
      }
     }
    },
    "ff25a0ae-0958-4983-b72b-6d655554983e": {
     "id": "ff25a0ae-0958-4983-b72b-6d655554983e",
     "prev": "6156681f-3fe2-4d80-aab1-f7c28e200404",
     "regions": {
      "4536da0e-7194-48f1-a4eb-13fb6d74ecf5": {
       "attrs": {
        "height": 0.8,
        "width": 0.8,
        "x": 0.1,
        "y": 0.1
       },
       "content": {
        "cell": "72beaf23-bcc8-4311-b327-b67a3b07436a",
        "part": "whole"
       },
       "id": "4536da0e-7194-48f1-a4eb-13fb6d74ecf5"
      }
     }
    }
   },
   "themes": {}
  }
 },
 "nbformat": 4,
 "nbformat_minor": 4
}
