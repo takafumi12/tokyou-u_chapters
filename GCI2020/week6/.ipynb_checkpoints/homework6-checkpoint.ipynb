{
 "cells": [
  {
   "cell_type": "markdown",
   "metadata": {},
   "source": [
    "# 課題（iLect上で提出してください）"
   ]
  },
  {
   "cell_type": "markdown",
   "metadata": {},
   "source": [
    "## 機械学習の基礎（教師なし学習）"
   ]
  },
  {
   "cell_type": "markdown",
   "metadata": {},
   "source": [
    "homework3などで扱った購買データを利用して以下の問いに答えて、課題を提出してください。（データの前処理は、以下の記載の通りに行ってください。）\n",
    "    \n",
    "講義資料の最後の総合問題で求めた最も支持度が高かった商品の2つの組み合わせについて、**リフト値**を求めてください。\n",
    "\n",
    "提出するときは、以下の点に注意してください。  \n",
    ">- 以下の関数homeworkの!!WRITE ME!!に処理を書いてください。(**「!!WRITE ME!!」は消して、記入してください。**)\n",
    ">- 実際の提出は記述されたhomework関数全てになり、**提出場所はilect右上にある青字のHomeworkドロップダウンメニューからHomework 6を選んでください。Solutionに関数を貼り付けてからSaveを押してください。**\n",
    ">- 前処理は以下のコードを使ってください。  \n",
    ">- 返り値が数値型になるようにしてください。  "
   ]
  },
  {
   "cell_type": "code",
   "execution_count": 1,
   "metadata": {},
   "outputs": [],
   "source": [
    "# common\n",
    "import pandas as pd\n",
    "import numpy as np\n",
    "\n",
    "## init part(データの読み込みと前処理)\n",
    "file_url = \"http://archive.ics.uci.edu/ml/machine-learning-databases/00352/Online%20Retail.xlsx\"\n",
    "online_retail_data = pd.ExcelFile(file_url)\n",
    "online_retail_data_table = online_retail_data.parse('Online Retail')\n",
    "\n",
    "online_retail_data_table['cancel_flg'] = online_retail_data_table.InvoiceNo.map(lambda x:str(x)[0])\n",
    "\n",
    "# 数字があるものとIDがNullでないものが対象\n",
    "target_online_retail_data_tb = online_retail_data_table[(online_retail_data_table.cancel_flg == '5') \n",
    "                                                        & (online_retail_data_table.CustomerID.notnull())]\n",
    "\n",
    "target_online_retail_data_tb = target_online_retail_data_tb.assign(TotalPrice=target_online_retail_data_tb.Quantity * target_online_retail_data_tb.UnitPrice)"
   ]
  },
  {
   "cell_type": "code",
   "execution_count": 2,
   "metadata": {},
   "outputs": [],
   "source": [
    "# working place. everything \n",
    "def homework(target_online_retail_data_tb):\n",
    "    !!WRITE ME!!\n",
    "    return my_result  "
   ]
  },
  {
   "cell_type": "code",
   "execution_count": 43,
   "metadata": {},
   "outputs": [
    {
     "data": {
      "text/plain": [
       "Index(['85123A',    22423, '85099B',    84879,    47566,    20725,    22720,\n",
       "          20727,   'POST',    23203,\n",
       "       ...\n",
       "          23630, '84802B',    84539, '84743C', '90024C',    84550,    84551,\n",
       "          90167,    90168, '37491D'],\n",
       "      dtype='object', length=3665)"
      ]
     },
     "execution_count": 43,
     "metadata": {},
     "output_type": "execute_result"
    }
   ],
   "source": [
    "goods_index = target_online_retail_data_tb[\"StockCode\"].value_counts().index\n",
    "\n",
    "for i in range(1000):\n",
    "    for j in range(1000):\n",
    "        if(i!=j):\n",
    "            set_i = set(target_online_retail_data_tb[target_online_retail_data_tb[\"StockCode\"]==goods_index[i]].InvoiceNo)\n",
    "            set_j = set(target_online_retail_data_tb[target_online_retail_data_tb[\"StockCode\"]==goods_index[j]].InvoiceNo)\n",
    "            set_ij = len(set_a&set_b)"
   ]
  },
  {
   "cell_type": "code",
   "execution_count": 19,
   "metadata": {},
   "outputs": [],
   "source": [
    "goods_a, goods_b = target_online_retail_data_tb[\"StockCode\"].value_counts().index"
   ]
  },
  {
   "cell_type": "code",
   "execution_count": 34,
   "metadata": {},
   "outputs": [],
   "source": [
    "set_total = set(target_online_retail_data_tb.InvoiceNo)\n",
    "set_a = set(target_online_retail_data_tb[target_online_retail_data_tb[\"StockCode\"]==goods_a].InvoiceNo)\n",
    "set_b = set(target_online_retail_data_tb[target_online_retail_data_tb[\"StockCode\"]==goods_b].InvoiceNo)\n",
    "set_ab = set_a&set_b"
   ]
  },
  {
   "cell_type": "code",
   "execution_count": 37,
   "metadata": {},
   "outputs": [
    {
     "data": {
      "text/plain": [
       "1.2923733842217442"
      ]
     },
     "execution_count": 37,
     "metadata": {},
     "output_type": "execute_result"
    }
   ],
   "source": [
    "(len(set_ab)/len(set_b))/(len(set_a)/len(set_total))"
   ]
  },
  {
   "cell_type": "code",
   "execution_count": 33,
   "metadata": {},
   "outputs": [],
   "source": [
    "basket = target_online_retail_data_tb.groupby(\"InvoiceNo\")"
   ]
  },
  {
   "cell_type": "code",
   "execution_count": 40,
   "metadata": {},
   "outputs": [],
   "source": [
    "\n",
    "online_retail_data_table_first = target_online_retail_data_tb[target_online_retail_data_tb[\"StockCode\"]==20725]\n",
    "online_retail_data_table_second = target_online_retail_data_tb[target_online_retail_data_tb[\"StockCode\"]==22383]\n",
    "\n",
    "merge_one_second = pd.merge(online_retail_data_table_first\n",
    "                         ,online_retail_data_table_second\n",
    "                         ,on=\"InvoiceNo\"\n",
    "                         ,how=\"inner\")\n",
    "\n",
    "a = len(merge_one_second.InvoiceNo.unique()) / len(online_retail_data_table_second.InvoiceNo.unique())\n",
    "b = len(online_retail_data_table_first.InvoiceNo.unique()) / len(target_online_retail_data_tb.InvoiceNo.unique())\n",
    "\n",
    "my_result = a / b"
   ]
  },
  {
   "cell_type": "code",
   "execution_count": 41,
   "metadata": {},
   "outputs": [
    {
     "data": {
      "text/plain": [
       "7.155601605739844"
      ]
     },
     "execution_count": 41,
     "metadata": {},
     "output_type": "execute_result"
    }
   ],
   "source": [
    "my_result"
   ]
  },
  {
   "cell_type": "code",
   "execution_count": 42,
   "metadata": {},
   "outputs": [
    {
     "data": {
      "text/plain": [
       "Index(['85123A', 22423], dtype='object')"
      ]
     },
     "execution_count": 42,
     "metadata": {},
     "output_type": "execute_result"
    }
   ],
   "source": [
    "target_online_retail_data_tb[\"StockCode\"].value_counts()[:2].index"
   ]
  },
  {
   "cell_type": "code",
   "execution_count": null,
   "metadata": {},
   "outputs": [],
   "source": []
  }
 ],
 "metadata": {
  "anaconda-cloud": {},
  "kernelspec": {
   "display_name": "Python 3",
   "language": "python",
   "name": "python3"
  },
  "language_info": {
   "codemirror_mode": {
    "name": "ipython",
    "version": 3
   },
   "file_extension": ".py",
   "mimetype": "text/x-python",
   "name": "python",
   "nbconvert_exporter": "python",
   "pygments_lexer": "ipython3",
   "version": "3.6.9"
  }
 },
 "nbformat": 4,
 "nbformat_minor": 4
}
