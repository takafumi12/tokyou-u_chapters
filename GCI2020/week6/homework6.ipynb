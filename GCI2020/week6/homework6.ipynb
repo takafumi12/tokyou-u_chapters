{
 "cells": [
  {
   "cell_type": "markdown",
   "metadata": {},
   "source": [
    "# 課題（iLect上で提出してください）"
   ]
  },
  {
   "cell_type": "markdown",
   "metadata": {},
   "source": [
    "## 機械学習の基礎（教師なし学習）"
   ]
  },
  {
   "cell_type": "markdown",
   "metadata": {},
   "source": [
    "homework3などで扱った購買データを利用して以下の問いに答えて、課題を提出してください。（データの前処理は、以下の記載の通りに行ってください。）\n",
    "    \n",
    "講義資料の最後の総合問題で求めた最も支持度が高かった商品の2つの組み合わせについて、**リフト値**を求めてください。  \n",
    "最も支持度が高かった商品の`\"StockCode\"`は、再度求める必要は無く、コード内で直接記入していただいて構いません。\n",
    "\n",
    "提出するときは、以下の点に注意してください。  \n",
    ">- 以下の関数homeworkの!!WRITE ME!!に処理を書いてください。(**「!!WRITE ME!!」は消して、記入してください。**)\n",
    ">- 実際の提出は記述されたhomework関数全てになり、**提出場所はilect右上にある青字のHomeworkドロップダウンメニューからHomework 6を選んでください。Solutionに関数を貼り付けてからSaveを押してください。**\n",
    ">- 前処理は以下のコードを使ってください。  \n",
    ">- 返り値が数値型になるようにしてください。  "
   ]
  },
  {
   "cell_type": "code",
   "execution_count": 1,
   "metadata": {},
   "outputs": [],
   "source": [
    "# common\n",
    "import pandas as pd\n",
    "import numpy as np\n",
    "\n",
    "## init part(データの読み込みと前処理)\n",
    "file_url = \"http://archive.ics.uci.edu/ml/machine-learning-databases/00352/Online%20Retail.xlsx\"\n",
    "online_retail_data = pd.ExcelFile(file_url)\n",
    "online_retail_data_table = online_retail_data.parse('Online Retail')\n",
    "\n",
    "online_retail_data_table['cancel_flg'] = online_retail_data_table.InvoiceNo.map(lambda x:str(x)[0])\n",
    "\n",
    "# 数字があるものとIDがNullでないものが対象\n",
    "target_online_retail_data_tb = online_retail_data_table[(online_retail_data_table.cancel_flg == '5') \n",
    "                                                        & (online_retail_data_table.CustomerID.notnull())]\n",
    "\n",
    "target_online_retail_data_tb = target_online_retail_data_tb.assign(TotalPrice=target_online_retail_data_tb.Quantity * target_online_retail_data_tb.UnitPrice)"
   ]
  },
  {
   "cell_type": "code",
   "execution_count": 23,
   "metadata": {},
   "outputs": [],
   "source": [
    "# working place. everything \n",
    "def homework(target_online_retail_data_tb):\n",
    "    \n",
    "    # 最も支持率が高かった組み合わせ\n",
    "    best_combination_StockCode = [20725, 22383]\n",
    "    \n",
    "    target_online_retail_data_tb_all = set(target_online_retail_data_tb.InvoiceNo) \n",
    "    \n",
    "    target_online_retail_data_tb_a = \\\n",
    "    set(target_online_retail_data_tb[target_online_retail_data_tb['StockCode']==best_combination_StockCode[0]].InvoiceNo)\n",
    "\n",
    "    target_online_retail_data_tb_b = \\\n",
    "    set(target_online_retail_data_tb[target_online_retail_data_tb['StockCode']==best_combination_StockCode[1]].InvoiceNo)\n",
    "    \n",
    "    target_online_retail_data_tb_ab = target_online_retail_data_tb_a&target_online_retail_data_tb_b\n",
    "    \n",
    "    # 全体のバスケットに占める商品Bの購買率を計算\n",
    "    support_b = len(target_online_retail_data_tb_b) / len(target_online_retail_data_tb_all)\n",
    "    \n",
    "    # 商品Aを購買したときの商品Bの購買率を計算\n",
    "    confidence = len(target_online_retail_data_tb_ab) / len(target_online_retail_data_tb_a)\n",
    "    \n",
    "    my_result = confidence / support_b\n",
    "    \n",
    "    return my_result"
   ]
  },
  {
   "cell_type": "code",
   "execution_count": 24,
   "metadata": {},
   "outputs": [
    {
     "data": {
      "text/plain": [
       "7.155601605739843"
      ]
     },
     "execution_count": 24,
     "metadata": {},
     "output_type": "execute_result"
    }
   ],
   "source": [
    "homework(target_online_retail_data_tb)"
   ]
  },
  {
   "cell_type": "code",
   "execution_count": 3,
   "metadata": {},
   "outputs": [
    {
     "data": {
      "text/html": [
       "<div>\n",
       "<style scoped>\n",
       "    .dataframe tbody tr th:only-of-type {\n",
       "        vertical-align: middle;\n",
       "    }\n",
       "\n",
       "    .dataframe tbody tr th {\n",
       "        vertical-align: top;\n",
       "    }\n",
       "\n",
       "    .dataframe thead th {\n",
       "        text-align: right;\n",
       "    }\n",
       "</style>\n",
       "<table border=\"1\" class=\"dataframe\">\n",
       "  <thead>\n",
       "    <tr style=\"text-align: right;\">\n",
       "      <th></th>\n",
       "      <th>InvoiceNo</th>\n",
       "      <th>StockCode</th>\n",
       "      <th>Description</th>\n",
       "      <th>Quantity</th>\n",
       "      <th>InvoiceDate</th>\n",
       "      <th>UnitPrice</th>\n",
       "      <th>CustomerID</th>\n",
       "      <th>Country</th>\n",
       "      <th>cancel_flg</th>\n",
       "      <th>TotalPrice</th>\n",
       "    </tr>\n",
       "  </thead>\n",
       "  <tbody>\n",
       "    <tr>\n",
       "      <th>0</th>\n",
       "      <td>536365</td>\n",
       "      <td>85123A</td>\n",
       "      <td>WHITE HANGING HEART T-LIGHT HOLDER</td>\n",
       "      <td>6</td>\n",
       "      <td>2010-12-01 08:26:00</td>\n",
       "      <td>2.55</td>\n",
       "      <td>17850.0</td>\n",
       "      <td>United Kingdom</td>\n",
       "      <td>5</td>\n",
       "      <td>15.30</td>\n",
       "    </tr>\n",
       "    <tr>\n",
       "      <th>1</th>\n",
       "      <td>536365</td>\n",
       "      <td>71053</td>\n",
       "      <td>WHITE METAL LANTERN</td>\n",
       "      <td>6</td>\n",
       "      <td>2010-12-01 08:26:00</td>\n",
       "      <td>3.39</td>\n",
       "      <td>17850.0</td>\n",
       "      <td>United Kingdom</td>\n",
       "      <td>5</td>\n",
       "      <td>20.34</td>\n",
       "    </tr>\n",
       "    <tr>\n",
       "      <th>2</th>\n",
       "      <td>536365</td>\n",
       "      <td>84406B</td>\n",
       "      <td>CREAM CUPID HEARTS COAT HANGER</td>\n",
       "      <td>8</td>\n",
       "      <td>2010-12-01 08:26:00</td>\n",
       "      <td>2.75</td>\n",
       "      <td>17850.0</td>\n",
       "      <td>United Kingdom</td>\n",
       "      <td>5</td>\n",
       "      <td>22.00</td>\n",
       "    </tr>\n",
       "    <tr>\n",
       "      <th>3</th>\n",
       "      <td>536365</td>\n",
       "      <td>84029G</td>\n",
       "      <td>KNITTED UNION FLAG HOT WATER BOTTLE</td>\n",
       "      <td>6</td>\n",
       "      <td>2010-12-01 08:26:00</td>\n",
       "      <td>3.39</td>\n",
       "      <td>17850.0</td>\n",
       "      <td>United Kingdom</td>\n",
       "      <td>5</td>\n",
       "      <td>20.34</td>\n",
       "    </tr>\n",
       "    <tr>\n",
       "      <th>4</th>\n",
       "      <td>536365</td>\n",
       "      <td>84029E</td>\n",
       "      <td>RED WOOLLY HOTTIE WHITE HEART.</td>\n",
       "      <td>6</td>\n",
       "      <td>2010-12-01 08:26:00</td>\n",
       "      <td>3.39</td>\n",
       "      <td>17850.0</td>\n",
       "      <td>United Kingdom</td>\n",
       "      <td>5</td>\n",
       "      <td>20.34</td>\n",
       "    </tr>\n",
       "  </tbody>\n",
       "</table>\n",
       "</div>"
      ],
      "text/plain": [
       "  InvoiceNo StockCode                          Description  Quantity  \\\n",
       "0    536365    85123A   WHITE HANGING HEART T-LIGHT HOLDER         6   \n",
       "1    536365     71053                  WHITE METAL LANTERN         6   \n",
       "2    536365    84406B       CREAM CUPID HEARTS COAT HANGER         8   \n",
       "3    536365    84029G  KNITTED UNION FLAG HOT WATER BOTTLE         6   \n",
       "4    536365    84029E       RED WOOLLY HOTTIE WHITE HEART.         6   \n",
       "\n",
       "          InvoiceDate  UnitPrice  CustomerID         Country cancel_flg  \\\n",
       "0 2010-12-01 08:26:00       2.55     17850.0  United Kingdom          5   \n",
       "1 2010-12-01 08:26:00       3.39     17850.0  United Kingdom          5   \n",
       "2 2010-12-01 08:26:00       2.75     17850.0  United Kingdom          5   \n",
       "3 2010-12-01 08:26:00       3.39     17850.0  United Kingdom          5   \n",
       "4 2010-12-01 08:26:00       3.39     17850.0  United Kingdom          5   \n",
       "\n",
       "   TotalPrice  \n",
       "0       15.30  \n",
       "1       20.34  \n",
       "2       22.00  \n",
       "3       20.34  \n",
       "4       20.34  "
      ]
     },
     "execution_count": 3,
     "metadata": {},
     "output_type": "execute_result"
    }
   ],
   "source": [
    "target_online_retail_data_tb.head()"
   ]
  },
  {
   "cell_type": "code",
   "execution_count": null,
   "metadata": {},
   "outputs": [],
   "source": []
  },
  {
   "cell_type": "code",
   "execution_count": 12,
   "metadata": {},
   "outputs": [],
   "source": [
    "best_combination_StockCode = [20725, 22383]"
   ]
  },
  {
   "cell_type": "code",
   "execution_count": 19,
   "metadata": {},
   "outputs": [
    {
     "name": "stdout",
     "output_type": "stream",
     "text": [
      "18536\n",
      "1289\n",
      "1043\n",
      "519\n"
     ]
    }
   ],
   "source": [
    "target_online_retail_data_tb_all = set(target_online_retail_data_tb.InvoiceNo) \n",
    "print(len(target_online_retail_data_tb_all))\n",
    "target_online_retail_data_tb_a = set(target_online_retail_data_tb[target_online_retail_data_tb['StockCode']==best_combination_StockCode[0]].InvoiceNo)\n",
    "print(len(target_online_retail_data_tb_a))\n",
    "target_online_retail_data_tb_b = set(target_online_retail_data_tb[target_online_retail_data_tb['StockCode']==best_combination_StockCode[1]].InvoiceNo)\n",
    "print(len(target_online_retail_data_tb_b))\n",
    "target_online_retail_data_tb_ab = target_online_retail_data_tb_a&target_online_retail_data_tb_b\n",
    "print(len(target_online_retail_data_tb_ab))"
   ]
  },
  {
   "cell_type": "code",
   "execution_count": 20,
   "metadata": {},
   "outputs": [],
   "source": [
    "# 全体のバスケットに占める商品Bの購買率を計算\n",
    "support_b = len(target_online_retail_data_tb_b) / len(target_online_retail_data_tb_all)\n",
    "# 商品Aを購買したときの商品Bの購買率を計算\n",
    "confidence = len(target_online_retail_data_tb_ab) / len(target_online_retail_data_tb_a)"
   ]
  },
  {
   "cell_type": "code",
   "execution_count": 21,
   "metadata": {},
   "outputs": [],
   "source": [
    "my_result = confidence / support_b"
   ]
  },
  {
   "cell_type": "code",
   "execution_count": 22,
   "metadata": {},
   "outputs": [
    {
     "data": {
      "text/plain": [
       "7.155601605739843"
      ]
     },
     "execution_count": 22,
     "metadata": {},
     "output_type": "execute_result"
    }
   ],
   "source": [
    "my_result"
   ]
  },
  {
   "cell_type": "code",
   "execution_count": 13,
   "metadata": {},
   "outputs": [],
   "source": [
    "def MarketBasketSupport(target_online_retail_data_tb,combination_StockCode):\n",
    "    # すべてのInvoiceNoをtarget_online_retail_data_tb_allとして抽出\n",
    "    target_online_retail_data_tb_all = set(target_online_retail_data_tb.InvoiceNo) \n",
    "    support = []\n",
    "    for StockCode in combination_StockCode:\n",
    "        target_online_retail_data_tb_a = set(target_online_retail_data_tb[target_online_retail_data_tb['StockCode']==StockCode[0]].InvoiceNo)\n",
    "        target_online_retail_data_tb_b = set(target_online_retail_data_tb[target_online_retail_data_tb['StockCode']==StockCode[1]].InvoiceNo)\n",
    "        target_online_retail_data_tb_ab = target_online_retail_data_tb_a&target_online_retail_data_tb_b\n",
    "        support.append(len(target_online_retail_data_tb_ab) / len(target_online_retail_data_tb_all))\n",
    "    \n",
    "    df_support = pd.DataFrame({'combination_StockCode': combination_StockCode,'support': support}).sort_values(\"support\",ascending=False)\n",
    "        \n",
    "    return df_support"
   ]
  },
  {
   "cell_type": "code",
   "execution_count": null,
   "metadata": {},
   "outputs": [],
   "source": [
    "df_support"
   ]
  },
  {
   "cell_type": "code",
   "execution_count": 37,
   "metadata": {},
   "outputs": [
    {
     "data": {
      "text/plain": [
       "1.2923733842217442"
      ]
     },
     "execution_count": 37,
     "metadata": {},
     "output_type": "execute_result"
    }
   ],
   "source": [
    "(len(set_ab)/len(set_b))/(len(set_a)/len(set_total))"
   ]
  },
  {
   "cell_type": "code",
   "execution_count": 33,
   "metadata": {},
   "outputs": [],
   "source": [
    "basket = target_online_retail_data_tb.groupby(\"InvoiceNo\")"
   ]
  },
  {
   "cell_type": "code",
   "execution_count": 40,
   "metadata": {},
   "outputs": [],
   "source": [
    "\n",
    "online_retail_data_table_first = target_online_retail_data_tb[target_online_retail_data_tb[\"StockCode\"]==20725]\n",
    "online_retail_data_table_second = target_online_retail_data_tb[target_online_retail_data_tb[\"StockCode\"]==22383]\n",
    "\n",
    "merge_one_second = pd.merge(online_retail_data_table_first\n",
    "                         ,online_retail_data_table_second\n",
    "                         ,on=\"InvoiceNo\"\n",
    "                         ,how=\"inner\")\n",
    "\n",
    "a = len(merge_one_second.InvoiceNo.unique()) / len(online_retail_data_table_second.InvoiceNo.unique())\n",
    "b = len(online_retail_data_table_first.InvoiceNo.unique()) / len(target_online_retail_data_tb.InvoiceNo.unique())\n",
    "\n",
    "my_result = a / b"
   ]
  },
  {
   "cell_type": "code",
   "execution_count": 41,
   "metadata": {},
   "outputs": [
    {
     "data": {
      "text/plain": [
       "7.155601605739844"
      ]
     },
     "execution_count": 41,
     "metadata": {},
     "output_type": "execute_result"
    }
   ],
   "source": [
    "my_result"
   ]
  },
  {
   "cell_type": "code",
   "execution_count": 42,
   "metadata": {},
   "outputs": [
    {
     "data": {
      "text/plain": [
       "Index(['85123A', 22423], dtype='object')"
      ]
     },
     "execution_count": 42,
     "metadata": {},
     "output_type": "execute_result"
    }
   ],
   "source": [
    "target_online_retail_data_tb[\"StockCode\"].value_counts()[:2].index"
   ]
  },
  {
   "cell_type": "code",
   "execution_count": null,
   "metadata": {},
   "outputs": [],
   "source": []
  }
 ],
 "metadata": {
  "anaconda-cloud": {},
  "kernelspec": {
   "display_name": "Python 3",
   "language": "python",
   "name": "python3"
  },
  "language_info": {
   "codemirror_mode": {
    "name": "ipython",
    "version": 3
   },
   "file_extension": ".py",
   "mimetype": "text/x-python",
   "name": "python",
   "nbconvert_exporter": "python",
   "pygments_lexer": "ipython3",
   "version": "3.7.3"
  }
 },
 "nbformat": 4,
 "nbformat_minor": 4
}
